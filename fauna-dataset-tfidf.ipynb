{
 "cells": [
  {
   "cell_type": "code",
   "execution_count": 1,
   "metadata": {
    "collapsed": false
   },
   "outputs": [
    {
     "name": "stderr",
     "output_type": "stream",
     "text": [
      "/Users/jeremy/Development/anaconda/envs/ml/lib/python3.6/site-packages/IPython/html.py:14: ShimWarning: The `IPython.html` package has been deprecated since IPython 4.0. You should import from `notebook` instead. `IPython.html.widgets` has moved to `ipywidgets`.\n",
      "  \"`IPython.html.widgets` has moved to `ipywidgets`.\", ShimWarning)\n"
     ]
    }
   ],
   "source": [
    "import os\n",
    "import re\n",
    "import sys\n",
    "import numpy as np\n",
    "import pandas as pd\n",
    "import seaborn as sns\n",
    "from matplotlib.pyplot import *\n",
    "from ml.tfidf import TFIDFModel\n",
    "%matplotlib inline"
   ]
  },
  {
   "cell_type": "markdown",
   "metadata": {},
   "source": [
    "### Clean up the data to remove duplicates, nulls and noise (wikipedia redirects)"
   ]
  },
  {
   "cell_type": "code",
   "execution_count": 2,
   "metadata": {
    "collapsed": false
   },
   "outputs": [],
   "source": [
    "#If new records have been added, run this routine to clean up and remove dups\n",
    "#fauna = pd.read_csv('./ml/datasets/fauna.csv.gz', compression='gzip')\n",
    "#print('fauna.shape before nulls removed', fauna.shape)\n",
    "#fauna = fauna[fauna['class'].notnull()]\n",
    "#fauna = fauna[fauna['text'].notnull()]\n",
    "#fauna = fauna[fauna['order'].notnull()]\n",
    "#print('fauna.shape after nulls removed', fauna.shape)\n",
    "#print('fauna.shape before duplicates removed', fauna.shape)\n",
    "#fauna = fauna.drop_duplicates(['page-id'], keep='first')\n",
    "#print('fauna.shape after duplicates removed', fauna.shape)\n",
    "#fauna = fauna.drop(fauna[fauna['text'].str.contains('This is a redirect')].index)\n",
    "#print('fauna.shape after redirects dropped', fauna.shape)\n",
    "#print(fauna.shape)\n",
    "#fauna.to_csv('./ml/datasets/fauna-{}.csv.gz'.format(fauna.shape[0]), compression='gzip', index=False)"
   ]
  },
  {
   "cell_type": "markdown",
   "metadata": {},
   "source": [
    "### Load the fauna data"
   ]
  },
  {
   "cell_type": "code",
   "execution_count": 3,
   "metadata": {
    "collapsed": true
   },
   "outputs": [],
   "source": [
    "fauna = pd.read_csv('./ml/datasets/fauna-53699.csv.gz', compression='gzip')"
   ]
  },
  {
   "cell_type": "code",
   "execution_count": 4,
   "metadata": {},
   "outputs": [
    {
     "name": "stdout",
     "output_type": "stream",
     "text": [
      "(53699, 10)\n"
     ]
    },
    {
     "data": {
      "text/html": [
       "<div>\n",
       "<style scoped>\n",
       "    .dataframe tbody tr th:only-of-type {\n",
       "        vertical-align: middle;\n",
       "    }\n",
       "\n",
       "    .dataframe tbody tr th {\n",
       "        vertical-align: top;\n",
       "    }\n",
       "\n",
       "    .dataframe thead th {\n",
       "        text-align: right;\n",
       "    }\n",
       "</style>\n",
       "<table border=\"1\" class=\"dataframe\">\n",
       "  <thead>\n",
       "    <tr style=\"text-align: right;\">\n",
       "      <th></th>\n",
       "      <th>class</th>\n",
       "      <th>family</th>\n",
       "      <th>genus</th>\n",
       "      <th>kingdom</th>\n",
       "      <th>order</th>\n",
       "      <th>page-id</th>\n",
       "      <th>phylum</th>\n",
       "      <th>species</th>\n",
       "      <th>text</th>\n",
       "      <th>title</th>\n",
       "    </tr>\n",
       "  </thead>\n",
       "  <tbody>\n",
       "    <tr>\n",
       "      <th>0</th>\n",
       "      <td>mammalia</td>\n",
       "      <td>muridae</td>\n",
       "      <td>acomysigeoffroy1838</td>\n",
       "      <td>animalia</td>\n",
       "      <td>rodentia</td>\n",
       "      <td>2375794</td>\n",
       "      <td>chordata</td>\n",
       "      <td>NaN</td>\n",
       "      <td>The term spiny mouse refers to any species of ...</td>\n",
       "      <td>Spiny mouse</td>\n",
       "    </tr>\n",
       "    <tr>\n",
       "      <th>1</th>\n",
       "      <td>mammalia</td>\n",
       "      <td>muridae</td>\n",
       "      <td>lophuromys</td>\n",
       "      <td>animalia</td>\n",
       "      <td>rodentia</td>\n",
       "      <td>12173296</td>\n",
       "      <td>chordata</td>\n",
       "      <td>lmelanonyx</td>\n",
       "      <td>The black-clawed brush-furred rat (Lophuromys ...</td>\n",
       "      <td>Black-clawed brush-furred rat</td>\n",
       "    </tr>\n",
       "    <tr>\n",
       "      <th>2</th>\n",
       "      <td>mammalia</td>\n",
       "      <td>erinaceidae</td>\n",
       "      <td>NaN</td>\n",
       "      <td>animalia</td>\n",
       "      <td>eulipotyphla</td>\n",
       "      <td>46590</td>\n",
       "      <td>chordata</td>\n",
       "      <td>NaN</td>\n",
       "      <td>A hedgehog is any of the spiny mammals of the ...</td>\n",
       "      <td>Hedgehog</td>\n",
       "    </tr>\n",
       "    <tr>\n",
       "      <th>3</th>\n",
       "      <td>mammalia</td>\n",
       "      <td>erinaceidae</td>\n",
       "      <td>hylomys</td>\n",
       "      <td>animalia</td>\n",
       "      <td>eulipotyphla</td>\n",
       "      <td>3422827</td>\n",
       "      <td>chordata</td>\n",
       "      <td>hparvus</td>\n",
       "      <td>The dwarf gymnure (Hylomys parvus) is a gymnur...</td>\n",
       "      <td>Dwarf gymnure</td>\n",
       "    </tr>\n",
       "    <tr>\n",
       "      <th>4</th>\n",
       "      <td>mammalia</td>\n",
       "      <td>muridae</td>\n",
       "      <td>acomys</td>\n",
       "      <td>animalia</td>\n",
       "      <td>rodentia</td>\n",
       "      <td>12171686</td>\n",
       "      <td>chordata</td>\n",
       "      <td>amullah</td>\n",
       "      <td>The Mullah spiny mouse (Acomys mullah) is a sp...</td>\n",
       "      <td>Mullah spiny mouse</td>\n",
       "    </tr>\n",
       "  </tbody>\n",
       "</table>\n",
       "</div>"
      ],
      "text/plain": [
       "      class       family                genus   kingdom         order  \\\n",
       "0  mammalia      muridae  acomysigeoffroy1838  animalia      rodentia   \n",
       "1  mammalia      muridae           lophuromys  animalia      rodentia   \n",
       "2  mammalia  erinaceidae                  NaN  animalia  eulipotyphla   \n",
       "3  mammalia  erinaceidae              hylomys  animalia  eulipotyphla   \n",
       "4  mammalia      muridae               acomys  animalia      rodentia   \n",
       "\n",
       "    page-id    phylum     species  \\\n",
       "0   2375794  chordata         NaN   \n",
       "1  12173296  chordata  lmelanonyx   \n",
       "2     46590  chordata         NaN   \n",
       "3   3422827  chordata     hparvus   \n",
       "4  12171686  chordata     amullah   \n",
       "\n",
       "                                                text  \\\n",
       "0  The term spiny mouse refers to any species of ...   \n",
       "1  The black-clawed brush-furred rat (Lophuromys ...   \n",
       "2  A hedgehog is any of the spiny mammals of the ...   \n",
       "3  The dwarf gymnure (Hylomys parvus) is a gymnur...   \n",
       "4  The Mullah spiny mouse (Acomys mullah) is a sp...   \n",
       "\n",
       "                           title  \n",
       "0                    Spiny mouse  \n",
       "1  Black-clawed brush-furred rat  \n",
       "2                       Hedgehog  \n",
       "3                  Dwarf gymnure  \n",
       "4             Mullah spiny mouse  "
      ]
     },
     "execution_count": 4,
     "metadata": {},
     "output_type": "execute_result"
    }
   ],
   "source": [
    "print(fauna.shape)\n",
    "fauna.head()"
   ]
  },
  {
   "cell_type": "markdown",
   "metadata": {},
   "source": [
    "### Visualize the number of records in each class"
   ]
  },
  {
   "cell_type": "code",
   "execution_count": 5,
   "metadata": {
    "collapsed": false
   },
   "outputs": [
    {
     "data": {
      "text/plain": [
       "<matplotlib.axes._subplots.AxesSubplot at 0x111a38d68>"
      ]
     },
     "execution_count": 5,
     "metadata": {},
     "output_type": "execute_result"
    },
    {
     "data": {
      "image/png": "[encoded data removed]",
      "text/plain": [
       "<matplotlib.figure.Figure at 0x111a2e320>"
      ]
     },
     "metadata": {},
     "output_type": "display_data"
    }
   ],
   "source": [
    "classes = fauna['genus'].value_counts()\n",
    "classes[0:30].plot(kind=\"bar\")"
   ]
  },
  {
   "cell_type": "markdown",
   "metadata": {},
   "source": [
    "\n",
    "### Basic filtering on various fields"
   ]
  },
  {
   "cell_type": "code",
   "execution_count": 6,
   "metadata": {
    "collapsed": false
   },
   "outputs": [
    {
     "data": {
      "text/html": [
       "<div>\n",
       "<style scoped>\n",
       "    .dataframe tbody tr th:only-of-type {\n",
       "        vertical-align: middle;\n",
       "    }\n",
       "\n",
       "    .dataframe tbody tr th {\n",
       "        vertical-align: top;\n",
       "    }\n",
       "\n",
       "    .dataframe thead th {\n",
       "        text-align: right;\n",
       "    }\n",
       "</style>\n",
       "<table border=\"1\" class=\"dataframe\">\n",
       "  <thead>\n",
       "    <tr style=\"text-align: right;\">\n",
       "      <th></th>\n",
       "      <th>class</th>\n",
       "      <th>family</th>\n",
       "      <th>genus</th>\n",
       "      <th>kingdom</th>\n",
       "      <th>order</th>\n",
       "      <th>page-id</th>\n",
       "      <th>phylum</th>\n",
       "      <th>species</th>\n",
       "      <th>text</th>\n",
       "      <th>title</th>\n",
       "    </tr>\n",
       "  </thead>\n",
       "  <tbody>\n",
       "    <tr>\n",
       "      <th>1317</th>\n",
       "      <td>mammalia</td>\n",
       "      <td>ailuridae</td>\n",
       "      <td>ailurusfcuvier1825</td>\n",
       "      <td>animalia</td>\n",
       "      <td>carnivora</td>\n",
       "      <td>26441</td>\n",
       "      <td>chordata</td>\n",
       "      <td>afulgens</td>\n",
       "      <td>The red panda (Ailurus fulgens), also called t...</td>\n",
       "      <td>Red panda</td>\n",
       "    </tr>\n",
       "  </tbody>\n",
       "</table>\n",
       "</div>"
      ],
      "text/plain": [
       "         class     family               genus   kingdom      order  page-id  \\\n",
       "1317  mammalia  ailuridae  ailurusfcuvier1825  animalia  carnivora    26441   \n",
       "\n",
       "        phylum   species                                               text  \\\n",
       "1317  chordata  afulgens  The red panda (Ailurus fulgens), also called t...   \n",
       "\n",
       "          title  \n",
       "1317  Red panda  "
      ]
     },
     "execution_count": 6,
     "metadata": {},
     "output_type": "execute_result"
    }
   ],
   "source": [
    "fauna[fauna['title']=='Red panda']"
   ]
  },
  {
   "cell_type": "markdown",
   "metadata": {},
   "source": [
    "### Comparing similar and disimilar species"
   ]
  },
  {
   "cell_type": "code",
   "execution_count": 7,
   "metadata": {
    "collapsed": false
   },
   "outputs": [
    {
     "data": {
      "text/html": [
       "<div>\n",
       "<style scoped>\n",
       "    .dataframe tbody tr th:only-of-type {\n",
       "        vertical-align: middle;\n",
       "    }\n",
       "\n",
       "    .dataframe tbody tr th {\n",
       "        vertical-align: top;\n",
       "    }\n",
       "\n",
       "    .dataframe thead th {\n",
       "        text-align: right;\n",
       "    }\n",
       "</style>\n",
       "<table border=\"1\" class=\"dataframe\">\n",
       "  <thead>\n",
       "    <tr style=\"text-align: right;\">\n",
       "      <th></th>\n",
       "      <th>class</th>\n",
       "      <th>family</th>\n",
       "      <th>genus</th>\n",
       "      <th>kingdom</th>\n",
       "      <th>order</th>\n",
       "      <th>page-id</th>\n",
       "      <th>phylum</th>\n",
       "      <th>species</th>\n",
       "      <th>text</th>\n",
       "      <th>title</th>\n",
       "    </tr>\n",
       "  </thead>\n",
       "  <tbody>\n",
       "    <tr>\n",
       "      <th>187</th>\n",
       "      <td>mammalia</td>\n",
       "      <td>ursidae</td>\n",
       "      <td>ailuropodamilneedwards1870</td>\n",
       "      <td>animalia</td>\n",
       "      <td>carnivora</td>\n",
       "      <td>339548</td>\n",
       "      <td>chordata</td>\n",
       "      <td>NaN</td>\n",
       "      <td>Ailuropoda is the only extant genus in the urs...</td>\n",
       "      <td>Ailuropoda</td>\n",
       "    </tr>\n",
       "    <tr>\n",
       "      <th>190</th>\n",
       "      <td>mammalia</td>\n",
       "      <td>ursidae</td>\n",
       "      <td>NaN</td>\n",
       "      <td>animalia</td>\n",
       "      <td>carnivora</td>\n",
       "      <td>5478888</td>\n",
       "      <td>chordata</td>\n",
       "      <td>NaN</td>\n",
       "      <td>Ailuropodinae is a subfamily of Ursidae that c...</td>\n",
       "      <td>Ailuropodinae</td>\n",
       "    </tr>\n",
       "    <tr>\n",
       "      <th>250</th>\n",
       "      <td>mammalia</td>\n",
       "      <td>ursidae</td>\n",
       "      <td>kretzoiarctosabellaetal2012</td>\n",
       "      <td>animalia</td>\n",
       "      <td>carnivora</td>\n",
       "      <td>46316720</td>\n",
       "      <td>chordata</td>\n",
       "      <td>kretzoiarctosbeatrixabellaetal2011</td>\n",
       "      <td>Kretzoiarctos beatrix is an extinct bear from ...</td>\n",
       "      <td>Kretzoiarctos beatrix</td>\n",
       "    </tr>\n",
       "    <tr>\n",
       "      <th>407</th>\n",
       "      <td>mammalia</td>\n",
       "      <td>ursidae</td>\n",
       "      <td>melursusmeyer1793</td>\n",
       "      <td>animalia</td>\n",
       "      <td>carnivora</td>\n",
       "      <td>399740</td>\n",
       "      <td>chordata</td>\n",
       "      <td>mursinus</td>\n",
       "      <td>The sloth bear (Melursus ursinus), also known ...</td>\n",
       "      <td>Sloth bear</td>\n",
       "    </tr>\n",
       "    <tr>\n",
       "      <th>1332</th>\n",
       "      <td>mammalia</td>\n",
       "      <td>ursidae</td>\n",
       "      <td>ursus</td>\n",
       "      <td>animalia</td>\n",
       "      <td>carnivora</td>\n",
       "      <td>51054</td>\n",
       "      <td>chordata</td>\n",
       "      <td>uamericanus</td>\n",
       "      <td>The American black bear (Ursus americanus) is ...</td>\n",
       "      <td>American black bear</td>\n",
       "    </tr>\n",
       "  </tbody>\n",
       "</table>\n",
       "</div>"
      ],
      "text/plain": [
       "         class   family                        genus   kingdom      order  \\\n",
       "187   mammalia  ursidae   ailuropodamilneedwards1870  animalia  carnivora   \n",
       "190   mammalia  ursidae                          NaN  animalia  carnivora   \n",
       "250   mammalia  ursidae  kretzoiarctosabellaetal2012  animalia  carnivora   \n",
       "407   mammalia  ursidae            melursusmeyer1793  animalia  carnivora   \n",
       "1332  mammalia  ursidae                        ursus  animalia  carnivora   \n",
       "\n",
       "       page-id    phylum                             species  \\\n",
       "187     339548  chordata                                 NaN   \n",
       "190    5478888  chordata                                 NaN   \n",
       "250   46316720  chordata  kretzoiarctosbeatrixabellaetal2011   \n",
       "407     399740  chordata                            mursinus   \n",
       "1332     51054  chordata                         uamericanus   \n",
       "\n",
       "                                                   text                  title  \n",
       "187   Ailuropoda is the only extant genus in the urs...             Ailuropoda  \n",
       "190   Ailuropodinae is a subfamily of Ursidae that c...          Ailuropodinae  \n",
       "250   Kretzoiarctos beatrix is an extinct bear from ...  Kretzoiarctos beatrix  \n",
       "407   The sloth bear (Melursus ursinus), also known ...             Sloth bear  \n",
       "1332  The American black bear (Ursus americanus) is ...    American black bear  "
      ]
     },
     "execution_count": 7,
     "metadata": {},
     "output_type": "execute_result"
    }
   ],
   "source": [
    "bears = fauna[fauna['family'] == 'ursidae']\n",
    "bears.head()"
   ]
  },
  {
   "cell_type": "code",
   "execution_count": 8,
   "metadata": {
    "collapsed": false
   },
   "outputs": [
    {
     "data": {
      "text/html": [
       "<div>\n",
       "<style scoped>\n",
       "    .dataframe tbody tr th:only-of-type {\n",
       "        vertical-align: middle;\n",
       "    }\n",
       "\n",
       "    .dataframe tbody tr th {\n",
       "        vertical-align: top;\n",
       "    }\n",
       "\n",
       "    .dataframe thead th {\n",
       "        text-align: right;\n",
       "    }\n",
       "</style>\n",
       "<table border=\"1\" class=\"dataframe\">\n",
       "  <thead>\n",
       "    <tr style=\"text-align: right;\">\n",
       "      <th></th>\n",
       "      <th>class</th>\n",
       "      <th>family</th>\n",
       "      <th>genus</th>\n",
       "      <th>kingdom</th>\n",
       "      <th>order</th>\n",
       "      <th>page-id</th>\n",
       "      <th>phylum</th>\n",
       "      <th>species</th>\n",
       "      <th>text</th>\n",
       "      <th>title</th>\n",
       "    </tr>\n",
       "  </thead>\n",
       "  <tbody>\n",
       "    <tr>\n",
       "      <th>134</th>\n",
       "      <td>chondrichthyes</td>\n",
       "      <td>lamnidae</td>\n",
       "      <td>carcharodonasmith1838</td>\n",
       "      <td>animalia</td>\n",
       "      <td>lamniformes</td>\n",
       "      <td>43619</td>\n",
       "      <td>chordata</td>\n",
       "      <td>ccarcharias</td>\n",
       "      <td>The great white shark (Carcharodon carcharias)...</td>\n",
       "      <td>Great white shark</td>\n",
       "    </tr>\n",
       "    <tr>\n",
       "      <th>2144</th>\n",
       "      <td>chondrichthyes</td>\n",
       "      <td>lamnidae</td>\n",
       "      <td>isurus</td>\n",
       "      <td>animalia</td>\n",
       "      <td>lamniformes</td>\n",
       "      <td>766132</td>\n",
       "      <td>chordata</td>\n",
       "      <td>ioxyrinchus</td>\n",
       "      <td>The shortfin mako shark (Isurus oxyrinchus), a...</td>\n",
       "      <td>Shortfin mako shark</td>\n",
       "    </tr>\n",
       "    <tr>\n",
       "      <th>3881</th>\n",
       "      <td>chondrichthyes</td>\n",
       "      <td>lamnidae</td>\n",
       "      <td>lamnacuvier1816</td>\n",
       "      <td>animalia</td>\n",
       "      <td>lamniformes</td>\n",
       "      <td>8874336</td>\n",
       "      <td>chordata</td>\n",
       "      <td>NaN</td>\n",
       "      <td>Lamna is a genus of mackerel sharks in the fam...</td>\n",
       "      <td>Lamna</td>\n",
       "    </tr>\n",
       "    <tr>\n",
       "      <th>4420</th>\n",
       "      <td>chondrichthyes</td>\n",
       "      <td>lamnidae</td>\n",
       "      <td>isurus</td>\n",
       "      <td>animalia</td>\n",
       "      <td>lamniformes</td>\n",
       "      <td>5640856</td>\n",
       "      <td>chordata</td>\n",
       "      <td>ipaucus</td>\n",
       "      <td>The longfin mako shark (Isurus paucus) is a sp...</td>\n",
       "      <td>Longfin mako shark</td>\n",
       "    </tr>\n",
       "    <tr>\n",
       "      <th>5269</th>\n",
       "      <td>chondrichthyes</td>\n",
       "      <td>lamnidae</td>\n",
       "      <td>isurus</td>\n",
       "      <td>animalia</td>\n",
       "      <td>lamniformes</td>\n",
       "      <td>47090510</td>\n",
       "      <td>chordata</td>\n",
       "      <td>iplanus</td>\n",
       "      <td>Isurus planus, also known as the hook-tooth ma...</td>\n",
       "      <td>Isurus planus</td>\n",
       "    </tr>\n",
       "  </tbody>\n",
       "</table>\n",
       "</div>"
      ],
      "text/plain": [
       "               class    family                  genus   kingdom        order  \\\n",
       "134   chondrichthyes  lamnidae  carcharodonasmith1838  animalia  lamniformes   \n",
       "2144  chondrichthyes  lamnidae                 isurus  animalia  lamniformes   \n",
       "3881  chondrichthyes  lamnidae        lamnacuvier1816  animalia  lamniformes   \n",
       "4420  chondrichthyes  lamnidae                 isurus  animalia  lamniformes   \n",
       "5269  chondrichthyes  lamnidae                 isurus  animalia  lamniformes   \n",
       "\n",
       "       page-id    phylum      species  \\\n",
       "134      43619  chordata  ccarcharias   \n",
       "2144    766132  chordata  ioxyrinchus   \n",
       "3881   8874336  chordata          NaN   \n",
       "4420   5640856  chordata      ipaucus   \n",
       "5269  47090510  chordata      iplanus   \n",
       "\n",
       "                                                   text                title  \n",
       "134   The great white shark (Carcharodon carcharias)...    Great white shark  \n",
       "2144  The shortfin mako shark (Isurus oxyrinchus), a...  Shortfin mako shark  \n",
       "3881  Lamna is a genus of mackerel sharks in the fam...                Lamna  \n",
       "4420  The longfin mako shark (Isurus paucus) is a sp...   Longfin mako shark  \n",
       "5269  Isurus planus, also known as the hook-tooth ma...        Isurus planus  "
      ]
     },
     "execution_count": 8,
     "metadata": {},
     "output_type": "execute_result"
    }
   ],
   "source": [
    "sharks = fauna[fauna['family'] == 'lamnidae']\n",
    "sharks.head()"
   ]
  },
  {
   "cell_type": "code",
   "execution_count": 9,
   "metadata": {
    "collapsed": false
   },
   "outputs": [
    {
     "data": {
      "text/html": [
       "<div>\n",
       "<style scoped>\n",
       "    .dataframe tbody tr th:only-of-type {\n",
       "        vertical-align: middle;\n",
       "    }\n",
       "\n",
       "    .dataframe tbody tr th {\n",
       "        vertical-align: top;\n",
       "    }\n",
       "\n",
       "    .dataframe thead th {\n",
       "        text-align: right;\n",
       "    }\n",
       "</style>\n",
       "<table border=\"1\" class=\"dataframe\">\n",
       "  <thead>\n",
       "    <tr style=\"text-align: right;\">\n",
       "      <th></th>\n",
       "      <th>class</th>\n",
       "      <th>family</th>\n",
       "      <th>genus</th>\n",
       "      <th>kingdom</th>\n",
       "      <th>order</th>\n",
       "      <th>page-id</th>\n",
       "      <th>phylum</th>\n",
       "      <th>species</th>\n",
       "      <th>text</th>\n",
       "      <th>title</th>\n",
       "    </tr>\n",
       "  </thead>\n",
       "  <tbody>\n",
       "    <tr>\n",
       "      <th>799</th>\n",
       "      <td>insecta</td>\n",
       "      <td>tenebrionidae</td>\n",
       "      <td>eleodeseschscholtz1829</td>\n",
       "      <td>animalia</td>\n",
       "      <td>coleoptera</td>\n",
       "      <td>17247312</td>\n",
       "      <td>arthropoda</td>\n",
       "      <td>NaN</td>\n",
       "      <td>Pinacate beetles, also known as stink beetles,...</td>\n",
       "      <td>Pinacate beetle</td>\n",
       "    </tr>\n",
       "    <tr>\n",
       "      <th>1139</th>\n",
       "      <td>insecta</td>\n",
       "      <td>NaN</td>\n",
       "      <td>NaN</td>\n",
       "      <td>animalia</td>\n",
       "      <td>coleoptera</td>\n",
       "      <td>339399</td>\n",
       "      <td>arthropoda</td>\n",
       "      <td>NaN</td>\n",
       "      <td>A weevil is a type of beetle from the Curculio...</td>\n",
       "      <td>Weevil</td>\n",
       "    </tr>\n",
       "    <tr>\n",
       "      <th>1572</th>\n",
       "      <td>insecta</td>\n",
       "      <td>carabidaelatreille1802</td>\n",
       "      <td>NaN</td>\n",
       "      <td>animalia</td>\n",
       "      <td>coleoptera</td>\n",
       "      <td>417048</td>\n",
       "      <td>arthropoda</td>\n",
       "      <td>NaN</td>\n",
       "      <td>Ground beetles are a large, cosmopolitan famil...</td>\n",
       "      <td>Ground beetle</td>\n",
       "    </tr>\n",
       "    <tr>\n",
       "      <th>1579</th>\n",
       "      <td>insecta</td>\n",
       "      <td>lutrochidaekasapcrowson1975</td>\n",
       "      <td>lutrochuserichson1847</td>\n",
       "      <td>animalia</td>\n",
       "      <td>coleoptera</td>\n",
       "      <td>855394</td>\n",
       "      <td>arthropoda</td>\n",
       "      <td>NaN</td>\n",
       "      <td>Lutrochidae is a family of water beetles somet...</td>\n",
       "      <td>Lutrochidae</td>\n",
       "    </tr>\n",
       "    <tr>\n",
       "      <th>1611</th>\n",
       "      <td>insecta</td>\n",
       "      <td>geotrupidaelatreille1802</td>\n",
       "      <td>NaN</td>\n",
       "      <td>animalia</td>\n",
       "      <td>coleoptera</td>\n",
       "      <td>2139411</td>\n",
       "      <td>arthropoda</td>\n",
       "      <td>NaN</td>\n",
       "      <td>Geotrupidae (from Greek geos, earth, and trype...</td>\n",
       "      <td>Geotrupidae</td>\n",
       "    </tr>\n",
       "  </tbody>\n",
       "</table>\n",
       "</div>"
      ],
      "text/plain": [
       "        class                       family                   genus   kingdom  \\\n",
       "799   insecta                tenebrionidae  eleodeseschscholtz1829  animalia   \n",
       "1139  insecta                          NaN                     NaN  animalia   \n",
       "1572  insecta       carabidaelatreille1802                     NaN  animalia   \n",
       "1579  insecta  lutrochidaekasapcrowson1975   lutrochuserichson1847  animalia   \n",
       "1611  insecta     geotrupidaelatreille1802                     NaN  animalia   \n",
       "\n",
       "           order   page-id      phylum species  \\\n",
       "799   coleoptera  17247312  arthropoda     NaN   \n",
       "1139  coleoptera    339399  arthropoda     NaN   \n",
       "1572  coleoptera    417048  arthropoda     NaN   \n",
       "1579  coleoptera    855394  arthropoda     NaN   \n",
       "1611  coleoptera   2139411  arthropoda     NaN   \n",
       "\n",
       "                                                   text            title  \n",
       "799   Pinacate beetles, also known as stink beetles,...  Pinacate beetle  \n",
       "1139  A weevil is a type of beetle from the Curculio...           Weevil  \n",
       "1572  Ground beetles are a large, cosmopolitan famil...    Ground beetle  \n",
       "1579  Lutrochidae is a family of water beetles somet...      Lutrochidae  \n",
       "1611  Geotrupidae (from Greek geos, earth, and trype...      Geotrupidae  "
      ]
     },
     "execution_count": 9,
     "metadata": {},
     "output_type": "execute_result"
    }
   ],
   "source": [
    "beetles = fauna[fauna['order'] == 'coleoptera']\n",
    "beetles.head()"
   ]
  },
  {
   "cell_type": "markdown",
   "metadata": {},
   "source": [
    "### Create a TFIDF Table"
   ]
  },
  {
   "cell_type": "code",
   "execution_count": 10,
   "metadata": {
    "collapsed": false,
    "scrolled": true
   },
   "outputs": [
    {
     "name": "stderr",
     "output_type": "stream",
     "text": [
      "/Users/jeremy/Development/lab/ml/ml/tfidf.py:63: RuntimeWarning: divide by zero encountered in true_divide\n",
      "  self.term_frequency = tf.multiply(csr_matrix(1/np.sqrt(tf.multiply(tf).sum(1))))\n"
     ]
    }
   ],
   "source": [
    "tfidf = TFIDFModel()\n",
    "tfidf.create(fauna, 'text', True)"
   ]
  },
  {
   "cell_type": "markdown",
   "metadata": {},
   "source": [
    "### Plot the term count over iterations"
   ]
  },
  {
   "cell_type": "code",
   "execution_count": 11,
   "metadata": {
    "collapsed": false
   },
   "outputs": [
    {
     "data": {
      "text/plain": [
       "<matplotlib.axes._subplots.AxesSubplot at 0x1175cb668>"
      ]
     },
     "execution_count": 11,
     "metadata": {},
     "output_type": "execute_result"
    },
    {
     "data": {
      "image/png": "[encoded data removed]",
      "text/plain": [
       "<matplotlib.figure.Figure at 0x1175cbef0>"
      ]
     },
     "metadata": {},
     "output_type": "display_data"
    }
   ],
   "source": [
    "term_count_series = pd.Series(tfidf.term_count_over_iterations)\n",
    "term_count_series.plot()"
   ]
  },
  {
   "cell_type": "markdown",
   "metadata": {},
   "source": [
    "### Top words for Asian black bear"
   ]
  },
  {
   "cell_type": "code",
   "execution_count": 12,
   "metadata": {
    "collapsed": false
   },
   "outputs": [
    {
     "name": "stdout",
     "output_type": "stream",
     "text": [
      "bears         1.340566\n",
      "bear          0.684123\n",
      "black         0.514237\n",
      "asian         0.292425\n",
      "to            0.140059\n",
      "will          0.125510\n",
      "and           0.124383\n",
      "have          0.105714\n",
      "asiatic       0.098804\n",
      "ursus         0.097197\n",
      "their         0.096326\n",
      "they          0.095895\n",
      "are           0.095319\n",
      "thibetanus    0.090546\n",
      "as            0.087520\n",
      "than          0.086124\n",
      "tiger         0.085674\n",
      "hunting       0.085575\n",
      "india         0.084920\n",
      "cubs          0.083660\n",
      "dtype: float64\n"
     ]
    }
   ],
   "source": [
    "abb_idx = fauna[fauna['title']=='Asian black bear'].index[0]\n",
    "print(tfidf.get_sorted_terms_for_document(abb_idx).head(20))"
   ]
  },
  {
   "cell_type": "markdown",
   "metadata": {},
   "source": [
    "### Top words for Sun bear"
   ]
  },
  {
   "cell_type": "code",
   "execution_count": 13,
   "metadata": {
    "collapsed": false
   },
   "outputs": [
    {
     "name": "stdout",
     "output_type": "stream",
     "text": [
      "sun           1.032571\n",
      "bear          0.956376\n",
      "bears         0.470372\n",
      "bile          0.286178\n",
      "malayanus     0.238481\n",
      "helarctos     0.225075\n",
      "honey         0.202648\n",
      "malayan       0.184175\n",
      "claws         0.176605\n",
      "and           0.169571\n",
      "kalimantan    0.157548\n",
      "are           0.149519\n",
      "mound         0.145788\n",
      "their         0.141885\n",
      "southeast     0.135953\n",
      "they          0.134890\n",
      "termites      0.129149\n",
      "for           0.117258\n",
      "sabah         0.115186\n",
      "paws          0.112623\n",
      "dtype: float64\n"
     ]
    }
   ],
   "source": [
    "sb_idx = fauna[fauna['title']=='Sun bear'].index[0]\n",
    "print(tfidf.get_sorted_terms_for_document(sb_idx).head(20))"
   ]
  },
  {
   "cell_type": "markdown",
   "metadata": {},
   "source": [
    "### Computer the Euclidean distance between the Asian black bear and the Sun bear"
   ]
  },
  {
   "cell_type": "code",
   "execution_count": 14,
   "metadata": {
    "collapsed": false
   },
   "outputs": [
    {
     "data": {
      "text/plain": [
       "1.898834915880105"
      ]
     },
     "execution_count": 14,
     "metadata": {},
     "output_type": "execute_result"
    }
   ],
   "source": [
    "asian_black_bear = tfidf[abb_idx].toarray()\n",
    "sun_bear = tfidf[sb_idx].toarray()\n",
    "np.linalg.norm(asian_black_bear - sun_bear)"
   ]
  },
  {
   "cell_type": "markdown",
   "metadata": {},
   "source": [
    "### Top words for Flatfish"
   ]
  },
  {
   "cell_type": "code",
   "execution_count": 22,
   "metadata": {
    "collapsed": false
   },
   "outputs": [
    {
     "name": "stdout",
     "output_type": "stream",
     "text": [
      "flatfishes        0.612517\n",
      "flatfish          0.460255\n",
      "side              0.248945\n",
      "families          0.223232\n",
      "soleidae          0.182676\n",
      "pleuronectidae    0.180269\n",
      "fish              0.173355\n",
      "bottom            0.168934\n",
      "head              0.148232\n",
      "hybrids           0.138811\n",
      "right             0.138650\n",
      "eyes              0.135971\n",
      "turbots           0.131364\n",
      "amphistium        0.131364\n",
      "dextral           0.128280\n",
      "achiridae         0.128280\n",
      "cynoglossidae     0.128280\n",
      "sinistral         0.125760\n",
      "platichthys       0.123630\n",
      "some              0.122857\n",
      "dtype: float64\n"
     ]
    }
   ],
   "source": [
    "ff_idx = fauna[fauna['title'] == 'Flatfish'].index[0]\n",
    "print(tfidf.get_sorted_terms_for_document(ff_idx).head(20))"
   ]
  },
  {
   "cell_type": "markdown",
   "metadata": {},
   "source": [
    "### Top words for Hagfish"
   ]
  },
  {
   "cell_type": "code",
   "execution_count": 23,
   "metadata": {
    "collapsed": false
   },
   "outputs": [
    {
     "name": "stdout",
     "output_type": "stream",
     "text": [
      "hagfish          2.021367\n",
      "slime            0.521616\n",
      "lampreys         0.281539\n",
      "myxine           0.275481\n",
      "vertebrates      0.240058\n",
      "craniata         0.197047\n",
      "duct             0.196514\n",
      "gill             0.164350\n",
      "to               0.163254\n",
      "knot             0.151613\n",
      "as               0.150045\n",
      "cyclostomata     0.141909\n",
      "gnathostomata    0.137740\n",
      "mucus            0.117616\n",
      "skin             0.112077\n",
      "their            0.110834\n",
      "opening          0.106651\n",
      "have             0.105548\n",
      "and              0.098852\n",
      "mesonephric      0.098523\n",
      "dtype: float64\n"
     ]
    }
   ],
   "source": [
    "hf_idx = fauna[fauna['title'] == 'Hagfish'].index[0]\n",
    "print(tfidf.get_sorted_terms_for_document(hf_idx).head(20))"
   ]
  },
  {
   "cell_type": "code",
   "execution_count": 26,
   "metadata": {
    "collapsed": false
   },
   "outputs": [
    {
     "data": {
      "text/plain": [
       "2.7082676133675863"
      ]
     },
     "execution_count": 26,
     "metadata": {},
     "output_type": "execute_result"
    }
   ],
   "source": [
    "# Euclidian distance between the Flatfish and the Hagfish\n",
    "flatfish = tfidf[ff_idx].toarray()\n",
    "hagfish = tfidf[hf_idx].toarray()\n",
    "np.linalg.norm(hagfish - flatfish)"
   ]
  },
  {
   "cell_type": "code",
   "execution_count": 27,
   "metadata": {
    "collapsed": false
   },
   "outputs": [
    {
     "data": {
      "text/plain": [
       "1.8988349158801048"
      ]
     },
     "execution_count": 27,
     "metadata": {},
     "output_type": "execute_result"
    }
   ],
   "source": [
    "# Euclidian distance between the Sub bear and the Hagfish\n",
    "np.linalg.norm(sun_bear - asian_black_bear)"
   ]
  }
 ],
 "metadata": {
  "kernelspec": {
   "display_name": "Python 3",
   "language": "python",
   "name": "python3"
  },
  "language_info": {
   "codemirror_mode": {
    "name": "ipython",
    "version": 3
   },
   "file_extension": ".py",
   "mimetype": "text/x-python",
   "name": "python",
   "nbconvert_exporter": "python",
   "pygments_lexer": "ipython3",
   "version": "3.6.3"
  },
  "widgets": {
   "state": {},
   "version": "1.1.2"
  }
 },
 "nbformat": 4,
 "nbformat_minor": 2
}
