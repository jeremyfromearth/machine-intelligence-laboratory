{
 "cells": [
  {
   "cell_type": "markdown",
   "metadata": {},
   "source": [
    "# SpaCy Tutorial"
   ]
  },
  {
   "cell_type": "code",
   "execution_count": 74,
   "metadata": {},
   "outputs": [],
   "source": [
    "import json\n",
    "import os\n",
    "import re\n",
    "import spacy\n",
    "from spacy.symbols import nsubj, NOUN, PUNCT, DET"
   ]
  },
  {
   "cell_type": "code",
   "execution_count": 107,
   "metadata": {},
   "outputs": [],
   "source": [
    "s = \"spaCy features a fast and accurate syntactic \"\\\n",
    "    \"dependency parser, and has a rich API for navigating the tree. \" \\\n",
    "    \"The parser also powers the sentence boundary detection, \"\\\n",
    "    \"and lets you iterate over base noun phrases, or 'chunks'\"\n",
    "nlp = spacy.load('en')\n",
    "doc = nlp(s)"
   ]
  },
  {
   "cell_type": "markdown",
   "metadata": {},
   "source": [
    "## POS (Part of Speech Tagging)"
   ]
  },
  {
   "cell_type": "code",
   "execution_count": 100,
   "metadata": {},
   "outputs": [
    {
     "name": "stdout",
     "output_type": "stream",
     "text": [
      "[('NOUN', spaCy), ('VERB', features), ('ADJ', fast), ('CCONJ', and), ('ADJ', accurate), ('ADJ', syntactic), ('NOUN', dependency), ('NOUN', parser), ('CCONJ', and), ('VERB', has), ('ADJ', rich), ('NOUN', API), ('ADP', for), ('VERB', navigating), ('NOUN', tree), ('NOUN', parser), ('ADV', also), ('VERB', powers), ('NOUN', sentence), ('ADJ', boundary), ('NOUN', detection), ('CCONJ', and), ('VERB', lets), ('PRON', you), ('VERB', iterate), ('ADP', over), ('NOUN', base), ('NOUN', noun), ('NOUN', phrases), ('CCONJ', or), ('NOUN', chunks), ('PROPN', Smithsonian), ('PROPN', Institution)]\n"
     ]
    }
   ],
   "source": [
    "pairs = []\n",
    "for token in doc:\n",
    "    if token.pos is not PUNCT and token.pos is not DET:\n",
    "        pairs.append((token.pos_, token))\n",
    "print(pairs)"
   ]
  },
  {
   "cell_type": "markdown",
   "metadata": {},
   "source": [
    "## SpaCy Sentence Tokenization"
   ]
  },
  {
   "cell_type": "code",
   "execution_count": 101,
   "metadata": {},
   "outputs": [
    {
     "name": "stdout",
     "output_type": "stream",
     "text": [
      "spaCy features a fast and accurate syntactic dependency parser, and has a rich API for navigating the tree. \n",
      "The parser also powers the sentence boundary detection, and lets you iterate over base noun phrases, or 'chunks' Smithsonian Institution.\n"
     ]
    }
   ],
   "source": [
    "for token in doc.sents:\n",
    "    print(token.string)"
   ]
  },
  {
   "cell_type": "markdown",
   "metadata": {},
   "source": [
    "## Regex Sentence Tokenization "
   ]
  },
  {
   "cell_type": "code",
   "execution_count": 102,
   "metadata": {},
   "outputs": [
    {
     "name": "stdout",
     "output_type": "stream",
     "text": [
      "Cy features a fast and accurate syntactic dependency parser, and has a rich API for navigating the tree.\n",
      "The parser also powers the sentence boundary detection, and lets you iterate over base noun phrases, or 'chunks' Smithsonian Institution.\n"
     ]
    }
   ],
   "source": [
    "sentence_pattern = re.compile(r'([A-Z].*?[\\.!?])', re.M)\n",
    "sentences = sentence_pattern.findall(s)\n",
    "for sentence in sentences:\n",
    "    print(sentence)"
   ]
  },
  {
   "cell_type": "markdown",
   "metadata": {},
   "source": [
    "## Entity Recognition"
   ]
  },
  {
   "cell_type": "code",
   "execution_count": 108,
   "metadata": {},
   "outputs": [
    {
     "name": "stdout",
     "output_type": "stream",
     "text": [
      "ORG API\n"
     ]
    }
   ],
   "source": [
    "for token in doc.ents:\n",
    "    print(token.label_, token.text)"
   ]
  },
  {
   "cell_type": "markdown",
   "metadata": {},
   "source": [
    "## Load the Arctic Fox wiki article and process the extract"
   ]
  },
  {
   "cell_type": "code",
   "execution_count": 109,
   "metadata": {},
   "outputs": [],
   "source": [
    "arctic_fox = json.loads(open('./wikipedia/arctic-fox.json').read())"
   ]
  },
  {
   "cell_type": "code",
   "execution_count": 119,
   "metadata": {},
   "outputs": [
    {
     "name": "stdout",
     "output_type": "stream",
     "text": [
      "LOC\n",
      "\t Asia\n",
      "\t the Barents Sea\n",
      "\t the North Pole\n",
      "\t North America\n",
      "\t Medny Island\n",
      "\t the Aleutian Islands\n",
      "\t North Atlantic\n",
      "\t Europe\n",
      "\t Pribilof Islands Arctic\n",
      "\t the Bering Sea\n",
      "\t the Kenai Peninsula\n",
      "\t Arctic\n",
      "\t the Northern Hemisphere\n",
      "\t Aleutian Islands\n",
      "ORG\n",
      "\t ISBN\n",
      "\t \n",
      "Photo Gallery\n",
      "\t Caninae of\n",
      "\t Iceland Arctic\n",
      "\t IUCN\n",
      "\t Ancient Greek\n",
      "\t World\n",
      "\t Systema Naturae\n",
      "\t The Arctic Fox Center\n",
      "\t Hazardous Substances\n",
      "\t Greenland Arctic\n",
      "\t The Arctic fox\n",
      "\t the Vindelfjällens Nature Reserve\n",
      "\t Kola Peninsula\n",
      "\t Arctic\n",
      "\t Walker\n",
      "\t the Environment Norway\n",
      "\t Canis\n",
      "\t Johns Hopkins Press\n",
      "TIME\n",
      "\t 12\n",
      "QUANTITY\n",
      "\t 41 to\n",
      "\t 52 cm\n",
      "\t 46 to\n",
      "\t 22 in\n",
      "\t 9,800 ft\n",
      "\t 18 to\n",
      "\t 68 cm (\n",
      "\t 55 cm (\n",
      "MONEY\n",
      "\t 1,200 sq yd\n",
      "PRODUCT\n",
      "\t 3-\n",
      "GPE\n",
      "\t Russia\n",
      "\t Norway\n",
      "\t Lapland\n",
      "\t \n",
      "Bering Islands Arctic\n",
      "\t Alaska\n",
      "\t Svalbard\n",
      "\t Súðavík\n",
      "\t Fennoscandia\n",
      "\t Baltimore\n",
      "\t Finland\n",
      "\t New Zealand's\n",
      "\t Aleutian Canada\n",
      "\t Kola\n",
      "\t Canada\n",
      "\t Sweden\n",
      "\t Vulpes\n",
      "\t Siberia\n",
      "\t Iceland\n",
      "\t Greenland\n",
      "WORK_OF_ART\n",
      "\t Vulpes\n",
      "NORP\n",
      "\t Fennoscandian\n",
      "\t Arctic\n",
      "\t North American\n",
      "\t Latin\n",
      "\t Scandinavian\n",
      "PERCENT\n",
      "\t more than\n",
      "\t more than 50%.\n",
      "CARDINAL\n",
      "\t 6.4\n",
      "\t about 30\n",
      "\t as many as 25\n",
      "\t several hundred thousand\n",
      "\t 140\n",
      "\t 11\n",
      "\t 20\n",
      "\t two\n",
      "\t dozens\n",
      "\t fewer than 200\n",
      "\t almost eradicated two\n",
      "\t 3\n",
      "\t 50\n",
      "\t 3.5\n",
      "\t 7.1\n",
      "\t four\n",
      "\t 1,000\n",
      "\t 4-year\n",
      "\t 7.7\n",
      "\t 3.2 to 9.4\n",
      "\t 20.7\n",
      "\t 90\n",
      "\t 3.1\n",
      "\t 3,000\n",
      "\t 9.8\n",
      "\t One\n",
      "\t 27\n",
      "\t 11.8\n",
      "\t 2.9\n",
      "\t 1.4 to 3.2\n",
      "\t 60\n",
      "PERSON\n",
      "\t V. l. fuliginosus\n",
      "\n",
      "\t V. l. pribilofensis\n",
      "\t V. l. foragorapusis\n",
      "\n",
      "\n",
      "\n",
      "\t Carl Linnaeus\n",
      "\t Arctic\n",
      "\t Carnivora\n",
      "\t \n",
      "Nowak\n",
      "\t V. l. lagopus\n",
      "\t Vulpini\n",
      "\t Jan Mayen\n",
      "\t V. l. beringensis\n",
      "\t Smithsonian Institution\n",
      "\t Alopex\n",
      "\t Canidae\n",
      "\t Ronald M. (\n",
      "\t Hudson Bay\n",
      "ORDINAL\n",
      "\t 10th\n",
      "DATE\n",
      "\t many decades\n",
      "\t 1996\n",
      "\t the last ice age\n",
      "\t summer\n",
      "\t 90 years\n",
      "\t 2005\n",
      "\t the last decade\n",
      "\t 25 to 30\n",
      "\t several decades\n",
      "\t between years due to the large population fluctuations\n",
      "\t winter\n",
      "\t 9 weeks of age\n",
      "\t five to eight kits\n",
      "\t each day\n",
      "\t April and May\n",
      "\t 46 to 68 cm\n",
      "\t 1997\n",
      "\t many generations\n",
      "\t 1758\n",
      "\t the 1920s\n",
      "\t the late 19th century\n",
      "\t the years\n",
      "\t the 20th century\n",
      "\t the 1970s\n",
      "\t the end of the last ice age\n",
      "\t about 52 days\n",
      "\t 4 weeks old\n"
     ]
    }
   ],
   "source": [
    "arctic_fox_extract = arctic_fox['extract'].strip()\n",
    "arctic_fox_doc = nlp(arctic_fox_extract)\n",
    "\n",
    "entities = {}\n",
    "for token in arctic_fox_doc.ents:\n",
    "    entity_type_list = entities.get(token.label_, set())\n",
    "    entities[token.label_] = entity_type_list\n",
    "    entity_type_list.add(token.text)\n",
    "\n",
    "for k in entities:\n",
    "    print(k)\n",
    "    for v in entities[k]:\n",
    "        print('\\t', v)\n",
    "        "
   ]
  },
  {
   "cell_type": "code",
   "execution_count": null,
   "metadata": {},
   "outputs": [],
   "source": []
  }
 ],
 "metadata": {
  "kernelspec": {
   "display_name": "Python [default]",
   "language": "python",
   "name": "python3"
  },
  "language_info": {
   "codemirror_mode": {
    "name": "ipython",
    "version": 3
   },
   "file_extension": ".py",
   "mimetype": "text/x-python",
   "name": "python",
   "nbconvert_exporter": "python",
   "pygments_lexer": "ipython3",
   "version": "3.5.2"
  }
 },
 "nbformat": 4,
 "nbformat_minor": 2
}
