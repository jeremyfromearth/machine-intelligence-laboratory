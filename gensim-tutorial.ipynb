{
 "cells": [
  {
   "cell_type": "markdown",
   "metadata": {},
   "source": [
    "# Gensim Tutorial"
   ]
  },
  {
   "cell_type": "code",
   "execution_count": 3,
   "metadata": {},
   "outputs": [],
   "source": [
    "import os\n",
    "from gensim import corpora, models, similarities\n",
    "from gensim.utils import lemmatize"
   ]
  },
  {
   "cell_type": "markdown",
   "metadata": {},
   "source": [
    "## Load all the files from the `data/wired` folder"
   ]
  },
  {
   "cell_type": "code",
   "execution_count": 4,
   "metadata": {},
   "outputs": [],
   "source": [
    "docs = []\n",
    "stop_words = set()\n",
    "\n",
    "with open('./data/lists/stopwords.txt') as f:\n",
    "    stop_words = [line.rstrip().lower() for line in f]\n",
    "    \n",
    "illegal_chars = [word for word in stop_words if len(word) == 1 and not word.isalnum()]\n",
    "\n",
    "for fname in os.listdir('./data/wired'):\n",
    "    if fname.endswith('.txt'):\n",
    "        with open('./data/wired/{}'.format(fname)) as f:\n",
    "            # split words on spaces\n",
    "            words = f.read().lower().split(' ')\n",
    "            # ignore illegal terms\n",
    "            words = [''.join([c for c in w if c not in illegal_chars]) for w in words] \n",
    "            # only take words with two or more chars that aren't stop words\n",
    "            words = [w for w in words if len(w) > 1 and w not in stop_words]\n",
    "            docs += [words]"
   ]
  },
  {
   "cell_type": "markdown",
   "metadata": {},
   "source": [
    "## Create a dictionary and bag of words corpus"
   ]
  },
  {
   "cell_type": "code",
   "execution_count": 5,
   "metadata": {},
   "outputs": [],
   "source": [
    "dictionary = corpora.Dictionary(docs) # dictionary for the entire corpus\n",
    "corpus = [dictionary.doc2bow(doc) for doc in docs] # word count vectors (bag of words)\n",
    "\n",
    "# saving dictionary and corpus to disk\n",
    "dictionary.save('./data/wired/models/dictionary.dict') \n",
    "corpora.MmCorpus.serialize('./data/wired/models/corpus.mm', corpus)"
   ]
  },
  {
   "cell_type": "markdown",
   "metadata": {},
   "source": [
    "## Create the TFIDF model"
   ]
  },
  {
   "cell_type": "code",
   "execution_count": 6,
   "metadata": {},
   "outputs": [],
   "source": [
    "# create tfidf representation\n",
    "mm = corpora.MmCorpus('./data/wired/models/corpus.mm')\n",
    "tfidf = models.TfidfModel(mm)\n",
    "corpus_tfidf = tfidf[corpus]"
   ]
  },
  {
   "cell_type": "markdown",
   "metadata": {},
   "source": [
    "## Create an LSI (Latent Semantic Indexing) Model (uses fold-in method)"
   ]
  },
  {
   "cell_type": "code",
   "execution_count": 7,
   "metadata": {},
   "outputs": [
    {
     "data": {
      "text/plain": [
       "[(0,\n",
       "  '-0.230*\"iot\" + -0.207*\"intercept\" + -0.182*\"cashatt\" + -0.182*\"russia\" + -0.182*\"putin\" + -0.150*\"russian\" + -0.136*\"men\" + -0.134*\"hotel\" + -0.124*\"nsa\" + -0.122*\"devices\"'),\n",
       " (1,\n",
       "  '-0.255*\"men\" + 0.181*\"russia\" + 0.181*\"putin\" + -0.164*\"blue\" + 0.163*\"intercept\" + -0.148*\"cashatt\" + 0.130*\"russian\" + -0.111*\"jobs\" + -0.109*\"hotel\" + -0.102*\"plants\"'),\n",
       " (2,\n",
       "  '-0.253*\"men\" + 0.211*\"iot\" + 0.183*\"orwl\" + 0.115*\"cashatt\" + 0.111*\"devices\" + -0.107*\"jobs\" + 0.092*\"dedicated\" + 0.092*\"crafty\" + 0.092*\"os\" + 0.092*\"options\"'),\n",
       " (3,\n",
       "  '-0.294*\"blue\" + -0.286*\"iot\" + -0.184*\"plants\" + -0.147*\"weeds\" + -0.147*\"crops\" + -0.147*\"devices\" + 0.130*\"fomo\" + -0.121*\"river\" + -0.110*\"rivers\" + -0.110*\"farmers\"'),\n",
       " (4,\n",
       "  '-0.628*\"iot\" + -0.325*\"devices\" + 0.169*\"blue\" + -0.167*\"standards\" + -0.112*\"moyer\" + 0.105*\"plants\" + 0.084*\"weeds\" + 0.084*\"crops\" + 0.081*\"russia\" + 0.081*\"putin\"'),\n",
       " (5,\n",
       "  '0.364*\"men\" + -0.213*\"cashatt\" + -0.157*\"hotel\" + 0.154*\"jobs\" + 0.130*\"automation\" + 0.130*\"labor\" + -0.124*\"blue\" + 0.104*\"womens\" + 0.104*\"unpaid\" + -0.101*\"onity\"'),\n",
       " (6,\n",
       "  '-0.307*\"cashatt\" + -0.227*\"hotel\" + -0.146*\"onity\" + -0.134*\"men\" + 0.130*\"fomo\" + -0.129*\"brocious\" + 0.124*\"blue\" + -0.124*\"lock\" + -0.108*\"room\" + 0.102*\"social\"'),\n",
       " (7,\n",
       "  '-0.311*\"intercept\" + 0.274*\"russia\" + 0.274*\"putin\" + -0.186*\"nsa\" + -0.155*\"complaint\" + -0.155*\"classified\" + -0.145*\"winner\" + -0.123*\"document\" + 0.093*\"cashatt\" + -0.093*\"leaks\"')]"
      ]
     },
     "execution_count": 7,
     "metadata": {},
     "output_type": "execute_result"
    }
   ],
   "source": [
    "lsi = models.LsiModel(corpus_tfidf, id2word=dictionary, num_topics=100)\n",
    "corpus_lsi = lsi[corpus_tfidf]\n",
    "lsi.print_topics(100)"
   ]
  },
  {
   "cell_type": "code",
   "execution_count": 8,
   "metadata": {},
   "outputs": [
    {
     "name": "stdout",
     "output_type": "stream",
     "text": [
      "[(0, -0.5552031501777358), (1, 0.3989667036627576), (2, -0.003291503346408224), (3, 0.016767955718257607), (4, 0.18776255635391356), (5, 0.099269751001368048), (6, -0.10099620921643927), (7, -0.690632708289595)]\n",
      "[(0, -0.34409806533206955), (1, -0.1837499223892976), (2, -0.33707602300979284), (3, 0.5537645557499713), (4, -0.16373969952145509), (5, -0.33320793451961511), (6, 0.53798576208732019), (7, -0.017034140093194976)]\n",
      "[(0, -0.33982407401618564), (1, -0.017054552516311106), (2, 0.28025766165927984), (3, -0.37614147118747315), (4, -0.80972739004038874), (5, -0.054509610438913191), (6, 0.072270269758792208), (7, -0.018688017253660011)]\n",
      "[(0, -0.20775235326151448), (1, -0.38991815974892235), (2, -0.16931514242368922), (3, -0.68427142194994295), (4, 0.38478472139335346), (5, -0.27985567045638066), (6, 0.27929809940447259), (7, -0.05934547687618185)]\n",
      "[(0, -0.2772748258090495), (1, -0.47498574366306928), (2, -0.46529580468077997), (3, 0.01298990656054071), (4, -0.11678256818346262), (5, 0.64127446988333281), (6, -0.23469143630738667), (7, 0.029784333662502424)]\n",
      "[(0, -0.51260031799774497), (1, 0.46770488595619786), (2, -0.0052096106367366356), (3, -0.083912748605016255), (4, 0.19979146922866151), (5, 0.19330935097649743), (6, 0.14890172166984772), (7, 0.64184710418613689)]\n",
      "[(0, -0.42717601748574813), (1, -0.3166148788175478), (2, 0.24162245900069448), (3, 0.2043872185649343), (4, 0.11998050816724144), (5, -0.43125155457023173), (6, -0.61966903053380384), (7, 0.18098946855579753)]\n",
      "[(0, -0.12026025664607928), (1, -0.368130064458633), (2, 0.7169610578876322), (3, 0.18480420143464465), (4, 0.21649696142191224), (5, 0.36193419393922621), (6, 0.34778110176922689), (7, -0.054890665168819137)]\n"
     ]
    }
   ],
   "source": [
    "# Which topic does each document relate to the most?\n",
    "for doc in corpus_lsi:\n",
    "    print(doc)"
   ]
  },
  {
   "cell_type": "markdown",
   "metadata": {},
   "source": [
    "## Create an LDA (Latent Dirichlet Allocation) Model"
   ]
  },
  {
   "cell_type": "code",
   "execution_count": 9,
   "metadata": {},
   "outputs": [],
   "source": [
    "lda = models.LdaModel(corpus, id2word=dictionary, num_topics=100)\n",
    "lda_corpus = lda[corpus]"
   ]
  },
  {
   "cell_type": "code",
   "execution_count": 10,
   "metadata": {},
   "outputs": [
    {
     "data": {
      "text/plain": [
       "[(81,\n",
       "  '0.012*\"hotel\" + 0.010*\"cashatt\" + 0.006*\"brocious\" + 0.005*\"hed\" + 0.005*\"lock\" + 0.005*\"cashatts\" + 0.004*\"room\" + 0.004*\"locks\" + 0.004*\"onity\" + 0.003*\"device\"'),\n",
       " (87,\n",
       "  '0.019*\"blue\" + 0.013*\"technology\" + 0.011*\"plants\" + 0.011*\"river\" + 0.009*\"cashatt\" + 0.008*\"equipment\" + 0.007*\"weeds\" + 0.007*\"crops\" + 0.006*\"herbicide\" + 0.006*\"stone\"'),\n",
       " (40,\n",
       "  '0.011*\"cashatt\" + 0.009*\"hotel\" + 0.007*\"lock\" + 0.005*\"brocious\" + 0.005*\"onity\" + 0.005*\"room\" + 0.004*\"device\" + 0.004*\"cashatts\" + 0.004*\"hed\" + 0.004*\"found\"'),\n",
       " (3,\n",
       "  '0.013*\"men\" + 0.011*\"work\" + 0.007*\"jobs\" + 0.005*\"problem\" + 0.005*\"cashatt\" + 0.005*\"automation\" + 0.004*\"hotel\" + 0.004*\"robots\" + 0.004*\"pay\" + 0.004*\"unpaid\"'),\n",
       " (85,\n",
       "  '0.013*\"information\" + 0.010*\"news\" + 0.009*\"media\" + 0.009*\"social\" + 0.007*\"sundar\" + 0.007*\"fomo\" + 0.005*\"anxiety\" + 0.005*\"kross\" + 0.005*\"hits\" + 0.004*\"tweet\"'),\n",
       " (2,\n",
       "  '0.010*\"cashatt\" + 0.008*\"hotel\" + 0.004*\"room\" + 0.004*\"brocious\" + 0.004*\"lock\" + 0.004*\"found\" + 0.004*\"onity\" + 0.003*\"device\" + 0.003*\"security\" + 0.003*\"hed\"'),\n",
       " (41,\n",
       "  '0.008*\"cashatt\" + 0.006*\"hotel\" + 0.004*\"lock\" + 0.004*\"brocious\" + 0.003*\"onity\" + 0.003*\"security\" + 0.003*\"cashatts\" + 0.003*\"room\" + 0.003*\"iot\" + 0.003*\"locks\"'),\n",
       " (82,\n",
       "  '0.019*\"men\" + 0.018*\"work\" + 0.011*\"jobs\" + 0.008*\"labor\" + 0.008*\"automation\" + 0.007*\"problem\" + 0.007*\"social\" + 0.006*\"human\" + 0.005*\"womens\" + 0.005*\"unpaid\"'),\n",
       " (78,\n",
       "  '0.017*\"iot\" + 0.013*\"devices\" + 0.010*\"security\" + 0.005*\"standards\" + 0.004*\"cashatt\" + 0.003*\"industry\" + 0.003*\"hotel\" + 0.003*\"data\" + 0.003*\"system\" + 0.003*\"hackers\"'),\n",
       " (32,\n",
       "  '0.008*\"cashatt\" + 0.007*\"men\" + 0.006*\"work\" + 0.006*\"hotel\" + 0.005*\"onity\" + 0.004*\"jobs\" + 0.003*\"room\" + 0.003*\"brocious\" + 0.003*\"lock\" + 0.003*\"security\"'),\n",
       " (30,\n",
       "  '0.007*\"cashatt\" + 0.007*\"hotel\" + 0.004*\"lock\" + 0.004*\"room\" + 0.004*\"onity\" + 0.003*\"brocious\" + 0.003*\"hed\" + 0.003*\"security\" + 0.003*\"cashatts\" + 0.003*\"locks\"'),\n",
       " (75,\n",
       "  '0.012*\"cashatt\" + 0.006*\"work\" + 0.006*\"hotel\" + 0.005*\"men\" + 0.005*\"onity\" + 0.005*\"jobs\" + 0.005*\"brocious\" + 0.004*\"lock\" + 0.004*\"room\" + 0.003*\"security\"'),\n",
       " (6,\n",
       "  '0.014*\"russia\" + 0.010*\"putin\" + 0.005*\"cashatt\" + 0.004*\"hackers\" + 0.004*\"international\" + 0.004*\"russias\" + 0.004*\"hacking\" + 0.004*\"election\" + 0.004*\"inside\" + 0.004*\"russian\"'),\n",
       " (37,\n",
       "  '0.029*\"iot\" + 0.021*\"devices\" + 0.020*\"security\" + 0.009*\"hackers\" + 0.006*\"standards\" + 0.006*\"intercept\" + 0.006*\"government\" + 0.005*\"winner\" + 0.005*\"election\" + 0.005*\"intelligence\"'),\n",
       " (5,\n",
       "  '0.008*\"news\" + 0.007*\"hotel\" + 0.006*\"cashatt\" + 0.006*\"fomo\" + 0.006*\"social\" + 0.005*\"information\" + 0.004*\"onity\" + 0.004*\"media\" + 0.004*\"time\" + 0.003*\"brocious\"'),\n",
       " (17,\n",
       "  '0.003*\"iot\" + 0.002*\"security\" + 0.002*\"devices\" + 0.001*\"standards\" + 0.001*\"data\" + 0.001*\"hackers\" + 0.001*\"cashatt\" + 0.001*\"hotel\" + 0.001*\"industry\" + 0.001*\"moyer\"'),\n",
       " (1,\n",
       "  '0.008*\"social\" + 0.007*\"news\" + 0.006*\"information\" + 0.006*\"fomo\" + 0.005*\"media\" + 0.004*\"kross\" + 0.004*\"internet\" + 0.004*\"sundar\" + 0.003*\"time\" + 0.003*\"describing\"'),\n",
       " (20,\n",
       "  '0.006*\"cashatt\" + 0.006*\"putin\" + 0.006*\"hotel\" + 0.005*\"russia\" + 0.004*\"hackers\" + 0.003*\"election\" + 0.003*\"security\" + 0.003*\"russian\" + 0.003*\"brocious\" + 0.003*\"onity\"'),\n",
       " (35,\n",
       "  '0.009*\"cashatt\" + 0.007*\"work\" + 0.006*\"hotel\" + 0.005*\"onity\" + 0.004*\"brocious\" + 0.004*\"lock\" + 0.004*\"men\" + 0.003*\"cashatts\" + 0.003*\"hed\" + 0.003*\"locks\"'),\n",
       " (12,\n",
       "  '0.008*\"cashatt\" + 0.008*\"work\" + 0.007*\"men\" + 0.006*\"hotel\" + 0.006*\"jobs\" + 0.005*\"onity\" + 0.004*\"brocious\" + 0.004*\"problem\" + 0.003*\"lock\" + 0.003*\"security\"')]"
      ]
     },
     "execution_count": 10,
     "metadata": {},
     "output_type": "execute_result"
    }
   ],
   "source": [
    "lda.print_topics()"
   ]
  },
  {
   "cell_type": "code",
   "execution_count": 43,
   "metadata": {},
   "outputs": [
    {
     "name": "stdout",
     "output_type": "stream",
     "text": [
      "[(57, 0.99742857142857244)]\n",
      "[('election', 0.014680058284148147), ('intercept', 0.014102742441108195), ('russian', 0.012775778624936516)]\n",
      "[(82, 0.063892365814885346), (85, 0.93281904358108825)]\n",
      "[('men', 0.019015486696988257), ('work', 0.017925408567381611), ('jobs', 0.011175940573869553)]\n",
      "[(82, 0.010693882592706393), (83, 0.98184953154770427)]\n",
      "[('men', 0.019015486696988257), ('work', 0.017925408567381611), ('jobs', 0.011175940573869553)]\n",
      "[(87, 0.99561946902654919)]\n",
      "[('blue', 0.018985245748879054), ('technology', 0.012859526059707202), ('plants', 0.010770000441417861)]\n",
      "[(82, 0.99750629722921957)]\n",
      "[('men', 0.019015486696988257), ('work', 0.017925408567381611), ('jobs', 0.011175940573869553)]\n",
      "[(98, 0.99715517241379303)]\n",
      "[('putin', 0.014766648311347006), ('russia', 0.01295154513233096), ('election', 0.0072804295684530179)]\n",
      "[(7, 0.31616016003473535), (13, 0.19256707074671789), (21, 0.1516320927553334), (25, 0.20319214478593445), (57, 0.040046588546529656), (82, 0.047025516694510508), (83, 0.016822920861928992), (90, 0.010524636595239483), (98, 0.018775392264083032)]\n",
      "[('hotel', 0.013288770088570375), ('cashatt', 0.012008020381869627), ('security', 0.011222358324128641)]\n",
      "[(90, 0.98605633802816828)]\n",
      "[('orwl', 0.01804109244067674), ('data', 0.017291100267611079), ('police', 0.009418817584766679)]\n"
     ]
    }
   ],
   "source": [
    "for doc in lda_corpus:\n",
    "    print(doc)\n",
    "    print(lda.show_topic(doc[0][0], 3))"
   ]
  },
  {
   "cell_type": "markdown",
   "metadata": {},
   "source": [
    "## Create an HDP (Hierarchical Dirichlet process) Model"
   ]
  },
  {
   "cell_type": "code",
   "execution_count": 12,
   "metadata": {},
   "outputs": [],
   "source": [
    "hdp = models.HdpModel(corpus, id2word=dictionary)"
   ]
  },
  {
   "cell_type": "code",
   "execution_count": 13,
   "metadata": {},
   "outputs": [],
   "source": [
    "hdp_corpus = hdp[corpus]"
   ]
  },
  {
   "cell_type": "code",
   "execution_count": 16,
   "metadata": {},
   "outputs": [
    {
     "data": {
      "text/plain": [
       "20"
      ]
     },
     "execution_count": 16,
     "metadata": {},
     "output_type": "execute_result"
    }
   ],
   "source": [
    "len(hdp.print_topics())"
   ]
  },
  {
   "cell_type": "code",
   "execution_count": 59,
   "metadata": {},
   "outputs": [
    {
     "name": "stdout",
     "output_type": "stream",
     "text": [
      "[(3, 0.99767324789440082)]\n",
      "[(5, 0.99678104064091966)]\n",
      "[(1, 0.99893826492628346)]\n",
      "[(6, 0.99567487712287894)]\n",
      "[(2, 0.99787685871067133)]\n",
      "[(4, 0.99731896388285901)]\n",
      "[(0, 0.99975584069053314)]\n",
      "[(7, 0.98603970056616019)]\n"
     ]
    }
   ],
   "source": [
    "for doc in hdp_corpus:\n",
    "    print(doc)"
   ]
  },
  {
   "cell_type": "code",
   "execution_count": 44,
   "metadata": {},
   "outputs": [
    {
     "data": {
      "text/plain": [
       "[(0,\n",
       "  '0.018*cashatt + 0.013*hotel + 0.009*onity + 0.008*brocious + 0.007*lock'),\n",
       " (1,\n",
       "  '0.041*iot + 0.032*devices + 0.025*security + 0.011*standards + 0.008*moyer'),\n",
       " (2, '0.018*men + 0.017*work + 0.012*jobs + 0.008*problem + 0.007*automation'),\n",
       " (3,\n",
       "  '0.013*intercept + 0.011*election + 0.010*winner + 0.009*russian + 0.008*nsa'),\n",
       " (4,\n",
       "  '0.013*russia + 0.013*putin + 0.006*hackers + 0.006*election + 0.006*russias'),\n",
       " (5,\n",
       "  '0.008*news + 0.008*social + 0.008*information + 0.006*fomo + 0.006*media'),\n",
       " (6,\n",
       "  '0.014*blue + 0.011*technology + 0.009*plants + 0.009*river + 0.007*weeds'),\n",
       " (7,\n",
       "  '0.005*orwl + 0.005*data + 0.004*interior + 0.003*accelerometer + 0.003*password'),\n",
       " (8,\n",
       "  '0.002*bulked + 0.002*florida + 0.002*badge + 0.002*loose + 0.002*dresser'),\n",
       " (9,\n",
       "  '0.003*defeated + 0.003*wink + 0.003*toaster + 0.003*protection + 0.002*include'),\n",
       " (10,\n",
       "  '0.002*commercial + 0.002*newsbreak + 0.002*bad + 0.002*vc + 0.002*devastated'),\n",
       " (11,\n",
       "  '0.003*tore + 0.003*common + 0.003*image + 0.002*progress + 0.002*replace'),\n",
       " (12,\n",
       "  '0.003*adrenaline + 0.003*resistance + 0.002*pair + 0.002*power + 0.002*airplane'),\n",
       " (13,\n",
       "  '0.003*heists + 0.003*industry + 0.003*sprayers + 0.002*red + 0.002*sanctions'),\n",
       " (14, '0.002*car + 0.002*tasing + 0.002*robot + 0.002*run + 0.002*true'),\n",
       " (15,\n",
       "  '0.003*methaddled + 0.003*deere + 0.002*fled + 0.002*presentations + 0.002*excrement'),\n",
       " (16,\n",
       "  '0.003*intercontinental + 0.003*code + 0.003*sick + 0.002*adoption + 0.002*lockheed'),\n",
       " (17,\n",
       "  '0.003*small + 0.002*pick + 0.002*liability + 0.002*workers + 0.002*countries'),\n",
       " (18,\n",
       "  '0.003*older + 0.003*destroyed + 0.003*2020 + 0.002*collecting + 0.002*prints'),\n",
       " (19,\n",
       "  '0.003*silence + 0.003*wages—compensating + 0.002*june + 0.002*areas + 0.002*significant')]"
      ]
     },
     "execution_count": 44,
     "metadata": {},
     "output_type": "execute_result"
    }
   ],
   "source": [
    "hdp.show_topics(20, 5)"
   ]
  },
  {
   "cell_type": "code",
   "execution_count": null,
   "metadata": {},
   "outputs": [],
   "source": []
  }
 ],
 "metadata": {
  "kernelspec": {
   "display_name": "Python [default]",
   "language": "python",
   "name": "python3"
  },
  "language_info": {
   "codemirror_mode": {
    "name": "ipython",
    "version": 3
   },
   "file_extension": ".py",
   "mimetype": "text/x-python",
   "name": "python",
   "nbconvert_exporter": "python",
   "pygments_lexer": "ipython3",
   "version": "3.5.2"
  }
 },
 "nbformat": 4,
 "nbformat_minor": 2
}
