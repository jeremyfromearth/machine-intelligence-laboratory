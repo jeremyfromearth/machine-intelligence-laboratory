{
 "cells": [
  {
   "cell_type": "markdown",
   "metadata": {},
   "source": [
    "# Gensim Tutorial"
   ]
  },
  {
   "cell_type": "code",
   "execution_count": 4,
   "metadata": {},
   "outputs": [],
   "source": [
    "import os\n",
    "from gensim import corpora, models, similarities\n",
    "from gensim.parsing.porter import PorterStemmer\n",
    "from gensim.utils import lemmatize"
   ]
  },
  {
   "cell_type": "markdown",
   "metadata": {},
   "source": [
    "## Load all the files from the `data/wired` folder"
   ]
  },
  {
   "cell_type": "code",
   "execution_count": 21,
   "metadata": {},
   "outputs": [],
   "source": [
    "docs = []\n",
    "stop_words = set()\n",
    "stemmer = PorterStemmer()\n",
    "\n",
    "with open('./data/lists/stopwords.txt') as f:\n",
    "    stop_words = [line.rstrip().lower() for line in f]\n",
    "\n",
    "illegal_chars = [word for word in stop_words if len(word) == 1 and not word.isalnum()]\n",
    "\n",
    "for fname in os.listdir('./data/wired'):\n",
    "    if fname.endswith('.txt'):\n",
    "        with open('./data/wired/{}'.format(fname)) as f:\n",
    "            words = f.read().lower().split(' ') # split words on spaces\n",
    "            words = [w for w in words if w not in stop_words] # take only words not in stop words file\n",
    "            words = [''.join([c for c in w if c not in illegal_chars]) for w in words] # ignore illegal terms\n",
    "            words = [w for w in words if len(w) > 1] # only take words with two or more chars\n",
    "            docs += [words]"
   ]
  },
  {
   "cell_type": "markdown",
   "metadata": {},
   "source": [
    "## Create a dictionary and bag of words corpus"
   ]
  },
  {
   "cell_type": "code",
   "execution_count": 22,
   "metadata": {},
   "outputs": [],
   "source": [
    "dictionary = corpora.Dictionary(docs) # dictionary for the entire corpus\n",
    "corpus = [dictionary.doc2bow(doc) for doc in docs] # word count vectors (bag of words)\n",
    "\n",
    "# saving dictionary and corpus to disk\n",
    "dictionary.save('./data/wired/models/dictionary.dict') \n",
    "corpora.MmCorpus.serialize('./data/wired/models/corpus.mm', corpus)"
   ]
  },
  {
   "cell_type": "markdown",
   "metadata": {},
   "source": [
    "## Create the TFIDF model"
   ]
  },
  {
   "cell_type": "code",
   "execution_count": 23,
   "metadata": {},
   "outputs": [],
   "source": [
    "# create tfidf representation\n",
    "mm = corpora.MmCorpus('./data/wired/models/corpus.mm')\n",
    "tfidf = models.TfidfModel(mm)\n",
    "corpus_tfidf = tfidf[corpus]"
   ]
  },
  {
   "cell_type": "markdown",
   "metadata": {},
   "source": [
    "## Create an LSI (Latent Semantic Indexing) Model (uses fold-in method)"
   ]
  },
  {
   "cell_type": "code",
   "execution_count": 24,
   "metadata": {},
   "outputs": [
    {
     "data": {
      "text/plain": [
       "[(0,\n",
       "  '0.223*\"iot\" + 0.193*\"cashatt\" + 0.165*\"intercept\" + 0.164*\"russia\" + 0.164*\"putin\" + 0.157*\"men\" + 0.142*\"hotel\" + 0.126*\"russian\" + 0.118*\"devices\" + 0.099*\"nsa\"'),\n",
       " (1,\n",
       "  '0.238*\"men\" + -0.201*\"intercept\" + -0.168*\"russia\" + -0.168*\"putin\" + -0.144*\"russian\" + 0.144*\"blue\" + -0.121*\"nsa\" + 0.111*\"cashatt\" + 0.103*\"jobs\" + -0.101*\"complaint\"'),\n",
       " (2,\n",
       "  '-0.207*\"men\" + 0.196*\"orwl\" + 0.145*\"iot\" + 0.132*\"plus\" + 0.098*\"drill\" + 0.098*\"dedicated\" + 0.098*\"motherboard\" + 0.098*\"thanks\" + 0.098*\"impervious\" + 0.098*\"bluetooth\"'),\n",
       " (3,\n",
       "  '0.342*\"iot\" + 0.277*\"blue\" + 0.176*\"devices\" + 0.173*\"plants\" + 0.138*\"weeds\" + 0.138*\"crops\" + -0.122*\"fomo\" + 0.114*\"river\" + 0.104*\"herbicide\" + 0.104*\"deere\"'),\n",
       " (4,\n",
       "  '-0.579*\"iot\" + -0.299*\"devices\" + 0.207*\"blue\" + -0.154*\"standards\" + 0.129*\"plants\" + -0.127*\"men\" + 0.103*\"weeds\" + 0.103*\"crops\" + -0.103*\"moyer\" + 0.087*\"river\"'),\n",
       " (5,\n",
       "  '-0.381*\"men\" + -0.162*\"jobs\" + 0.150*\"iot\" + -0.136*\"labor\" + -0.136*\"automation\" + -0.132*\"intercept\" + 0.125*\"cashatt\" + -0.109*\"unpaid\" + -0.109*\"womens\" + 0.105*\"fomo\"'),\n",
       " (6,\n",
       "  '0.357*\"cashatt\" + 0.263*\"hotel\" + 0.169*\"onity\" + 0.150*\"brocious\" + 0.144*\"lock\" + 0.125*\"room\" + -0.119*\"russia\" + -0.119*\"putin\" + 0.106*\"cashatts\" + -0.098*\"fomo\"'),\n",
       " (7,\n",
       "  '0.274*\"intercept\" + -0.268*\"russia\" + -0.268*\"putin\" + 0.164*\"nsa\" + 0.137*\"complaint\" + 0.137*\"classified\" + 0.129*\"winner\" + 0.108*\"document\" + 0.092*\"iot\" + -0.090*\"cashatt\"')]"
      ]
     },
     "execution_count": 24,
     "metadata": {},
     "output_type": "execute_result"
    }
   ],
   "source": [
    "lsi = models.LsiModel(corpus_tfidf, id2word=dictionary, num_topics=100)\n",
    "corpus_lsi = lsi[corpus_tfidf]\n",
    "lsi.print_topics(100)"
   ]
  },
  {
   "cell_type": "code",
   "execution_count": 25,
   "metadata": {},
   "outputs": [
    {
     "name": "stdout",
     "output_type": "stream",
     "text": [
      "[(0, 0.46405693080986837), (1, -0.4975223526943412), (2, 0.054809208300446131), (3, -0.097889236748156791), (4, 0.20471033493426063), (5, -0.30788549940249527), (6, 0.084769529301734731), (7, 0.61696891857037361)]\n",
      "[(0, 0.3823846180616261), (1, 0.19641391716682063), (2, -0.26788404084227152), (3, -0.55304109527437872), (4, -0.1302077979394439), (5, 0.45887019528461526), (6, -0.42435470620029542), (7, 0.17318897532368149)]\n",
      "[(0, 0.34732985151243745), (1, -0.078430771785807304), (2, 0.19528912841816742), (3, 0.45720100406162045), (4, -0.75829118166089426), (5, 0.1937249130383327), (6, 0.019304057891772912), (7, 0.11459704064536227)]\n",
      "[(0, 0.26900319868311517), (1, 0.34487934077107757), (2, -0.23165803282949635), (3, 0.65036755017874248), (4, 0.47677980667598296), (5, 0.21621144570108231), (6, -0.15822961467530444), (7, 0.18151898149007936)]\n",
      "[(0, 0.33868403972744382), (1, 0.45085439915079017), (2, -0.38749612480819379), (3, -0.044861004070406975), (4, -0.23038179415392107), (5, -0.68158182249615218), (6, 0.027902814478257359), (7, -0.10700260128680818)]\n",
      "[(0, 0.4987142351119192), (1, -0.44888280258869423), (2, 0.012886820848257787), (3, 0.07533515536643344), (4, 0.16114074182678415), (5, -0.046103258796096523), (6, -0.29718564569309319), (7, -0.6538621630718997)]\n",
      "[(0, 0.47494101316582926), (1, 0.24006334536278826), (2, 0.20261590301094304), (3, -0.18893759878167388), (4, 0.1552591871245495), (5, 0.25471554392829071), (6, 0.72082363836612107), (7, -0.17742001777498764)]\n",
      "[(0, 0.12429993101776277), (1, 0.38127023281561273), (2, 0.80505644984734859), (3, -0.07636943197716721), (4, 0.11133215428060278), (5, -0.20255958339897837), (6, -0.36041865132065209), (7, 0.043675181889143225)]\n"
     ]
    }
   ],
   "source": [
    "# Which topic does each document relate to the most?\n",
    "for doc in corpus_lsi:\n",
    "    print(doc)"
   ]
  },
  {
   "cell_type": "markdown",
   "metadata": {},
   "source": [
    "## Create an LDA (Latent Dirichlet Allocation) Model"
   ]
  },
  {
   "cell_type": "code",
   "execution_count": 30,
   "metadata": {},
   "outputs": [],
   "source": [
    "lda = models.LdaModel(corpus, id2word=dictionary, num_topics=100)\n",
    "lda_corpus = lda[corpus]"
   ]
  },
  {
   "cell_type": "code",
   "execution_count": 31,
   "metadata": {},
   "outputs": [
    {
     "data": {
      "text/plain": [
       "[(67,\n",
       "  '0.007*\"hotel\" + 0.006*\"cashatt\" + 0.005*\"one\" + 0.005*\"onity\" + 0.003*\"brocious\" + 0.003*\"lock\" + 0.003*\"says\" + 0.003*\"room\" + 0.003*\"first\" + 0.003*\"cashatts\"'),\n",
       " (72,\n",
       "  '0.012*\"iot\" + 0.012*\"security\" + 0.010*\"devices\" + 0.005*\"standards\" + 0.005*\"said\" + 0.005*\"will\" + 0.004*\"industry\" + 0.003*\"hackers\" + 0.003*\"data\" + 0.002*\"system\"'),\n",
       " (52,\n",
       "  '0.008*\"one\" + 0.006*\"social\" + 0.006*\"hotel\" + 0.006*\"cashatt\" + 0.005*\"it\" + 0.005*\"news\" + 0.004*\"information\" + 0.004*\"new\" + 0.004*\"says\" + 0.004*\"work\"'),\n",
       " (63,\n",
       "  '0.009*\"cashatt\" + 0.007*\"hotel\" + 0.006*\"one\" + 0.004*\"lock\" + 0.004*\"brocious\" + 0.004*\"onity\" + 0.003*\"cashatts\" + 0.003*\"says\" + 0.003*\"first\" + 0.003*\"room\"'),\n",
       " (21,\n",
       "  '0.007*\"one\" + 0.007*\"work\" + 0.007*\"cashatt\" + 0.006*\"security\" + 0.005*\"men\" + 0.005*\"iot\" + 0.004*\"hotel\" + 0.004*\"devices\" + 0.004*\"jobs\" + 0.003*\"will\"'),\n",
       " (75,\n",
       "  '0.007*\"intercept\" + 0.005*\"hacking\" + 0.004*\"winner\" + 0.004*\"election\" + 0.004*\"says\" + 0.004*\"blue\" + 0.004*\"russian\" + 0.004*\"one\" + 0.004*\"nsa\" + 0.004*\"document\"'),\n",
       " (41,\n",
       "  '0.012*\"men\" + 0.011*\"work\" + 0.009*\"one\" + 0.009*\"jobs\" + 0.007*\"cashatt\" + 0.007*\"better\" + 0.006*\"problem\" + 0.005*\"labor\" + 0.005*\"pay\" + 0.004*\"percent\"'),\n",
       " (82,\n",
       "  '0.010*\"cashatt\" + 0.009*\"security\" + 0.008*\"iot\" + 0.007*\"one\" + 0.007*\"hotel\" + 0.006*\"devices\" + 0.004*\"device\" + 0.004*\"onity\" + 0.004*\"brocious\" + 0.004*\"first\"'),\n",
       " (17,\n",
       "  '0.008*\"iot\" + 0.007*\"security\" + 0.005*\"devices\" + 0.005*\"cashatt\" + 0.005*\"one\" + 0.004*\"it\" + 0.004*\"said\" + 0.004*\"hotel\" + 0.003*\"news\" + 0.003*\"time\"'),\n",
       " (78,\n",
       "  '0.017*\"intercept\" + 0.012*\"election\" + 0.011*\"document\" + 0.011*\"winner\" + 0.011*\"russian\" + 0.009*\"report\" + 0.008*\"hacking\" + 0.008*\"complaint\" + 0.008*\"security\" + 0.008*\"source\"'),\n",
       " (12,\n",
       "  '0.016*\"iot\" + 0.011*\"security\" + 0.009*\"devices\" + 0.006*\"intercept\" + 0.006*\"hackers\" + 0.005*\"election\" + 0.005*\"one\" + 0.005*\"cashatt\" + 0.004*\"said\" + 0.004*\"just\"'),\n",
       " (31,\n",
       "  '0.014*\"blue\" + 0.013*\"says\" + 0.009*\"technology\" + 0.009*\"river\" + 0.008*\"plants\" + 0.007*\"weeds\" + 0.007*\"one\" + 0.007*\"crops\" + 0.006*\"hotel\" + 0.006*\"cashatt\"'),\n",
       " (45,\n",
       "  '0.004*\"one\" + 0.003*\"hotel\" + 0.002*\"cashatt\" + 0.002*\"security\" + 0.002*\"work\" + 0.002*\"iot\" + 0.002*\"brocious\" + 0.002*\"men\" + 0.002*\"devices\" + 0.002*\"room\"'),\n",
       " (8,\n",
       "  '0.008*\"cashatt\" + 0.008*\"hotel\" + 0.007*\"security\" + 0.006*\"one\" + 0.005*\"iot\" + 0.005*\"devices\" + 0.004*\"brocious\" + 0.004*\"lock\" + 0.004*\"time\" + 0.003*\"cashatts\"'),\n",
       " (39,\n",
       "  '0.005*\"cashatt\" + 0.004*\"one\" + 0.004*\"hotel\" + 0.003*\"men\" + 0.003*\"work\" + 0.003*\"onity\" + 0.002*\"security\" + 0.002*\"jobs\" + 0.002*\"device\" + 0.002*\"lock\"'),\n",
       " (90,\n",
       "  '0.014*\"iot\" + 0.009*\"security\" + 0.009*\"one\" + 0.008*\"devices\" + 0.007*\"said\" + 0.005*\"will\" + 0.005*\"hackers\" + 0.004*\"us\" + 0.004*\"cashatt\" + 0.004*\"work\"'),\n",
       " (1,\n",
       "  '0.008*\"cashatt\" + 0.006*\"hotel\" + 0.004*\"one\" + 0.004*\"onity\" + 0.003*\"lock\" + 0.003*\"brocious\" + 0.003*\"says\" + 0.003*\"room\" + 0.003*\"it\" + 0.003*\"first\"'),\n",
       " (69,\n",
       "  '0.006*\"putin\" + 0.005*\"russian\" + 0.005*\"election\" + 0.005*\"us\" + 0.005*\"even\" + 0.005*\"russia\" + 0.005*\"hacking\" + 0.004*\"just\" + 0.004*\"says\" + 0.004*\"security\"'),\n",
       " (80,\n",
       "  '0.004*\"cashatt\" + 0.003*\"one\" + 0.003*\"onity\" + 0.002*\"hotel\" + 0.002*\"room\" + 0.002*\"brocious\" + 0.002*\"lock\" + 0.002*\"says\" + 0.002*\"rooms\" + 0.002*\"first\"'),\n",
       " (76,\n",
       "  '0.007*\"cashatt\" + 0.005*\"hotel\" + 0.004*\"one\" + 0.004*\"says\" + 0.004*\"blue\" + 0.003*\"plants\" + 0.003*\"technology\" + 0.003*\"brocious\" + 0.003*\"lock\" + 0.003*\"onity\"')]"
      ]
     },
     "execution_count": 31,
     "metadata": {},
     "output_type": "execute_result"
    }
   ],
   "source": [
    "lda.print_topics()"
   ]
  },
  {
   "cell_type": "code",
   "execution_count": 32,
   "metadata": {},
   "outputs": [
    {
     "name": "stdout",
     "output_type": "stream",
     "text": [
      "[(78, 0.99771889400921709)]\n",
      "[(52, 0.99737400530504094)]\n",
      "[(62, 0.99889877641824287)]\n",
      "[(31, 0.99623574144486926)]\n",
      "[(14, 0.98472720677046877), (62, 0.013272793229532774)]\n",
      "[(81, 0.99783842794759858)]\n",
      "[(22, 0.20309028338479629), (31, 0.36674462850174222), (50, 0.01087922338610909), (52, 0.28083391818873826), (54, 0.015660999137945948), (62, 0.056011298372814808), (78, 0.03790224753998863), (81, 0.025965059178403704)]\n",
      "[(50, 0.98835294117646766)]\n"
     ]
    }
   ],
   "source": [
    "for doc in lda_corpus:\n",
    "    print(doc)"
   ]
  }
 ],
 "metadata": {
  "kernelspec": {
   "display_name": "Python [default]",
   "language": "python",
   "name": "python3"
  },
  "language_info": {
   "codemirror_mode": {
    "name": "ipython",
    "version": 3
   },
   "file_extension": ".py",
   "mimetype": "text/x-python",
   "name": "python",
   "nbconvert_exporter": "python",
   "pygments_lexer": "ipython3",
   "version": "3.5.2"
  }
 },
 "nbformat": 4,
 "nbformat_minor": 2
}
