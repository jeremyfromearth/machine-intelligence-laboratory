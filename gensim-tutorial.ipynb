{
 "cells": [
  {
   "cell_type": "markdown",
   "metadata": {},
   "source": [
    "# Gensim Tutorial\n",
    "Somewhat based on this: https://radimrehurek.com/gensim/tutorial.html"
   ]
  },
  {
   "cell_type": "code",
   "execution_count": 1,
   "metadata": {},
   "outputs": [],
   "source": [
    "import os\n",
    "from operator import itemgetter\n",
    "from gensim import corpora, models, similarities\n",
    "from gensim.utils import lemmatize"
   ]
  },
  {
   "cell_type": "markdown",
   "metadata": {},
   "source": [
    "## Load all the files from the `data/wired` folder\n",
    "Start by loading all of the articles and splitting them into arrays of words, removing stop words and any characters that are not alpha numeric"
   ]
  },
  {
   "cell_type": "code",
   "execution_count": 2,
   "metadata": {},
   "outputs": [],
   "source": [
    "docs = []\n",
    "stop_words = set()\n",
    "\n",
    "with open('./data/lists/stopwords.txt') as f:\n",
    "    stop_words = [line.rstrip().lower() for line in f]\n",
    "    \n",
    "illegal_chars = [word for word in stop_words if len(word) == 1 and not word.isalnum()]\n",
    "\n",
    "for fname in os.listdir('./data/wired'):\n",
    "    if fname.endswith('.txt'):\n",
    "        with open('./data/wired/{}'.format(fname)) as f:\n",
    "            # split words on spaces\n",
    "            words = f.read().lower().split(' ')\n",
    "            # ignore illegal terms\n",
    "            words = [''.join([c for c in w if c not in illegal_chars]) for w in words] \n",
    "            # only take words with two or more chars that aren't stop words\n",
    "            words = [w for w in words if len(w) > 1 and w not in stop_words]\n",
    "            docs += [words]"
   ]
  },
  {
   "cell_type": "markdown",
   "metadata": {},
   "source": [
    "## Create a dictionary and bag of words corpus"
   ]
  },
  {
   "cell_type": "code",
   "execution_count": 3,
   "metadata": {},
   "outputs": [],
   "source": [
    "dictionary = corpora.Dictionary(docs) # dictionary for the entire corpus\n",
    "bow_corpus = [dictionary.doc2bow(doc) for doc in docs] # word count vectors (bag of words)"
   ]
  },
  {
   "cell_type": "markdown",
   "metadata": {},
   "source": [
    "## Only need to save the dictionary and model if the data changes"
   ]
  },
  {
   "cell_type": "code",
   "execution_count": 4,
   "metadata": {},
   "outputs": [],
   "source": [
    "# saving dictionary and corpus to disk\n",
    "#dictionary.save('./data/wired/models/dictionary.dict') \n",
    "#corpora.MmCorpus.serialize('./data/wired/models/corpus.mm', bow_corpus)"
   ]
  },
  {
   "cell_type": "markdown",
   "metadata": {},
   "source": [
    "## Create the TFIDF model"
   ]
  },
  {
   "cell_type": "code",
   "execution_count": 5,
   "metadata": {},
   "outputs": [],
   "source": [
    "# create tfidf representation\n",
    "mm = corpora.MmCorpus('./data/wired/models/corpus.mm')\n",
    "tfidf = models.TfidfModel(mm)\n",
    "tfidf_corpus = tfidf[bow_corpus]"
   ]
  },
  {
   "cell_type": "markdown",
   "metadata": {},
   "source": [
    "## Create an LSI (Latent Semantic Indexing) Model (uses fold-in method)"
   ]
  },
  {
   "cell_type": "code",
   "execution_count": 6,
   "metadata": {},
   "outputs": [],
   "source": [
    "lsi = models.LsiModel(tfidf_corpus, id2word=dictionary, num_topics=300)\n",
    "lsi_corpus = lsi[tfidf_corpus]"
   ]
  },
  {
   "cell_type": "code",
   "execution_count": 7,
   "metadata": {},
   "outputs": [
    {
     "name": "stdout",
     "output_type": "stream",
     "text": [
      "(0, 0.62667819875024466)\n",
      "[('security', 0.3243300562915431), ('devices', 0.20674016899881523), ('hackers', 0.19091617569088229), ('iot', 0.17493656545226605), ('hacking', 0.1666091725931729), ('work', 0.15509231067982518), ('cashatt', 0.15090803035671491), ('election', 0.14853902974129921), ('putin', 0.13625624098176559), ('russia', 0.13625624098176559)]\n",
      "(4, 0.45188759599824152)\n",
      "[('men', -0.27756536368622081), ('work', -0.26769162417213321), ('blue', 0.23840877099568347), ('plants', 0.14900548187230206), ('information', 0.1282867941156102), ('news', 0.12726899803280117), ('cashatt', -0.12125214654702605), ('jobs', -0.12037473819773574), ('crops', 0.11920438549784174), ('weeds', 0.11920438549784174)]\n",
      "(0, 0.51183405476670241)\n",
      "[('security', 0.3243300562915431), ('devices', 0.20674016899881523), ('hackers', 0.19091617569088229), ('iot', 0.17493656545226605), ('hacking', 0.1666091725931729), ('work', 0.15509231067982518), ('cashatt', 0.15090803035671491), ('election', 0.14853902974129921), ('putin', 0.13625624098176559), ('russia', 0.13625624098176559)]\n",
      "(4, 0.54272904062491778)\n",
      "[('men', -0.27756536368622081), ('work', -0.26769162417213321), ('blue', 0.23840877099568347), ('plants', 0.14900548187230206), ('information', 0.1282867941156102), ('news', 0.12726899803280117), ('cashatt', -0.12125214654702605), ('jobs', -0.12037473819773574), ('crops', 0.11920438549784174), ('weeds', 0.11920438549784174)]\n",
      "(1, 0.34410521082411083)\n",
      "[('blue', 0.19512380262654858), ('men', 0.15487755274132112), ('russia', -0.13828325634891675), ('putin', -0.13828325634891675), ('cashatt', 0.13444349929309107), ('work', 0.13190883604156192), ('orwl', 0.12524224402702513), ('plants', 0.12195237664159296), ('software', 0.1194234575797605), ('election', -0.11290079455149918)]\n",
      "(0, 0.5304525913127851)\n",
      "[('security', 0.3243300562915431), ('devices', 0.20674016899881523), ('hackers', 0.19091617569088229), ('iot', 0.17493656545226605), ('hacking', 0.1666091725931729), ('work', 0.15509231067982518), ('cashatt', 0.15090803035671491), ('election', 0.14853902974129921), ('putin', 0.13625624098176559), ('russia', 0.13625624098176559)]\n",
      "(6, 0.56830963288054592)\n",
      "[('devices', -0.38635442926439373), ('iot', -0.33555972322248889), ('cashatt', 0.29251912622506004), ('hotel', 0.21554040879741246), ('security', -0.20908949603779339), ('onity', 0.13856169136976249), ('putin', 0.13064072939806004), ('russia', 0.13064072939806004), ('brocious', 0.12316594788423565), ('lock', 0.11803403338905989)]\n",
      "(2, 0.61744823242389979)\n",
      "[('men', -0.25551228697384953), ('work', -0.22156469574901777), ('devices', 0.16478479439868365), ('orwl', 0.14410868269154251), ('iot', 0.14049600944179544), ('blue', -0.13729465947110633), ('security', 0.13694996272727608), ('data', 0.11019015743914876), ('jobs', -0.10892341025709787), ('robots', -0.10732717543173377)]\n"
     ]
    }
   ],
   "source": [
    "for doc in lsi_corpus:\n",
    "    top_match = max(doc, key=itemgetter(1))\n",
    "    print(top_match)\n",
    "    print(lsi.show_topic(top_match[0], 10))"
   ]
  },
  {
   "cell_type": "markdown",
   "metadata": {},
   "source": [
    "## Create an LDA (Latent Dirichlet Allocation) Model"
   ]
  },
  {
   "cell_type": "code",
   "execution_count": 8,
   "metadata": {},
   "outputs": [],
   "source": [
    "lda = models.LdaModel(bow_corpus, id2word=dictionary, num_topics=100)\n",
    "lda_corpus = lda[bow_corpus]"
   ]
  },
  {
   "cell_type": "code",
   "execution_count": 9,
   "metadata": {},
   "outputs": [
    {
     "name": "stdout",
     "output_type": "stream",
     "text": [
      "[(64, 0.034638572852052553), (77, 0.96281597260249341)]\n",
      "[('intercept', 0.0097306287828162284), ('hacking', 0.0091077121234444357), ('election', 0.0086715252195577498), ('security', 0.0084208854065380753), ('russian', 0.0079518836635260066), ('winner', 0.0070191272657862949), ('cashatt', 0.0069448646907382299), ('document', 0.0065947558876756169), ('nsa', 0.0062013536766551986), ('hotel', 0.0058033186511500705)]\n",
      "[(86, 0.9966778523489932)]\n",
      "[('information', 0.010369054017427487), ('social', 0.0076013267751999054), ('news', 0.0063845212143228466), ('media', 0.0063455833678707418), ('kross', 0.0055668943951487403), ('fomo', 0.005555015361700992), ('cashatt', 0.0050483305993948048), ('work', 0.0049185067142384986), ('sundar', 0.004672859378210722), ('spoke', 0.0044740851625853046)]\n",
      "[(0, 0.012288137543785061), (24, 0.031254233972190751), (34, 0.025631487559149495), (40, 0.49537903437055975), (51, 0.39205258143563837), (77, 0.020610432101242294)]\n",
      "[('blue', 0.018024649015629311), ('technology', 0.011659116062848952), ('river', 0.010033068334472739), ('plants', 0.0096606738140811825), ('system', 0.0083975781729739001), ('crops', 0.0073657242926397169), ('deere', 0.0069022117137309746), ('weeds', 0.0067786911378469169), ('rivers', 0.0064063432427574202), ('equipment', 0.0062911627247617076)]\n",
      "[(0, 0.99561946902655263)]\n",
      "[('blue', 0.018024649015629311), ('technology', 0.011659116062848952), ('river', 0.010033068334472739), ('plants', 0.0096606738140811825), ('system', 0.0083975781729739001), ('crops', 0.0073657242926397169), ('deere', 0.0069022117137309746), ('weeds', 0.0067786911378469169), ('rivers', 0.0064063432427574202), ('equipment', 0.0062911627247617076)]\n",
      "[(34, 0.99750629722922068)]\n",
      "[('men', 0.027646829967725075), ('work', 0.023133399014872512), ('jobs', 0.017223260821569431), ('problem', 0.010247582206301642), ('labor', 0.0092506338152404666), ('robots', 0.0083748468083741107), ('pay', 0.0081791101627627146), ('automation', 0.0079488261253585768), ('percent', 0.0071858585772522493), ('unpaid', 0.0065071469508506336)]\n",
      "[(24, 0.99715517241379503)]\n",
      "[('putin', 0.011987970146528443), ('russia', 0.010224097103021242), ('cashatt', 0.0088946666222074998), ('election', 0.0062856878789292765), ('hackers', 0.0059970469881691652), ('russias', 0.0051900353868912273), ('russian', 0.0049523623398539558), ('security', 0.0047688567376887271), ('hacking', 0.0046840252652968224), ('hotel', 0.0046418475405507025)]\n",
      "[(0, 0.012158664386097359), (24, 0.022705360910096974), (34, 0.018897606039169439), (40, 0.018608212654273863), (64, 0.012924219875478773), (72, 0.86017156647127546), (77, 0.012298181682335558), (86, 0.021023940718975918)]\n",
      "[('blue', 0.018024649015629311), ('technology', 0.011659116062848952), ('river', 0.010033068334472739), ('plants', 0.0096606738140811825), ('system', 0.0083975781729739001), ('crops', 0.0073657242926397169), ('deere', 0.0069022117137309746), ('weeds', 0.0067786911378469169), ('rivers', 0.0064063432427574202), ('equipment', 0.0062911627247617076)]\n",
      "[(47, 0.98605633802815618)]\n",
      "[('data', 0.011342487466750633), ('orwl', 0.010664780019992361), ('locks', 0.0085687104691463106), ('police', 0.0067858931233239486), ('hacker', 0.0061687295117333341), ('admins', 0.0061676638668595645), ('circuit', 0.0061592132748418803), ('mini', 0.006152194591353753), ('thought', 0.0060398276936072916), ('cracked', 0.006036279798689417)]\n"
     ]
    }
   ],
   "source": [
    "for doc in lda_corpus:\n",
    "    print(doc)\n",
    "    print(lda.show_topic(doc[0][0], 10))"
   ]
  },
  {
   "cell_type": "markdown",
   "metadata": {},
   "source": [
    "## Create an HDP (Hierarchical Dirichlet process) Model"
   ]
  },
  {
   "cell_type": "code",
   "execution_count": 10,
   "metadata": {},
   "outputs": [],
   "source": [
    "hdp = models.HdpModel(bow_corpus, id2word=dictionary)\n",
    "hdp_corpus = hdp[bow_corpus]"
   ]
  },
  {
   "cell_type": "code",
   "execution_count": 11,
   "metadata": {},
   "outputs": [
    {
     "name": "stdout",
     "output_type": "stream",
     "text": [
      "[(3, 0.99767319478602967)]\n",
      "[('intercept', 0.013438100200322871), ('election', 0.010769563067823543), ('russian', 0.0095713241512019875), ('winner', 0.0095164170097326844), ('nsa', 0.0083091376193723202), ('document', 0.0082167559911182856), ('hacking', 0.00733547941544901), ('complaint', 0.0069801407692424563), ('report', 0.0068785012805911991), ('security', 0.0067907494756502236)]\n",
      "[(5, 0.99678097903289931)]\n",
      "[('news', 0.0076446069322060736), ('social', 0.0076282419170066278), ('information', 0.0076186587428537979), ('media', 0.0065323474824670541), ('fomo', 0.0064392947868381666), ('sundar', 0.0048972778664197912), ('kross', 0.0047247049251415143), ('time', 0.0037079384436114341), ('hits', 0.003523171809125696), ('spoke', 0.0033909605568209094)]\n",
      "[(1, 0.99893822057655901)]\n",
      "[('iot', 0.041388125108707992), ('devices', 0.032092402055070995), ('security', 0.024826026242345797), ('standards', 0.011080846363557389), ('data', 0.0074366382090941966), ('industry', 0.0073943665423178541), ('moyer', 0.0073469813476433289), ('hackers', 0.0064531572940949682), ('system', 0.0057110093629585169), ('set', 0.0050774393854707929)]\n",
      "[(6, 0.99567499967372974)]\n",
      "[('blue', 0.013449960100199786), ('technology', 0.010169577343159682), ('river', 0.0084546454564319012), ('plants', 0.0084369565543396634), ('crops', 0.0070052821266457016), ('weeds', 0.0067967501817439747), ('john', 0.0061484622257878948), ('system', 0.005429251300554435), ('stone', 0.0053479048198448982), ('herbicide', 0.0052645653769919868)]\n",
      "[(2, 0.99787608267500272)]\n",
      "[('men', 0.018331882338462262), ('work', 0.017031414844976202), ('jobs', 0.011696920498589775), ('problem', 0.0078228816430614741), ('labor', 0.0066401084279710653), ('automation', 0.0065847564331877944), ('robots', 0.0057388327835950674), ('womens', 0.0055951504714433073), ('percent', 0.0053574794777150117), ('unpaid', 0.0052399496078631164)]\n",
      "[(4, 0.9973186652663385)]\n",
      "[('russia', 0.012687794296992485), ('putin', 0.012580348044616422), ('hackers', 0.0058195133721098457), ('russian', 0.0058153674342263104), ('election', 0.005754876891167022), ('russias', 0.0056217179541075578), ('plausible', 0.0045504783336164176), ('putins', 0.0044352038539959646), ('deniability', 0.0043995174357080542), ('hacking', 0.0043942729982869005)]\n",
      "[(0, 0.99975587101922403)]\n",
      "[('cashatt', 0.017985258781266566), ('hotel', 0.013330734972100687), ('onity', 0.0085216291346283286), ('brocious', 0.0076027160874347971), ('lock', 0.007360741436709433), ('room', 0.0063140255143268641), ('hed', 0.0056829823669123499), ('cashatts', 0.0053883272674122842), ('locks', 0.0051718383723648384), ('device', 0.004789800269495461)]\n",
      "[(7, 0.98604169443000012)]\n",
      "[('data', 0.0057575789919002461), ('orwl', 0.0056423727153115015), ('seconds', 0.0034362748868797567), ('unscrewed', 0.0033556057121083621), ('moved', 0.0033508575017593958), ('drill', 0.00334663162885512), ('motherboard', 0.0033338250720742198), ('mac', 0.0030881056474152844), ('police', 0.0030721830104369673), ('mesh', 0.0029957131601619771)]\n"
     ]
    }
   ],
   "source": [
    "for doc in hdp_corpus:\n",
    "    print(doc)\n",
    "    print(hdp.show_topic(doc[0][0], num_words=10))"
   ]
  }
 ],
 "metadata": {
  "kernelspec": {
   "display_name": "Python [default]",
   "language": "python",
   "name": "python3"
  },
  "language_info": {
   "codemirror_mode": {
    "name": "ipython",
    "version": 3
   },
   "file_extension": ".py",
   "mimetype": "text/x-python",
   "name": "python",
   "nbconvert_exporter": "python",
   "pygments_lexer": "ipython3",
   "version": "3.5.2"
  }
 },
 "nbformat": 4,
 "nbformat_minor": 2
}
