{
 "cells": [
  {
   "cell_type": "markdown",
   "metadata": {},
   "source": [
    "# Gensim Tutorial\n",
    "Somewhat based on this: https://radimrehurek.com/gensim/tutorial.html"
   ]
  },
  {
   "cell_type": "code",
   "execution_count": 1,
   "metadata": {},
   "outputs": [],
   "source": [
    "import os\n",
    "from operator import itemgetter\n",
    "from gensim import corpora, models, similarities\n",
    "from gensim.utils import lemmatize"
   ]
  },
  {
   "cell_type": "markdown",
   "metadata": {},
   "source": [
    "## Load all the files from the `data/wired` folder\n",
    "Start by loading all of the articles and splitting them into arrays of words, removing stop words and any characters that are not alpha numeric"
   ]
  },
  {
   "cell_type": "code",
   "execution_count": 2,
   "metadata": {},
   "outputs": [],
   "source": [
    "docs = []\n",
    "stop_words = set()\n",
    "\n",
    "with open('./data/lists/stopwords.txt') as f:\n",
    "    stop_words = [line.rstrip().lower() for line in f]\n",
    "    \n",
    "illegal_chars = [word for word in stop_words if len(word) == 1 and not word.isalnum()]\n",
    "\n",
    "for fname in os.listdir('./data/wired'):\n",
    "    if fname.endswith('.txt'):\n",
    "        with open('./data/wired/{}'.format(fname)) as f:\n",
    "            # split words on spaces\n",
    "            words = f.read().lower().split(' ')\n",
    "            # ignore illegal terms\n",
    "            words = [''.join([c for c in w if c not in illegal_chars]) for w in words] \n",
    "            # only take words with two or more chars that aren't stop words\n",
    "            words = [w for w in words if len(w) > 1 and w not in stop_words]\n",
    "            docs += [words]"
   ]
  },
  {
   "cell_type": "markdown",
   "metadata": {},
   "source": [
    "## Create a dictionary and bag of words corpus"
   ]
  },
  {
   "cell_type": "code",
   "execution_count": 3,
   "metadata": {},
   "outputs": [],
   "source": [
    "dictionary = corpora.Dictionary(docs) # dictionary for the entire corpus\n",
    "bow_corpus = [dictionary.doc2bow(doc) for doc in docs] # word count vectors (bag of words)"
   ]
  },
  {
   "cell_type": "markdown",
   "metadata": {},
   "source": [
    "## Only need to save the dictionary and model if the data changes"
   ]
  },
  {
   "cell_type": "code",
   "execution_count": 4,
   "metadata": {},
   "outputs": [],
   "source": [
    "# saving dictionary and corpus to disk\n",
    "#dictionary.save('./data/wired/models/dictionary.dict') \n",
    "#corpora.MmCorpus.serialize('./data/wired/models/corpus.mm', bow_corpus)"
   ]
  },
  {
   "cell_type": "markdown",
   "metadata": {},
   "source": [
    "## Create the TFIDF model"
   ]
  },
  {
   "cell_type": "code",
   "execution_count": 5,
   "metadata": {},
   "outputs": [],
   "source": [
    "# create tfidf representation\n",
    "mm = corpora.MmCorpus('./data/wired/models/corpus.mm')\n",
    "tfidf = models.TfidfModel(mm)\n",
    "tfidf_corpus = tfidf[bow_corpus]"
   ]
  },
  {
   "cell_type": "markdown",
   "metadata": {},
   "source": [
    "## Create an LSI (Latent Semantic Indexing) Model (uses fold-in method)"
   ]
  },
  {
   "cell_type": "code",
   "execution_count": 6,
   "metadata": {},
   "outputs": [],
   "source": [
    "lsi = models.LsiModel(tfidf_corpus, id2word=dictionary, num_topics=300)\n",
    "lsi_corpus = lsi[tfidf_corpus]"
   ]
  },
  {
   "cell_type": "code",
   "execution_count": 7,
   "metadata": {},
   "outputs": [
    {
     "name": "stdout",
     "output_type": "stream",
     "text": [
      "(0, 0.57753467744174392)\n",
      "[('election', 0.21564844798358612), ('iot', 0.19825962077619444), ('hackers', 0.19684563213896544), ('hacking', 0.1627971215067246), ('work', 0.15850655860976157), ('putin', 0.15603826643982785), ('devices', 0.1559621128664444), ('cashatt', 0.15049586846400648), ('government', 0.15044906856260609), ('russian', 0.12252544387212985)]\n",
      "(0, 0.31008489508030485)\n",
      "[('election', 0.21564844798358612), ('iot', 0.19825962077619444), ('hackers', 0.19684563213896544), ('hacking', 0.1627971215067246), ('work', 0.15850655860976157), ('putin', 0.15603826643982785), ('devices', 0.1559621128664444), ('cashatt', 0.15049586846400648), ('government', 0.15044906856260609), ('russian', 0.12252544387212985)]\n",
      "(6, 0.55270118709987459)\n",
      "[('iot', 0.35669893366998379), ('devices', 0.27991478241583284), ('cashatt', 0.21223480749975665), ('hotel', 0.15638354236824156), ('standards', 0.14267957346799356), ('orwl', -0.13259546154311583), ('men', -0.12433444098364053), ('election', -0.1017114792555123), ('security', 0.10161000934109604), ('onity', 0.10053227723672743)]\n",
      "(3, 0.73846825832234742)\n",
      "[('blue', 0.20901821910215362), ('plants', 0.19595458040826924), ('river', 0.19389647199166746), ('technology', 0.16387934073827065), ('crops', 0.15676366432661545), ('weeds', 0.15676366432661545), ('stone', 0.1175727482449614), ('deere', 0.1175727482449614), ('herbicide', 0.1175727482449614), ('rivers', 0.1175727482449614)]\n",
      "(5, 0.45173027504426727)\n",
      "[('iot', 0.33418574725463351), ('cashatt', -0.27357560338116876), ('devices', 0.25672253320528604), ('men', 0.22296926645213155), ('hotel', -0.20158202354401866), ('work', 0.17967943848488308), ('jobs', 0.13853781358722583), ('standards', 0.13367429890185353), ('onity', -0.12958844370686984), ('brocious', -0.11518972773943886)]\n",
      "(7, 0.62584558526186274)\n",
      "[('putin', 0.29067334900434771), ('winner', -0.21333856116539793), ('intercept', -0.20296181890374809), ('russia', 0.19378223266956529), ('nsa', -0.18266563701337318), ('report', -0.1524831824357302), ('complaint', -0.15222136417781124), ('classified', -0.15222136417781101), ('intelligence', -0.1222343939751729), ('document', -0.12143052905996322)]\n",
      "(0, 0.44530735625591061)\n",
      "[('election', 0.21564844798358612), ('iot', 0.19825962077619444), ('hackers', 0.19684563213896544), ('hacking', 0.1627971215067246), ('work', 0.15850655860976157), ('putin', 0.15603826643982785), ('devices', 0.1559621128664444), ('cashatt', 0.15049586846400648), ('government', 0.15044906856260609), ('russian', 0.12252544387212985)]\n",
      "(1, 0.55005106852957097)\n",
      "[('election', -0.19530859581674506), ('data', 0.1664074217845565), ('putin', -0.16349908463704924), ('cashatt', 0.12763784717472743), ('russian', -0.1238762127016715), ('orwl', 0.12103033020606563), ('men', 0.1196111100279911), ('hacking', -0.11068787193035552), ('software', 0.11064544224481097), ('winner', -0.11008640446439379)]\n"
     ]
    }
   ],
   "source": [
    "for doc in lsi_corpus:\n",
    "    top_match = max(doc, key=itemgetter(1))\n",
    "    print(top_match)\n",
    "    print(lsi.show_topic(top_match[0], 10))"
   ]
  },
  {
   "cell_type": "markdown",
   "metadata": {},
   "source": [
    "## Create an LDA (Latent Dirichlet Allocation) Model"
   ]
  },
  {
   "cell_type": "code",
   "execution_count": 8,
   "metadata": {},
   "outputs": [],
   "source": [
    "lda = models.LdaModel(bow_corpus, id2word=dictionary, num_topics=100)\n",
    "lda_corpus = lda[bow_corpus]"
   ]
  },
  {
   "cell_type": "code",
   "execution_count": 9,
   "metadata": {},
   "outputs": [
    {
     "name": "stdout",
     "output_type": "stream",
     "text": [
      "[(10, 0.99742857142857344)]\n",
      "[('election', 0.011194782380322729), ('intercept', 0.0099475342618827126), ('russian', 0.0097870238167443759), ('hacking', 0.0094002726781685052), ('winner', 0.0082058178408981955), ('cashatt', 0.0075804363980225943), ('document', 0.0072448252656573241), ('hackers', 0.0066411739974194545), ('nsa', 0.0063848006079605998), ('security', 0.0063120555913331999)]\n",
      "[(78, 0.88639561667327005), (82, 0.11031579272270381)]\n",
      "[('social', 0.0084568429008106041), ('information', 0.0079890196262725598), ('cashatt', 0.0078712996231648461), ('news', 0.0069038042858163857), ('media', 0.0067068376859457943), ('fomo', 0.0061350287720187717), ('time', 0.0055435640775123897), ('sundar', 0.0051536789099410141), ('end', 0.0049002289894641057), ('kross', 0.0046443086522118589)]\n",
      "[(10, 0.012383446827134407), (73, 0.12941071058651663), (98, 0.85258330544135308)]\n",
      "[('election', 0.011194782380322729), ('intercept', 0.0099475342618827126), ('russian', 0.0097870238167443759), ('hacking', 0.0094002726781685052), ('winner', 0.0082058178408981955), ('cashatt', 0.0075804363980225943), ('document', 0.0072448252656573241), ('hackers', 0.0066411739974194545), ('nsa', 0.0063848006079605998), ('security', 0.0063120555913331999)]\n",
      "[(64, 0.99561946902655007)]\n",
      "[('blue', 0.019353401379668719), ('technology', 0.014379046631295496), ('river', 0.010340480812602085), ('crops', 0.0097406788697695021), ('plants', 0.0092722729508481518), ('john', 0.0079476625388857358), ('weeds', 0.0068671905593841679), ('herbicide', 0.0067186517667677378), ('equipment', 0.0066206942420433635), ('rivers', 0.006554532986444303)]\n",
      "[(28, 0.083432971958643673), (82, 0.90223077691700393)]\n",
      "[('men', 0.019437842666739511), ('work', 0.013228989353675719), ('jobs', 0.013172041670932307), ('problem', 0.0079368123295297487), ('pay', 0.0072486225549027042), ('automation', 0.0061140476355854984), ('percent', 0.0057578779977264594), ('robots', 0.0055480520493980971), ('coming', 0.0055069526499571912), ('labor', 0.0053752211991738089)]\n",
      "[(10, 0.057239053690698399), (61, 0.42393943933996597), (63, 0.51073962123297101)]\n",
      "[('election', 0.011194782380322729), ('intercept', 0.0099475342618827126), ('russian', 0.0097870238167443759), ('hacking', 0.0094002726781685052), ('winner', 0.0082058178408981955), ('cashatt', 0.0075804363980225943), ('document', 0.0072448252656573241), ('hackers', 0.0066411739974194545), ('nsa', 0.0063848006079605998), ('security', 0.0063120555913331999)]\n",
      "[(10, 0.26461574389219611), (26, 0.052182549200014666), (39, 0.57555648959847105), (64, 0.020635130278236061), (67, 0.011156569580269551), (73, 0.020668092420716253), (78, 0.013061620237786644), (82, 0.025674295263646306), (98, 0.014766150390258057)]\n",
      "[('election', 0.011194782380322729), ('intercept', 0.0099475342618827126), ('russian', 0.0097870238167443759), ('hacking', 0.0094002726781685052), ('winner', 0.0082058178408981955), ('cashatt', 0.0075804363980225943), ('document', 0.0072448252656573241), ('hackers', 0.0066411739974194545), ('nsa', 0.0063848006079605998), ('security', 0.0063120555913331999)]\n",
      "[(67, 0.98605633802816672)]\n",
      "[('data', 0.016035057574607842), ('orwl', 0.015521001256595722), ('locks', 0.0092516205886306966), ('hacker', 0.0083516352902657937), ('police', 0.008268140897357246), ('key', 0.0081911199089700522), ('moved', 0.0081071719344538024), ('hopes', 0.0080706162703962671), ('software', 0.0080537998709890087), ('circuit', 0.0080465508594826582)]\n"
     ]
    }
   ],
   "source": [
    "for doc in lda_corpus:\n",
    "    print(doc)\n",
    "    print(lda.show_topic(doc[0][0], 10))"
   ]
  },
  {
   "cell_type": "markdown",
   "metadata": {},
   "source": [
    "## Create an HDP (Hierarchical Dirichlet process) Model"
   ]
  },
  {
   "cell_type": "code",
   "execution_count": 10,
   "metadata": {},
   "outputs": [],
   "source": [
    "hdp = models.HdpModel(bow_corpus, id2word=dictionary)\n",
    "hdp_corpus = hdp[bow_corpus]"
   ]
  },
  {
   "cell_type": "code",
   "execution_count": 11,
   "metadata": {},
   "outputs": [
    {
     "name": "stdout",
     "output_type": "stream",
     "text": [
      "[(3, 0.99767327567723307)]\n",
      "[('intercept', 0.013400636917937442), ('election', 0.010706111926800913), ('russian', 0.010155845408113724), ('winner', 0.0096564256269573087), ('document', 0.0082750098866019844), ('nsa', 0.0081720667145457788), ('report', 0.0068801932235540361), ('classified', 0.0068659443930109889), ('complaint', 0.0067893334907725726), ('hacking', 0.0067383569308189974)]\n",
      "[(5, 0.99678060327906504)]\n",
      "[('social', 0.0081168386813532615), ('news', 0.0077859717592866223), ('information', 0.0075838873044937593), ('media', 0.006539111349089485), ('fomo', 0.0061403070619438531), ('sundar', 0.0047077399969778421), ('kross', 0.0046120245044174255), ('studies', 0.0035575139826622853), ('stems', 0.0035007190869300801), ('describing', 0.0034576059229343278)]\n",
      "[(1, 0.9989382324081133)]\n",
      "[('iot', 0.041059652327126502), ('devices', 0.031986866740795934), ('security', 0.024626573956499576), ('standards', 0.011036513591412717), ('data', 0.0076184812034459856), ('moyer', 0.007369621761888075), ('industry', 0.0073286382416754975), ('hackers', 0.0065513347241850086), ('system', 0.0054677601387750421), ('set', 0.0050977653199715065)]\n",
      "[(6, 0.99567473243797056)]\n",
      "[('blue', 0.013691911682476006), ('technology', 0.010412558134341382), ('plants', 0.008735131615007859), ('river', 0.0085442067764106844), ('weeds', 0.0070201366132596052), ('crops', 0.0068628589615670147), ('equipment', 0.0054499079900363076), ('system', 0.005202129372786979), ('deere', 0.0051970034973280272), ('herbicide', 0.0051731185656014225)]\n",
      "[(2, 0.99787685393310643)]\n",
      "[('men', 0.018444404766293877), ('work', 0.017107991277793326), ('jobs', 0.011796821293261412), ('problem', 0.0078846477099399712), ('labor', 0.0066457418439243177), ('automation', 0.0065933284285351942), ('robots', 0.0058207268291366101), ('womens', 0.0055112906672806902), ('unpaid', 0.005342155121275967), ('percent', 0.0053363845431540179)]\n",
      "[(4, 0.99731828542092305)]\n",
      "[('putin', 0.012815685433309949), ('russia', 0.012733280891947524), ('hackers', 0.0062470518383784569), ('russian', 0.005852654724570615), ('election', 0.0058013392689006248), ('russias', 0.0056792043929713874), ('hacking', 0.0045606514719193367), ('deniability', 0.0045227359871753197), ('government', 0.0044564180778388163), ('administration', 0.0043900873675891804)]\n",
      "[(0, 0.99975588012706273)]\n",
      "[('cashatt', 0.018030307260497837), ('hotel', 0.013253307621343498), ('onity', 0.0085617436918994164), ('brocious', 0.0076454349009891197), ('lock', 0.0072995256484829915), ('room', 0.006332195950237823), ('hed', 0.0057345886067896035), ('cashatts', 0.0054125305753019142), ('locks', 0.0050773625495201249), ('device', 0.0047891162132972127)]\n",
      "[(7, 0.98603734788811681)]\n",
      "[('orwl', 0.0047235178820263044), ('data', 0.0046951513819832686), ('6inch', 0.0037920694741073535), ('offspring', 0.003584497452147976), ('hacker', 0.0033987987677764576), ('pc', 0.0033190554171765147), ('crafty', 0.003177455745034185), ('code—of', 0.003080454943556674), ('shuts', 0.0030574418899442578), ('admins', 0.0029934011708740021)]\n"
     ]
    }
   ],
   "source": [
    "for doc in hdp_corpus:\n",
    "    print(doc)\n",
    "    print(hdp.show_topic(doc[0][0], num_words=10))"
   ]
  }
 ],
 "metadata": {
  "kernelspec": {
   "display_name": "Python [default]",
   "language": "python",
   "name": "python3"
  },
  "language_info": {
   "codemirror_mode": {
    "name": "ipython",
    "version": 3
   },
   "file_extension": ".py",
   "mimetype": "text/x-python",
   "name": "python",
   "nbconvert_exporter": "python",
   "pygments_lexer": "ipython3",
   "version": "3.5.2"
  }
 },
 "nbformat": 4,
 "nbformat_minor": 2
}
