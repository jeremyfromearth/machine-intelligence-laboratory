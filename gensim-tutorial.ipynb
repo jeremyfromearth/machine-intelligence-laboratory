{
 "cells": [
  {
   "cell_type": "markdown",
   "metadata": {},
   "source": [
    "# Gensim Tutorial"
   ]
  },
  {
   "cell_type": "code",
   "execution_count": 113,
   "metadata": {},
   "outputs": [],
   "source": [
    "import os\n",
    "from operator import itemgetter\n",
    "from gensim import corpora, models, similarities\n",
    "from gensim.utils import lemmatize"
   ]
  },
  {
   "cell_type": "markdown",
   "metadata": {},
   "source": [
    "## Load all the files from the `data/wired` folder"
   ]
  },
  {
   "cell_type": "code",
   "execution_count": 46,
   "metadata": {},
   "outputs": [],
   "source": [
    "docs = []\n",
    "stop_words = set()\n",
    "\n",
    "with open('./data/lists/stopwords.txt') as f:\n",
    "    stop_words = [line.rstrip().lower() for line in f]\n",
    "    \n",
    "illegal_chars = [word for word in stop_words if len(word) == 1 and not word.isalnum()]\n",
    "\n",
    "for fname in os.listdir('./data/wired'):\n",
    "    if fname.endswith('.txt'):\n",
    "        with open('./data/wired/{}'.format(fname)) as f:\n",
    "            # split words on spaces\n",
    "            words = f.read().lower().split(' ')\n",
    "            # ignore illegal terms\n",
    "            words = [''.join([c for c in w if c not in illegal_chars]) for w in words] \n",
    "            # only take words with two or more chars that aren't stop words\n",
    "            words = [w for w in words if len(w) > 1 and w not in stop_words]\n",
    "            docs += [words]"
   ]
  },
  {
   "cell_type": "markdown",
   "metadata": {},
   "source": [
    "## Create a dictionary and bag of words corpus"
   ]
  },
  {
   "cell_type": "code",
   "execution_count": 47,
   "metadata": {},
   "outputs": [],
   "source": [
    "dictionary = corpora.Dictionary(docs) # dictionary for the entire corpus\n",
    "corpus = [dictionary.doc2bow(doc) for doc in docs] # word count vectors (bag of words)\n",
    "\n",
    "# saving dictionary and corpus to disk\n",
    "dictionary.save('./data/wired/models/dictionary.dict') \n",
    "corpora.MmCorpus.serialize('./data/wired/models/corpus.mm', corpus)"
   ]
  },
  {
   "cell_type": "markdown",
   "metadata": {},
   "source": [
    "## Create the TFIDF model"
   ]
  },
  {
   "cell_type": "code",
   "execution_count": 48,
   "metadata": {},
   "outputs": [],
   "source": [
    "# create tfidf representation\n",
    "mm = corpora.MmCorpus('./data/wired/models/corpus.mm')\n",
    "tfidf = models.TfidfModel(mm)\n",
    "corpus_tfidf = tfidf[corpus]"
   ]
  },
  {
   "cell_type": "markdown",
   "metadata": {},
   "source": [
    "## Create an LSI (Latent Semantic Indexing) Model (uses fold-in method)"
   ]
  },
  {
   "cell_type": "code",
   "execution_count": 149,
   "metadata": {},
   "outputs": [],
   "source": [
    "lsi = models.LsiModel(corpus_tfidf, id2word=dictionary, num_topics=300)\n",
    "lsi_corpus = lsi[corpus_tfidf]"
   ]
  },
  {
   "cell_type": "code",
   "execution_count": 164,
   "metadata": {},
   "outputs": [
    {
     "name": "stdout",
     "output_type": "stream",
     "text": [
      "(1, 0.39896670366275572)\n",
      "[('men', -0.2546495414771705), ('russia', 0.18125058180085657), ('putin', 0.18125058180085657), ('blue', -0.16350456160840468), ('intercept', 0.16266997293091615), ('cashatt', -0.14785049158315747), ('russian', 0.12961653012356955), ('jobs', -0.11086476329152289), ('hotel', -0.10894246748232811), ('plants', -0.1021903510052531)]\n",
      "(3, 0.55376455575008388)\n",
      "[('blue', -0.29428489413668935), ('iot', -0.28597034811732663), ('plants', -0.18392805883543081), ('crops', -0.14714244706834467), ('weeds', -0.14714244706834467), ('devices', -0.14713603529043509), ('fomo', 0.12963960007867167), ('river', -0.12147381993470134), ('rivers', -0.11035683530125853), ('stone', -0.11035683530125853)]\n",
      "(1, -0.017054552516255761)\n",
      "[('men', -0.2546495414771705), ('russia', 0.18125058180085657), ('putin', 0.18125058180085657), ('blue', -0.16350456160840468), ('intercept', 0.16266997293091615), ('cashatt', -0.14785049158315747), ('russian', 0.12961653012356955), ('jobs', -0.11086476329152289), ('hotel', -0.10894246748232811), ('plants', -0.1021903510052531)]\n",
      "(4, 0.38478472139338082)\n",
      "[('iot', -0.62765438736234924), ('devices', -0.3247652013183524), ('blue', 0.16872107758659627), ('standards', -0.16737450329662609), ('moyer', -0.11158300219775093), ('plants', 0.10545067349162249), ('weeds', 0.084360538793298134), ('crops', 0.084360538793298134), ('russia', 0.080961687736936683), ('putin', 0.080961687736936683)]\n",
      "(5, 0.64127446988346204)\n",
      "[('men', 0.36427785808937374), ('cashatt', -0.21337750208199122), ('hotel', -0.15722552784988963), ('jobs', 0.15362343873909853), ('labor', 0.13009923503191956), ('automation', 0.13009923503191956), ('blue', -0.1243417635386684), ('unpaid', 0.10407938802553535), ('womens', 0.10407938802553535), ('onity', -0.10107355361778626)]\n",
      "(7, 0.64184710418617097)\n",
      "[('intercept', -0.3105531907569361), ('putin', 0.2743198280014093), ('russia', 0.2743198280014093), ('nsa', -0.18633191445416147), ('complaint', -0.15527659537846819), ('classified', -0.15527659537846777), ('winner', -0.1451511638553479), ('document', -0.12313109995823383), ('cashatt', 0.093210077458203422), ('disrupt', -0.093165957227080765)]\n",
      "(6, 0.61966903053414379)\n",
      "[('cashatt', 0.30746038912118684), ('hotel', 0.22654976040508784), ('onity', 0.14563913168898499), ('men', 0.13368956015473415), ('fomo', -0.13047823747505932), ('brocious', 0.12945700594576348), ('blue', -0.12444066395565589), ('lock', 0.12406296403135647), ('room', 0.10788083828813674), ('social', -0.10236569503137152)]\n",
      "(5, 0.36193419393895465)\n",
      "[('men', 0.36427785808937374), ('cashatt', -0.21337750208199122), ('hotel', -0.15722552784988963), ('jobs', 0.15362343873909853), ('labor', 0.13009923503191956), ('automation', 0.13009923503191956), ('blue', -0.1243417635386684), ('unpaid', 0.10407938802553535), ('womens', 0.10407938802553535), ('onity', -0.10107355361778626)]\n"
     ]
    }
   ],
   "source": [
    "for doc in lsi_corpus:\n",
    "    top_match = max(doc, key=itemgetter(1))\n",
    "    print(top_match)\n",
    "    print(lsi.show_topic(top_match[0], 10))"
   ]
  },
  {
   "cell_type": "markdown",
   "metadata": {},
   "source": [
    "## Create an LDA (Latent Dirichlet Allocation) Model"
   ]
  },
  {
   "cell_type": "code",
   "execution_count": 151,
   "metadata": {},
   "outputs": [],
   "source": [
    "lda = models.LdaModel(corpus, id2word=dictionary, num_topics=100)\n",
    "lda_corpus = lda[corpus]"
   ]
  },
  {
   "cell_type": "code",
   "execution_count": 163,
   "metadata": {},
   "outputs": [
    {
     "name": "stdout",
     "output_type": "stream",
     "text": [
      "[(41, 0.99742857142857277)]\n",
      "[('intercept', 0.016886292027933084), ('security', 0.015382264777401339), ('election', 0.014762716613021143), ('russian', 0.013063025195397008), ('nsa', 0.012094903749429516), ('winner', 0.01169764781165868), ('document', 0.0094289221584154207), ('report', 0.0090322655730869384), ('hacking', 0.0085002118037788652), ('intelligence', 0.0078956270088499109)]\n",
      "[(81, 0.99667785234899386)]\n",
      "[('news', 0.009617345227395992), ('information', 0.0090573461727165953), ('media', 0.0084382460893484574), ('social', 0.0064256078788696071), ('fomo', 0.0063461397910499666), ('sundar', 0.005861571143503475), ('time', 0.0053683028373453703), ('covfefe', 0.004655631871490669), ('post', 0.0045941368111045927), ('primitive', 0.0043745383636073143)]\n",
      "[(31, 0.35374535574370325), (34, 0.021266444929492742), (41, 0.039408941133509408), (54, 0.42395341254988023), (65, 0.084192898210249598), (74, 0.037472825480813571), (93, 0.021454509581439955)]\n",
      "[('iot', 0.023172238091545328), ('devices', 0.02179726965460398), ('security', 0.017484160359998484), ('standards', 0.0060448999682519034), ('work', 0.0058841982931398919), ('cashatt', 0.0053743817349552955), ('moyer', 0.0051849891803589917), ('men', 0.0050004880891247622), ('hotel', 0.0048777324476166938), ('industry', 0.0044656737809437002)]\n",
      "[(34, 0.9956194690265513)]\n",
      "[('blue', 0.018396170138576206), ('technology', 0.012536907864343918), ('river', 0.01137482138883273), ('plants', 0.0089827287841387285), ('crops', 0.0082487017807030584), ('weeds', 0.0078712382113641077), ('stone', 0.0068733369756744369), ('system', 0.0067877506997815838), ('herbicide', 0.006753319959527348), ('farmers', 0.0062613613698833254)]\n",
      "[(5, 0.99750629722922124)]\n",
      "[('men', 0.027525982647373173), ('work', 0.025905422016517115), ('jobs', 0.015834505693059619), ('labor', 0.010828803223523644), ('problem', 0.010562205592116835), ('automation', 0.009321342155938165), ('womens', 0.0073478424140846332), ('percent', 0.007339635569394847), ('gender', 0.0064661889952316084), ('unpaid', 0.0062505785507914928)]\n",
      "[(93, 0.99715517241379326)]\n",
      "[('russia', 0.020245328235662285), ('putin', 0.019692051691457338), ('election', 0.0099360669080003957), ('russias', 0.0085029916271197048), ('russian', 0.0081541518649278534), ('hackers', 0.0072736535227216972), ('playbook', 0.0068480662494451172), ('patriotic', 0.0067388286860323087), ('international', 0.0066538394312483642), ('plausible', 0.0062421933552396745)]\n",
      "[(1, 0.86584052299965775), (5, 0.024544651232220323), (31, 0.021398796044140026), (41, 0.040234307230973085), (81, 0.021016322290538281), (93, 0.011004660926905748)]\n",
      "[('cashatt', 0.0156552614807768), ('hotel', 0.010134614405322533), ('brocious', 0.007115406610210066), ('room', 0.0070021906349300826), ('lock', 0.0067125567014312054), ('blue', 0.0059046280214154843), ('onity', 0.0056257518502294546), ('technology', 0.0052289575145853329), ('hed', 0.0045765025165413467), ('locks', 0.0045524551195477714)]\n",
      "[(73, 0.98605633802816717)]\n",
      "[('data', 0.0082928360460179061), ('orwl', 0.0077483652317584025), ('locks', 0.0062623850490144501), ('police', 0.005165453350473994), ('hacker', 0.0050712498377173979), ('cashatt', 0.0050705569503994479), ('hotel', 0.0049270612604243444), ('putin', 0.0048489730383065414), ('moved', 0.0047416750717126739), ('circuit', 0.004664449062345196)]\n"
     ]
    }
   ],
   "source": [
    "for doc in lda_corpus:\n",
    "    print(doc)\n",
    "    print(lda.show_topic(doc[0][0], 10))"
   ]
  },
  {
   "cell_type": "markdown",
   "metadata": {},
   "source": [
    "## Create an HDP (Hierarchical Dirichlet process) Model"
   ]
  },
  {
   "cell_type": "code",
   "execution_count": 54,
   "metadata": {},
   "outputs": [],
   "source": [
    "hdp = models.HdpModel(corpus, id2word=dictionary)\n",
    "hdp_corpus = hdp[corpus]"
   ]
  },
  {
   "cell_type": "code",
   "execution_count": 162,
   "metadata": {},
   "outputs": [
    {
     "name": "stdout",
     "output_type": "stream",
     "text": [
      "[(3, 0.99767297789960163)]\n",
      "[('intercept', 0.013143543835143517), ('election', 0.011079615775221754), ('russian', 0.0094829081793543057), ('winner', 0.0094267346425895154), ('nsa', 0.0079487446188197843), ('document', 0.0079037260051970266), ('security', 0.0069102531355166282), ('report', 0.0068579600079323134), ('classified', 0.0067405413927190188), ('hacking', 0.0066115326360728982)]\n",
      "[(5, 0.99678078877525922)]\n",
      "[('news', 0.0078901302638375095), ('information', 0.0077918293635574794), ('social', 0.0075452027961061315), ('fomo', 0.0060413954864230977), ('media', 0.0060281325447939203), ('sundar', 0.0046609650546366082), ('kross', 0.0046191980186413139), ('post', 0.0036502815378919294), ('university', 0.0036015110184239468), ('brains', 0.003482831667659103)]\n",
      "[(1, 0.99893816413484815)]\n",
      "[('iot', 0.041059392047090873), ('devices', 0.031903726138331291), ('security', 0.02476244401667263), ('standards', 0.010934651589103124), ('moyer', 0.0075722320931523096), ('industry', 0.0074120329042859871), ('data', 0.0073387293243963297), ('hackers', 0.0064419948780956608), ('system', 0.0055298896575615049), ('government', 0.0048375068241936934)]\n",
      "[(6, 0.99567338334326139)]\n",
      "[('blue', 0.013292740536075849), ('technology', 0.0098486295825569396), ('river', 0.0083333345039302356), ('plants', 0.0082749839742853239), ('crops', 0.0066824095770231439), ('weeds', 0.0066741455741071301), ('equipment', 0.0052546187367922799), ('herbicide', 0.0051957147545997817), ('farmers', 0.0050203714034324021), ('stone', 0.0050188557418072944)]\n",
      "[(2, 0.99787639866208777)]\n",
      "[('men', 0.018339814126078581), ('work', 0.017028165293276162), ('jobs', 0.011876011008002171), ('problem', 0.0078912398299202935), ('labor', 0.0067296447524134162), ('automation', 0.0065810200003744426), ('percent', 0.0055698943557008435), ('robots', 0.0053532029999142005), ('womens', 0.0053244195131420119), ('unpaid', 0.005304347620041794)]\n",
      "[(4, 0.99731859114106869)]\n",
      "[('russia', 0.013032872541230698), ('putin', 0.012595319649031126), ('russias', 0.0060192200143247363), ('election', 0.0059491169365282516), ('hackers', 0.0059342264553375714), ('russian', 0.0057720271032761367), ('watts', 0.004909199205014596), ('plausible', 0.0047543108412844105), ('deniability', 0.0043927703852356262), ('putins', 0.0043751486389814274)]\n",
      "[(0, 0.9997558558824734)]\n",
      "[('cashatt', 0.017986707506010533), ('hotel', 0.013248759766860697), ('onity', 0.008538147041100945), ('brocious', 0.0075727905720835735), ('lock', 0.0073740818763508645), ('room', 0.006315870972536242), ('hed', 0.0057260249246099187), ('cashatts', 0.0054232121497410487), ('locks', 0.0050549561232239304), ('device', 0.0048776725972395412)]\n",
      "[(7, 0.98603295281212688)]\n",
      "[('orwl', 0.0048671093297008175), ('data', 0.0045842700190945876), ('drill', 0.0037358703978227228), ('roam', 0.0031607709179832912), ('motherboard', 0.0031394332936287399), ('mesh', 0.0031081429572126715), ('software', 0.0030936957667511665), ('failsafe', 0.0030888922513408108), ('qubes', 0.002813174896950424), ('crafty', 0.0027084336532265142)]\n"
     ]
    }
   ],
   "source": [
    "for doc in hdp_corpus:\n",
    "    print(doc)\n",
    "    print(hdp.show_topic(doc[0][0], num_words=10))"
   ]
  }
 ],
 "metadata": {
  "kernelspec": {
   "display_name": "Python [default]",
   "language": "python",
   "name": "python3"
  },
  "language_info": {
   "codemirror_mode": {
    "name": "ipython",
    "version": 3
   },
   "file_extension": ".py",
   "mimetype": "text/x-python",
   "name": "python",
   "nbconvert_exporter": "python",
   "pygments_lexer": "ipython3",
   "version": "3.5.2"
  }
 },
 "nbformat": 4,
 "nbformat_minor": 2
}
