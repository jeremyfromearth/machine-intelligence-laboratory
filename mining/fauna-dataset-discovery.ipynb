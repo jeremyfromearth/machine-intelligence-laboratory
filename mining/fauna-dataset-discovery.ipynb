{
 "cells": [
  {
   "cell_type": "code",
   "execution_count": 1,
   "metadata": {
    "collapsed": false
   },
   "outputs": [
    {
     "name": "stderr",
     "output_type": "stream",
     "text": [
      "/Users/jeremy/anaconda/lib/python3.4/site-packages/pandas/computation/__init__.py:19: UserWarning: The installed version of numexpr 2.4.4 is not supported in pandas and will be not be used\n",
      "\n",
      "  UserWarning)\n"
     ]
    }
   ],
   "source": [
    "import os\n",
    "import sys\n",
    "import re\n",
    "import pandas as pd\n",
    "import numpy as np\n",
    "from matplotlib.pyplot import *\n",
    "import seaborn as sns\n",
    "%matplotlib inline\n",
    "\n",
    "# Enable relative imports\n",
    "module_path = os.path.abspath(os.path.join('..'))\n",
    "if module_path not in sys.path:\n",
    "    sys.path.append(module_path)\n",
    "from text.analytics import TermFreqInverseDocFreq"
   ]
  },
  {
   "cell_type": "markdown",
   "metadata": {},
   "source": [
    "### Clean up the data to remove duplicates, nulls and noise (wikipedia redirects)"
   ]
  },
  {
   "cell_type": "code",
   "execution_count": 2,
   "metadata": {
    "collapsed": false
   },
   "outputs": [
    {
     "name": "stdout",
     "output_type": "stream",
     "text": [
      "fauna.shape before nulls removed (45083, 10)\n",
      "fauna.shape after nulls removed (45083, 10)\n",
      "fauna.shape before duplicates removed (45083, 10)\n",
      "fauna.shape after duplicates removed (45083, 10)\n",
      "fauna.shape after redirects dropped (45083, 10)\n",
      "(45083, 10)\n"
     ]
    },
    {
     "data": {
      "text/html": [
       "<div>\n",
       "<table border=\"1\" class=\"dataframe\">\n",
       "  <thead>\n",
       "    <tr style=\"text-align: right;\">\n",
       "      <th></th>\n",
       "      <th>class</th>\n",
       "      <th>family</th>\n",
       "      <th>genus</th>\n",
       "      <th>kingdom</th>\n",
       "      <th>order</th>\n",
       "      <th>page-id</th>\n",
       "      <th>phylum</th>\n",
       "      <th>species</th>\n",
       "      <th>text</th>\n",
       "      <th>title</th>\n",
       "    </tr>\n",
       "  </thead>\n",
       "  <tbody>\n",
       "    <tr>\n",
       "      <th>0</th>\n",
       "      <td>amphibia</td>\n",
       "      <td>ranidae</td>\n",
       "      <td>rana</td>\n",
       "      <td>animalia</td>\n",
       "      <td>anura</td>\n",
       "      <td>3451749</td>\n",
       "      <td>chordata</td>\n",
       "      <td>rboylii</td>\n",
       "      <td>The foothill yellow-legged frog (Rana boylii) ...</td>\n",
       "      <td>Foothill yellow-legged frog</td>\n",
       "    </tr>\n",
       "    <tr>\n",
       "      <th>1</th>\n",
       "      <td>mammalia</td>\n",
       "      <td>bovidae</td>\n",
       "      <td>pantholopshodgson18342</td>\n",
       "      <td>animalia</td>\n",
       "      <td>artiodactyla</td>\n",
       "      <td>1369072</td>\n",
       "      <td>chordata</td>\n",
       "      <td>phodgsonii</td>\n",
       "      <td>The Tibetan antelope or chiru (Pantholops hodg...</td>\n",
       "      <td>Tibetan antelope</td>\n",
       "    </tr>\n",
       "    <tr>\n",
       "      <th>2</th>\n",
       "      <td>mammalia</td>\n",
       "      <td>bovidae</td>\n",
       "      <td>damaliscus</td>\n",
       "      <td>animalia</td>\n",
       "      <td>artiodactyla</td>\n",
       "      <td>26625724</td>\n",
       "      <td>chordata</td>\n",
       "      <td>dsuperstes</td>\n",
       "      <td>The Bangweulu tsessebe (Damaliscus superstes) ...</td>\n",
       "      <td>Bangweulu tsessebe</td>\n",
       "    </tr>\n",
       "    <tr>\n",
       "      <th>3</th>\n",
       "      <td>mammalia</td>\n",
       "      <td>tayassuidae</td>\n",
       "      <td>catagonusameghino1904</td>\n",
       "      <td>animalia</td>\n",
       "      <td>artiodactyla</td>\n",
       "      <td>1709509</td>\n",
       "      <td>chordata</td>\n",
       "      <td>cbrachydontuscmetropolitanuscstenocephaluscwag...</td>\n",
       "      <td>The Chacoan peccary or tagua (Catagonus wagner...</td>\n",
       "      <td>Chacoan peccary</td>\n",
       "    </tr>\n",
       "    <tr>\n",
       "      <th>4</th>\n",
       "      <td>aves</td>\n",
       "      <td>opisthocomidae</td>\n",
       "      <td>opisthocomusilliger1811</td>\n",
       "      <td>animalia</td>\n",
       "      <td>opisthocomiformes</td>\n",
       "      <td>262734</td>\n",
       "      <td>chordata</td>\n",
       "      <td>ohoazin</td>\n",
       "      <td>The hoatzin (Opisthocomus hoazin), also known ...</td>\n",
       "      <td>Hoatzin</td>\n",
       "    </tr>\n",
       "  </tbody>\n",
       "</table>\n",
       "</div>"
      ],
      "text/plain": [
       "      class          family                    genus   kingdom  \\\n",
       "0  amphibia         ranidae                     rana  animalia   \n",
       "1  mammalia         bovidae   pantholopshodgson18342  animalia   \n",
       "2  mammalia         bovidae               damaliscus  animalia   \n",
       "3  mammalia     tayassuidae    catagonusameghino1904  animalia   \n",
       "4      aves  opisthocomidae  opisthocomusilliger1811  animalia   \n",
       "\n",
       "               order   page-id    phylum  \\\n",
       "0              anura   3451749  chordata   \n",
       "1       artiodactyla   1369072  chordata   \n",
       "2       artiodactyla  26625724  chordata   \n",
       "3       artiodactyla   1709509  chordata   \n",
       "4  opisthocomiformes    262734  chordata   \n",
       "\n",
       "                                             species  \\\n",
       "0                                            rboylii   \n",
       "1                                         phodgsonii   \n",
       "2                                         dsuperstes   \n",
       "3  cbrachydontuscmetropolitanuscstenocephaluscwag...   \n",
       "4                                            ohoazin   \n",
       "\n",
       "                                                text  \\\n",
       "0  The foothill yellow-legged frog (Rana boylii) ...   \n",
       "1  The Tibetan antelope or chiru (Pantholops hodg...   \n",
       "2  The Bangweulu tsessebe (Damaliscus superstes) ...   \n",
       "3  The Chacoan peccary or tagua (Catagonus wagner...   \n",
       "4  The hoatzin (Opisthocomus hoazin), also known ...   \n",
       "\n",
       "                         title  \n",
       "0  Foothill yellow-legged frog  \n",
       "1             Tibetan antelope  \n",
       "2           Bangweulu tsessebe  \n",
       "3              Chacoan peccary  \n",
       "4                      Hoatzin  "
      ]
     },
     "execution_count": 2,
     "metadata": {},
     "output_type": "execute_result"
    }
   ],
   "source": [
    "fauna = pd.read_csv('../data/fauna.csv.gz', compression='gzip')\n",
    "print('fauna.shape before nulls removed', fauna.shape)\n",
    "fauna = fauna[fauna['class'].notnull()]\n",
    "fauna = fauna[fauna['text'].notnull()]\n",
    "fauna = fauna[fauna['order'].notnull()]\n",
    "print('fauna.shape after nulls removed', fauna.shape)\n",
    "print('fauna.shape before duplicates removed', fauna.shape)\n",
    "fauna = fauna.drop_duplicates(['page-id'], keep='first')\n",
    "print('fauna.shape after duplicates removed', fauna.shape)\n",
    "fauna = fauna.drop(fauna[fauna['text'].str.contains('This is a redirect')].index)\n",
    "print('fauna.shape after redirects dropped', fauna.shape)\n",
    "print(fauna.shape)\n",
    "fauna.head()"
   ]
  },
  {
   "cell_type": "markdown",
   "metadata": {},
   "source": [
    "### Save the cleaned up data"
   ]
  },
  {
   "cell_type": "code",
   "execution_count": 3,
   "metadata": {
    "collapsed": true
   },
   "outputs": [],
   "source": [
    "#fauna.to_csv('../data/fauna.csv.gz', compression='gzip', index=False)"
   ]
  },
  {
   "cell_type": "markdown",
   "metadata": {},
   "source": [
    "### Visualize the number of records in each class"
   ]
  },
  {
   "cell_type": "code",
   "execution_count": 4,
   "metadata": {
    "collapsed": false
   },
   "outputs": [
    {
     "data": {
      "text/plain": [
       "<matplotlib.axes._subplots.AxesSubplot at 0x10e3a6400>"
      ]
     },
     "execution_count": 4,
     "metadata": {},
     "output_type": "execute_result"
    },
    {
     "data": {
      "image/png": "[encoded data removed]",
      "text/plain": [
       "<matplotlib.figure.Figure at 0x104862908>"
      ]
     },
     "metadata": {},
     "output_type": "display_data"
    }
   ],
   "source": [
    "classes = fauna['class'].value_counts()\n",
    "figure(figsize=(16, 9))\n",
    "classes[0:30].plot(kind=\"bar\")"
   ]
  },
  {
   "cell_type": "markdown",
   "metadata": {},
   "source": [
    "\n",
    "### Basic filtering on various fields"
   ]
  },
  {
   "cell_type": "code",
   "execution_count": 5,
   "metadata": {
    "collapsed": false
   },
   "outputs": [
    {
     "data": {
      "text/html": [
       "<div>\n",
       "<table border=\"1\" class=\"dataframe\">\n",
       "  <thead>\n",
       "    <tr style=\"text-align: right;\">\n",
       "      <th></th>\n",
       "      <th>class</th>\n",
       "      <th>family</th>\n",
       "      <th>genus</th>\n",
       "      <th>kingdom</th>\n",
       "      <th>order</th>\n",
       "      <th>page-id</th>\n",
       "      <th>phylum</th>\n",
       "      <th>species</th>\n",
       "      <th>text</th>\n",
       "      <th>title</th>\n",
       "    </tr>\n",
       "  </thead>\n",
       "  <tbody>\n",
       "    <tr>\n",
       "      <th>7064</th>\n",
       "      <td>mammalia</td>\n",
       "      <td>ailuridae</td>\n",
       "      <td>ailurusfcuvier1825</td>\n",
       "      <td>animalia</td>\n",
       "      <td>carnivora</td>\n",
       "      <td>26441</td>\n",
       "      <td>chordata</td>\n",
       "      <td>afulgensfcuvier1825</td>\n",
       "      <td>The red panda (Ailurus fulgens), also called t...</td>\n",
       "      <td>Red panda</td>\n",
       "    </tr>\n",
       "  </tbody>\n",
       "</table>\n",
       "</div>"
      ],
      "text/plain": [
       "         class     family               genus   kingdom      order  page-id  \\\n",
       "7064  mammalia  ailuridae  ailurusfcuvier1825  animalia  carnivora    26441   \n",
       "\n",
       "        phylum              species  \\\n",
       "7064  chordata  afulgensfcuvier1825   \n",
       "\n",
       "                                                   text      title  \n",
       "7064  The red panda (Ailurus fulgens), also called t...  Red panda  "
      ]
     },
     "execution_count": 5,
     "metadata": {},
     "output_type": "execute_result"
    }
   ],
   "source": [
    "fauna[fauna['title']=='Red panda']"
   ]
  },
  {
   "cell_type": "markdown",
   "metadata": {},
   "source": [
    "### Create a TFIDF Table"
   ]
  },
  {
   "cell_type": "code",
   "execution_count": 6,
   "metadata": {
    "collapsed": false,
    "scrolled": true
   },
   "outputs": [
    {
     "name": "stdout",
     "output_type": "stream",
     "text": [
      "<class 'scipy.sparse.csr.csr_matrix'>\n"
     ]
    }
   ],
   "source": [
    "tfidf = TermFreqInverseDocFreq()\n",
    "tfidf.create(fauna, 'text', True)"
   ]
  },
  {
   "cell_type": "code",
   "execution_count": 7,
   "metadata": {
    "collapsed": false
   },
   "outputs": [],
   "source": [
    "tfidf.save('../data/tfidf.npz')"
   ]
  },
  {
   "cell_type": "code",
   "execution_count": 8,
   "metadata": {
    "collapsed": false
   },
   "outputs": [],
   "source": [
    "tfidf.load('../data/tfidf.npz')"
   ]
  },
  {
   "cell_type": "markdown",
   "metadata": {},
   "source": [
    "### Plot the term count over iterations"
   ]
  },
  {
   "cell_type": "code",
   "execution_count": 9,
   "metadata": {
    "collapsed": false
   },
   "outputs": [
    {
     "data": {
      "text/plain": [
       "<matplotlib.axes._subplots.AxesSubplot at 0x10f2a7908>"
      ]
     },
     "execution_count": 9,
     "metadata": {},
     "output_type": "execute_result"
    },
    {
     "data": {
      "image/png": "[encoded data removed]",
      "text/plain": [
       "<matplotlib.figure.Figure at 0x10f2a70b8>"
      ]
     },
     "metadata": {},
     "output_type": "display_data"
    }
   ],
   "source": [
    "term_count_series = pd.Series(tfidf.term_count_over_iterations)\n",
    "figure(figsize=(16, 9))\n",
    "term_count_series.plot()"
   ]
  },
  {
   "cell_type": "markdown",
   "metadata": {},
   "source": [
    "### Comparing similar and disimilar species"
   ]
  },
  {
   "cell_type": "code",
   "execution_count": 10,
   "metadata": {
    "collapsed": false
   },
   "outputs": [
    {
     "data": {
      "text/html": [
       "<div>\n",
       "<table border=\"1\" class=\"dataframe\">\n",
       "  <thead>\n",
       "    <tr style=\"text-align: right;\">\n",
       "      <th></th>\n",
       "      <th>class</th>\n",
       "      <th>family</th>\n",
       "      <th>genus</th>\n",
       "      <th>kingdom</th>\n",
       "      <th>order</th>\n",
       "      <th>page-id</th>\n",
       "      <th>phylum</th>\n",
       "      <th>species</th>\n",
       "      <th>text</th>\n",
       "      <th>title</th>\n",
       "    </tr>\n",
       "  </thead>\n",
       "  <tbody>\n",
       "    <tr>\n",
       "      <th>367</th>\n",
       "      <td>mammalia</td>\n",
       "      <td>ursidae</td>\n",
       "      <td>ursus</td>\n",
       "      <td>animalia</td>\n",
       "      <td>carnivora</td>\n",
       "      <td>616975</td>\n",
       "      <td>chordata</td>\n",
       "      <td>uthibetanus</td>\n",
       "      <td>The Asian black bear (Ursus thibetanus, previo...</td>\n",
       "      <td>Asian black bear</td>\n",
       "    </tr>\n",
       "    <tr>\n",
       "      <th>1453</th>\n",
       "      <td>mammalia</td>\n",
       "      <td>ursidae</td>\n",
       "      <td>ursus</td>\n",
       "      <td>animalia</td>\n",
       "      <td>carnivora</td>\n",
       "      <td>5331257</td>\n",
       "      <td>chordata</td>\n",
       "      <td>uinopinatusdisputed</td>\n",
       "      <td>MacFarlane's bear is a proposed extinct specie...</td>\n",
       "      <td>MacFarlane's bear</td>\n",
       "    </tr>\n",
       "    <tr>\n",
       "      <th>2182</th>\n",
       "      <td>mammalia</td>\n",
       "      <td>ursidae</td>\n",
       "      <td>ursus</td>\n",
       "      <td>animalia</td>\n",
       "      <td>carnivora</td>\n",
       "      <td>4402</td>\n",
       "      <td>chordata</td>\n",
       "      <td>uarctos</td>\n",
       "      <td>The brown bear (Ursus arctos) is a large bear ...</td>\n",
       "      <td>Brown bear</td>\n",
       "    </tr>\n",
       "    <tr>\n",
       "      <th>2190</th>\n",
       "      <td>mammalia</td>\n",
       "      <td>ursidae</td>\n",
       "      <td>ursus</td>\n",
       "      <td>animalia</td>\n",
       "      <td>carnivora</td>\n",
       "      <td>11703100</td>\n",
       "      <td>chordata</td>\n",
       "      <td>ursusarctos</td>\n",
       "      <td>The Kamchatka brown bear (Ursus arctos beringi...</td>\n",
       "      <td>Kamchatka brown bear</td>\n",
       "    </tr>\n",
       "    <tr>\n",
       "      <th>2283</th>\n",
       "      <td>mammalia</td>\n",
       "      <td>ursidae</td>\n",
       "      <td>ursus</td>\n",
       "      <td>animalia</td>\n",
       "      <td>carnivora</td>\n",
       "      <td>12788833</td>\n",
       "      <td>chordata</td>\n",
       "      <td>uarctos</td>\n",
       "      <td>The Marsican brown bear (Ursus arctos marsican...</td>\n",
       "      <td>Marsican brown bear</td>\n",
       "    </tr>\n",
       "  </tbody>\n",
       "</table>\n",
       "</div>"
      ],
      "text/plain": [
       "         class   family  genus   kingdom      order   page-id    phylum  \\\n",
       "367   mammalia  ursidae  ursus  animalia  carnivora    616975  chordata   \n",
       "1453  mammalia  ursidae  ursus  animalia  carnivora   5331257  chordata   \n",
       "2182  mammalia  ursidae  ursus  animalia  carnivora      4402  chordata   \n",
       "2190  mammalia  ursidae  ursus  animalia  carnivora  11703100  chordata   \n",
       "2283  mammalia  ursidae  ursus  animalia  carnivora  12788833  chordata   \n",
       "\n",
       "                  species                                               text  \\\n",
       "367           uthibetanus  The Asian black bear (Ursus thibetanus, previo...   \n",
       "1453  uinopinatusdisputed  MacFarlane's bear is a proposed extinct specie...   \n",
       "2182              uarctos  The brown bear (Ursus arctos) is a large bear ...   \n",
       "2190          ursusarctos  The Kamchatka brown bear (Ursus arctos beringi...   \n",
       "2283              uarctos  The Marsican brown bear (Ursus arctos marsican...   \n",
       "\n",
       "                     title  \n",
       "367       Asian black bear  \n",
       "1453     MacFarlane's bear  \n",
       "2182            Brown bear  \n",
       "2190  Kamchatka brown bear  \n",
       "2283   Marsican brown bear  "
      ]
     },
     "execution_count": 10,
     "metadata": {},
     "output_type": "execute_result"
    }
   ],
   "source": [
    "bears = fauna[fauna['genus'] == 'ursus']\n",
    "bears.head()"
   ]
  },
  {
   "cell_type": "code",
   "execution_count": 9,
   "metadata": {
    "collapsed": false
   },
   "outputs": [
    {
     "data": {
      "text/html": [
       "<div>\n",
       "<table border=\"1\" class=\"dataframe\">\n",
       "  <thead>\n",
       "    <tr style=\"text-align: right;\">\n",
       "      <th></th>\n",
       "      <th>class</th>\n",
       "      <th>family</th>\n",
       "      <th>genus</th>\n",
       "      <th>kingdom</th>\n",
       "      <th>order</th>\n",
       "      <th>page-id</th>\n",
       "      <th>phylum</th>\n",
       "      <th>species</th>\n",
       "      <th>text</th>\n",
       "      <th>title</th>\n",
       "    </tr>\n",
       "  </thead>\n",
       "  <tbody>\n",
       "    <tr>\n",
       "      <th>51</th>\n",
       "      <td>scyphozoa</td>\n",
       "      <td>cyaneidae</td>\n",
       "      <td>cyaneapéronandlesueur1809</td>\n",
       "      <td>animalia</td>\n",
       "      <td>semaeostomeae</td>\n",
       "      <td>28093883</td>\n",
       "      <td>cnidaria</td>\n",
       "      <td>NaN</td>\n",
       "      <td>Cyanea is a cosmopolitan genus of stinging jel...</td>\n",
       "      <td>Cyanea (jellyfish)</td>\n",
       "    </tr>\n",
       "    <tr>\n",
       "      <th>77</th>\n",
       "      <td>aves</td>\n",
       "      <td>alcedinidae</td>\n",
       "      <td>halcyon</td>\n",
       "      <td>animalia</td>\n",
       "      <td>coraciiformes</td>\n",
       "      <td>568859</td>\n",
       "      <td>chordata</td>\n",
       "      <td>hsmyrnensis</td>\n",
       "      <td>The white-throated kingfisher (Halcyon smyrnen...</td>\n",
       "      <td>White-throated kingfisher</td>\n",
       "    </tr>\n",
       "    <tr>\n",
       "      <th>87</th>\n",
       "      <td>aves</td>\n",
       "      <td>alcedinidae</td>\n",
       "      <td>todiramphus</td>\n",
       "      <td>animalia</td>\n",
       "      <td>coraciiformes</td>\n",
       "      <td>12432037</td>\n",
       "      <td>chordata</td>\n",
       "      <td>tleucopygius</td>\n",
       "      <td>The ultramarine kingfisher (Todiramphus leucop...</td>\n",
       "      <td>Ultramarine kingfisher</td>\n",
       "    </tr>\n",
       "    <tr>\n",
       "      <th>102</th>\n",
       "      <td>aves</td>\n",
       "      <td>alcedinidae</td>\n",
       "      <td>lacedolreichenbach1851</td>\n",
       "      <td>animalia</td>\n",
       "      <td>coraciiformes</td>\n",
       "      <td>11900398</td>\n",
       "      <td>chordata</td>\n",
       "      <td>lpulchella</td>\n",
       "      <td>The banded kingfisher (Lacedo pulchella) is a ...</td>\n",
       "      <td>Banded kingfisher</td>\n",
       "    </tr>\n",
       "    <tr>\n",
       "      <th>205</th>\n",
       "      <td>actinopterygii</td>\n",
       "      <td>NaN</td>\n",
       "      <td>NaN</td>\n",
       "      <td>animalia</td>\n",
       "      <td>pleuronectiformes</td>\n",
       "      <td>46331</td>\n",
       "      <td>chordata</td>\n",
       "      <td>NaN</td>\n",
       "      <td>A flatfish is a member of the order Pleuronect...</td>\n",
       "      <td>Flatfish</td>\n",
       "    </tr>\n",
       "  </tbody>\n",
       "</table>\n",
       "</div>"
      ],
      "text/plain": [
       "              class       family                      genus   kingdom  \\\n",
       "51        scyphozoa    cyaneidae  cyaneapéronandlesueur1809  animalia   \n",
       "77             aves  alcedinidae                    halcyon  animalia   \n",
       "87             aves  alcedinidae                todiramphus  animalia   \n",
       "102            aves  alcedinidae     lacedolreichenbach1851  animalia   \n",
       "205  actinopterygii          NaN                        NaN  animalia   \n",
       "\n",
       "                 order   page-id    phylum       species  \\\n",
       "51       semaeostomeae  28093883  cnidaria           NaN   \n",
       "77       coraciiformes    568859  chordata   hsmyrnensis   \n",
       "87       coraciiformes  12432037  chordata  tleucopygius   \n",
       "102      coraciiformes  11900398  chordata    lpulchella   \n",
       "205  pleuronectiformes     46331  chordata           NaN   \n",
       "\n",
       "                                                  text  \\\n",
       "51   Cyanea is a cosmopolitan genus of stinging jel...   \n",
       "77   The white-throated kingfisher (Halcyon smyrnen...   \n",
       "87   The ultramarine kingfisher (Todiramphus leucop...   \n",
       "102  The banded kingfisher (Lacedo pulchella) is a ...   \n",
       "205  A flatfish is a member of the order Pleuronect...   \n",
       "\n",
       "                         title  \n",
       "51          Cyanea (jellyfish)  \n",
       "77   White-throated kingfisher  \n",
       "87      Ultramarine kingfisher  \n",
       "102          Banded kingfisher  \n",
       "205                   Flatfish  "
      ]
     },
     "execution_count": 9,
     "metadata": {},
     "output_type": "execute_result"
    }
   ],
   "source": [
    "fish = fauna[fauna['title'].str.contains('fish')]\n",
    "fish.head()"
   ]
  },
  {
   "cell_type": "code",
   "execution_count": 10,
   "metadata": {
    "collapsed": false
   },
   "outputs": [
    {
     "data": {
      "text/html": [
       "<div>\n",
       "<table border=\"1\" class=\"dataframe\">\n",
       "  <thead>\n",
       "    <tr style=\"text-align: right;\">\n",
       "      <th></th>\n",
       "      <th>class</th>\n",
       "      <th>family</th>\n",
       "      <th>genus</th>\n",
       "      <th>kingdom</th>\n",
       "      <th>order</th>\n",
       "      <th>page-id</th>\n",
       "      <th>phylum</th>\n",
       "      <th>species</th>\n",
       "      <th>text</th>\n",
       "      <th>title</th>\n",
       "    </tr>\n",
       "  </thead>\n",
       "  <tbody>\n",
       "    <tr>\n",
       "      <th>72</th>\n",
       "      <td>insecta</td>\n",
       "      <td>tenebrionidaelatreille1802</td>\n",
       "      <td>NaN</td>\n",
       "      <td>animalia</td>\n",
       "      <td>coleoptera</td>\n",
       "      <td>797888</td>\n",
       "      <td>arthropoda</td>\n",
       "      <td>NaN</td>\n",
       "      <td>Darkling beetle is the common name of the larg...</td>\n",
       "      <td>Darkling beetle</td>\n",
       "    </tr>\n",
       "    <tr>\n",
       "      <th>160</th>\n",
       "      <td>insecta</td>\n",
       "      <td>diphyllostomatidaeholloway1972</td>\n",
       "      <td>diphyllostomafall1901</td>\n",
       "      <td>animalia</td>\n",
       "      <td>coleoptera</td>\n",
       "      <td>855363</td>\n",
       "      <td>arthropoda</td>\n",
       "      <td>NaN</td>\n",
       "      <td>The false stag beetles (Diphyllostoma) are a g...</td>\n",
       "      <td>False stag beetle</td>\n",
       "    </tr>\n",
       "    <tr>\n",
       "      <th>781</th>\n",
       "      <td>insecta</td>\n",
       "      <td>chrysomelidae</td>\n",
       "      <td>diabrotica</td>\n",
       "      <td>animalia</td>\n",
       "      <td>coleoptera</td>\n",
       "      <td>6089295</td>\n",
       "      <td>arthropoda</td>\n",
       "      <td>dundecimpunctata</td>\n",
       "      <td>The spotted cucumber beetle (Diabrotica undeci...</td>\n",
       "      <td>Spotted cucumber beetle</td>\n",
       "    </tr>\n",
       "    <tr>\n",
       "      <th>969</th>\n",
       "      <td>insecta</td>\n",
       "      <td>micromalthidaebarber1913</td>\n",
       "      <td>micromalthus</td>\n",
       "      <td>animalia</td>\n",
       "      <td>coleoptera</td>\n",
       "      <td>424247</td>\n",
       "      <td>arthropoda</td>\n",
       "      <td>mdebilis</td>\n",
       "      <td>The telephone-pole beetle (Micromalthus debili...</td>\n",
       "      <td>Telephone-pole beetle</td>\n",
       "    </tr>\n",
       "    <tr>\n",
       "      <th>1300</th>\n",
       "      <td>insecta</td>\n",
       "      <td>nitidulidaelatreille1802</td>\n",
       "      <td>NaN</td>\n",
       "      <td>animalia</td>\n",
       "      <td>coleoptera</td>\n",
       "      <td>28851</td>\n",
       "      <td>arthropoda</td>\n",
       "      <td>NaN</td>\n",
       "      <td>The sap beetles are a family (Nitidulidae) of ...</td>\n",
       "      <td>Sap beetle</td>\n",
       "    </tr>\n",
       "  </tbody>\n",
       "</table>\n",
       "</div>"
      ],
      "text/plain": [
       "        class                          family                  genus  \\\n",
       "72    insecta      tenebrionidaelatreille1802                    NaN   \n",
       "160   insecta  diphyllostomatidaeholloway1972  diphyllostomafall1901   \n",
       "781   insecta                   chrysomelidae             diabrotica   \n",
       "969   insecta        micromalthidaebarber1913           micromalthus   \n",
       "1300  insecta        nitidulidaelatreille1802                    NaN   \n",
       "\n",
       "       kingdom       order  page-id      phylum           species  \\\n",
       "72    animalia  coleoptera   797888  arthropoda               NaN   \n",
       "160   animalia  coleoptera   855363  arthropoda               NaN   \n",
       "781   animalia  coleoptera  6089295  arthropoda  dundecimpunctata   \n",
       "969   animalia  coleoptera   424247  arthropoda          mdebilis   \n",
       "1300  animalia  coleoptera    28851  arthropoda               NaN   \n",
       "\n",
       "                                                   text  \\\n",
       "72    Darkling beetle is the common name of the larg...   \n",
       "160   The false stag beetles (Diphyllostoma) are a g...   \n",
       "781   The spotted cucumber beetle (Diabrotica undeci...   \n",
       "969   The telephone-pole beetle (Micromalthus debili...   \n",
       "1300  The sap beetles are a family (Nitidulidae) of ...   \n",
       "\n",
       "                        title  \n",
       "72            Darkling beetle  \n",
       "160         False stag beetle  \n",
       "781   Spotted cucumber beetle  \n",
       "969     Telephone-pole beetle  \n",
       "1300               Sap beetle  "
      ]
     },
     "execution_count": 10,
     "metadata": {},
     "output_type": "execute_result"
    }
   ],
   "source": [
    "beetles = fauna[fauna['title'].str.contains('beetle')]\n",
    "beetles.head()"
   ]
  },
  {
   "cell_type": "markdown",
   "metadata": {},
   "source": [
    "### Top words for Asian black bear"
   ]
  },
  {
   "cell_type": "code",
   "execution_count": 11,
   "metadata": {
    "collapsed": false
   },
   "outputs": [
    {
     "name": "stdout",
     "output_type": "stream",
     "text": [
      "bears         1.285049\n",
      "bear          0.645258\n",
      "black         0.487731\n",
      "asian         0.283927\n",
      "to            0.139068\n",
      "and           0.121195\n",
      "will          0.115687\n",
      "have          0.098055\n",
      "are           0.095137\n",
      "ursus         0.093338\n",
      "thibetanus    0.091969\n",
      "their         0.089556\n",
      "they          0.088710\n",
      "asiatic       0.088181\n",
      "tiger         0.085517\n",
      "india         0.083502\n",
      "as            0.081096\n",
      "hunting       0.080905\n",
      "than          0.079821\n",
      "cubs          0.079145\n",
      "dtype: float64\n"
     ]
    },
    {
     "name": "stderr",
     "output_type": "stream",
     "text": [
      "/Users/jeremy/Development/labs/machine-learning-lab/text/analytics.py:115: FutureWarning: sort is deprecated, use sort_values(inplace=True) for INPLACE sorting\n",
      "  result.sort(ascending=False)\n"
     ]
    }
   ],
   "source": [
    "print(tfidf.get_sorted_terms_for_document(367).head(20))"
   ]
  },
  {
   "cell_type": "markdown",
   "metadata": {},
   "source": [
    "### Top words for Sun bear"
   ]
  },
  {
   "cell_type": "code",
   "execution_count": 12,
   "metadata": {
    "collapsed": false
   },
   "outputs": [
    {
     "name": "stdout",
     "output_type": "stream",
     "text": [
      "sun           0.883601\n",
      "bear          0.835792\n",
      "bears         0.435774\n",
      "bile          0.290452\n",
      "honey         0.199332\n",
      "malayanus     0.188420\n",
      "helarctos     0.177786\n",
      "claws         0.177558\n",
      "and           0.171273\n",
      "kalimantan    0.157760\n",
      "are           0.151778\n",
      "mound         0.148790\n",
      "their         0.134162\n",
      "southeast     0.133708\n",
      "termites      0.130355\n",
      "they          0.126911\n",
      "sabah         0.117693\n",
      "tcm           0.111398\n",
      "paws          0.110435\n",
      "forest        0.109486\n",
      "dtype: float64\n"
     ]
    },
    {
     "name": "stderr",
     "output_type": "stream",
     "text": [
      "/Users/jeremy/Development/labs/machine-learning-lab/text/analytics.py:115: FutureWarning: sort is deprecated, use sort_values(inplace=True) for INPLACE sorting\n",
      "  result.sort(ascending=False)\n"
     ]
    }
   ],
   "source": [
    "print(tfidf.get_sorted_terms_for_document(3210).head(20))"
   ]
  },
  {
   "cell_type": "code",
   "execution_count": 15,
   "metadata": {
    "collapsed": false
   },
   "outputs": [
    {
     "data": {
      "text/plain": [
       "1.7570123529374801"
      ]
     },
     "execution_count": 15,
     "metadata": {},
     "output_type": "execute_result"
    }
   ],
   "source": [
    "# Euclidian distance between Asian black bear and Sun bear\n",
    "asian_black_bear = tfidf[367].toarray()\n",
    "sun_bear = tfidf[3210].toarray()\n",
    "np.linalg.norm(asian_black_bear - sun_bear)"
   ]
  },
  {
   "cell_type": "markdown",
   "metadata": {},
   "source": [
    "### Top words for Flatfish"
   ]
  },
  {
   "cell_type": "code",
   "execution_count": 13,
   "metadata": {
    "collapsed": false
   },
   "outputs": [
    {
     "name": "stdout",
     "output_type": "stream",
     "text": [
      "flatfishes        0.589007\n",
      "flatfish          0.455552\n",
      "side              0.241732\n",
      "families          0.212802\n",
      "soleidae          0.181334\n",
      "pleuronectidae    0.180622\n",
      "bottom            0.152958\n",
      "fish              0.142885\n",
      "head              0.141539\n",
      "achiridae         0.138200\n",
      "cynoglossidae     0.138200\n",
      "right             0.137049\n",
      "turbots           0.132597\n",
      "hybrids           0.130326\n",
      "amphistium        0.128622\n",
      "dextral           0.128622\n",
      "eyes              0.127734\n",
      "platichthys       0.125539\n",
      "sinistral         0.123020\n",
      "and               0.119287\n",
      "dtype: float64\n"
     ]
    },
    {
     "name": "stderr",
     "output_type": "stream",
     "text": [
      "/Users/jeremy/Development/labs/machine-learning-lab/text/analytics.py:115: FutureWarning: sort is deprecated, use sort_values(inplace=True) for INPLACE sorting\n",
      "  result.sort(ascending=False)\n"
     ]
    }
   ],
   "source": [
    "print(tfidf.get_sorted_terms_for_document(205).head(20))"
   ]
  },
  {
   "cell_type": "markdown",
   "metadata": {},
   "source": [
    "### Top words for Hagfish"
   ]
  },
  {
   "cell_type": "code",
   "execution_count": 14,
   "metadata": {
    "collapsed": false
   },
   "outputs": [
    {
     "name": "stdout",
     "output_type": "stream",
     "text": [
      "hagfish          2.064041\n",
      "slime            0.500767\n",
      "myxine           0.278347\n",
      "lampreys         0.245708\n",
      "vertebrates      0.231184\n",
      "duct             0.195051\n",
      "craniata         0.185565\n",
      "to               0.162302\n",
      "gill             0.148509\n",
      "knot             0.140405\n",
      "cyclostomata     0.139174\n",
      "as               0.132714\n",
      "gnathostomata    0.124949\n",
      "mucus            0.113135\n",
      "skin             0.105728\n",
      "opening          0.104789\n",
      "their            0.101876\n",
      "and              0.097057\n",
      "have             0.096790\n",
      "sliming          0.096703\n",
      "dtype: float64\n"
     ]
    },
    {
     "name": "stderr",
     "output_type": "stream",
     "text": [
      "/Users/jeremy/Development/labs/machine-learning-lab/text/analytics.py:115: FutureWarning: sort is deprecated, use sort_values(inplace=True) for INPLACE sorting\n",
      "  result.sort(ascending=False)\n"
     ]
    }
   ],
   "source": [
    "print(tfidf.get_sorted_terms_for_document(410).head(20))"
   ]
  },
  {
   "cell_type": "code",
   "execution_count": 18,
   "metadata": {
    "collapsed": false
   },
   "outputs": [
    {
     "data": {
      "text/plain": [
       "2.7039133037473642"
      ]
     },
     "execution_count": 18,
     "metadata": {},
     "output_type": "execute_result"
    }
   ],
   "source": [
    "# Euclidian distance between the Flatfish and the Hagfish\n",
    "flatfish = tfidf[205].toarray()\n",
    "hagfish = tfidf[410].toarray()\n",
    "np.linalg.norm(hagfish - flatfish)"
   ]
  },
  {
   "cell_type": "code",
   "execution_count": 19,
   "metadata": {
    "collapsed": false
   },
   "outputs": [
    {
     "data": {
      "text/plain": [
       "2.9036524916373296"
      ]
     },
     "execution_count": 19,
     "metadata": {},
     "output_type": "execute_result"
    }
   ],
   "source": [
    "# Euclidian distance between the Sub bear and the Hagfish\n",
    "np.linalg.norm(sun_bear - hagfish)"
   ]
  }
 ],
 "metadata": {
  "kernelspec": {
   "display_name": "Python 3",
   "language": "python",
   "name": "python3"
  },
  "language_info": {
   "codemirror_mode": {
    "name": "ipython",
    "version": 3
   },
   "file_extension": ".py",
   "mimetype": "text/x-python",
   "name": "python",
   "nbconvert_exporter": "python",
   "pygments_lexer": "ipython3",
   "version": "3.4.4"
  },
  "widgets": {
   "state": {},
   "version": "1.1.2"
  }
 },
 "nbformat": 4,
 "nbformat_minor": 0
}
