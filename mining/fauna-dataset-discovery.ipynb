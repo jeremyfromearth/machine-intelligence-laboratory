{
 "cells": [
  {
   "cell_type": "code",
   "execution_count": 1,
   "metadata": {
    "collapsed": false
   },
   "outputs": [
    {
     "name": "stderr",
     "output_type": "stream",
     "text": [
      "/Users/jeremy/anaconda/lib/python3.4/site-packages/pandas/computation/__init__.py:19: UserWarning: The installed version of numexpr 2.4.4 is not supported in pandas and will be not be used\n",
      "\n",
      "  UserWarning)\n"
     ]
    }
   ],
   "source": [
    "import pandas as pd\n",
    "import numpy as np\n",
    "from matplotlib.pyplot import *\n",
    "%matplotlib inline"
   ]
  },
  {
   "cell_type": "markdown",
   "metadata": {},
   "source": [
    "## Load Fuana Dataset"
   ]
  },
  {
   "cell_type": "code",
   "execution_count": 9,
   "metadata": {
    "collapsed": true
   },
   "outputs": [],
   "source": [
    "df = pd.read_csv('../data/fauna20k.csv.gz', compression='gzip')"
   ]
  },
  {
   "cell_type": "markdown",
   "metadata": {},
   "source": [
    "## Visualize the number of records in each class"
   ]
  },
  {
   "cell_type": "code",
   "execution_count": 10,
   "metadata": {
    "collapsed": false
   },
   "outputs": [
    {
     "name": "stdout",
     "output_type": "stream",
     "text": [
      "rodentia            1956\n",
      "passeriformes       1082\n",
      "chiroptera           836\n",
      "coleoptera           808\n",
      "squamata             796\n",
      "lepidoptera          671\n",
      "testudines           584\n",
      "saurischia           579\n",
      "artiodactyla         540\n",
      "diptera              531\n",
      "carnivora            516\n",
      "eulipotyphla         503\n",
      "therapsida           393\n",
      "hymenoptera          374\n",
      "ornithischia         343\n",
      "accipitriformes      315\n",
      "galliformes          296\n",
      "hemiptera            292\n",
      "primates             287\n",
      "multituberculata     283\n",
      "Name: order, dtype: int64\n"
     ]
    },
    {
     "data": {
      "text/plain": [
       "<matplotlib.axes._subplots.AxesSubplot at 0x10a104e10>"
      ]
     },
     "execution_count": 10,
     "metadata": {},
     "output_type": "execute_result"
    },
    {
     "data": {
      "image/png": "[encoded data removed]",
      "text/plain": [
       "<matplotlib.figure.Figure at 0x1076ae518>"
      ]
     },
     "metadata": {},
     "output_type": "display_data"
    }
   ],
   "source": [
    "classes = df['order'].value_counts()\n",
    "print(classes.head(20))\n",
    "figure(figsize=(16, 9))\n",
    "classes[0:20].plot(kind=\"bar\")"
   ]
  },
  {
   "cell_type": "code",
   "execution_count": 11,
   "metadata": {
    "collapsed": false
   },
   "outputs": [
    {
     "data": {
      "text/html": [
       "<div>\n",
       "<table border=\"1\" class=\"dataframe\">\n",
       "  <thead>\n",
       "    <tr style=\"text-align: right;\">\n",
       "      <th></th>\n",
       "      <th>class</th>\n",
       "      <th>family</th>\n",
       "      <th>genus</th>\n",
       "      <th>kingdom</th>\n",
       "      <th>order</th>\n",
       "      <th>page-id</th>\n",
       "      <th>phylum</th>\n",
       "      <th>species</th>\n",
       "      <th>superorder</th>\n",
       "      <th>text</th>\n",
       "      <th>title</th>\n",
       "    </tr>\n",
       "  </thead>\n",
       "  <tbody>\n",
       "    <tr>\n",
       "      <th>20011</th>\n",
       "      <td>insecta</td>\n",
       "      <td>erebidae</td>\n",
       "      <td>callistege</td>\n",
       "      <td>animalia</td>\n",
       "      <td>lepidoptera</td>\n",
       "      <td>2489494</td>\n",
       "      <td>arthropoda</td>\n",
       "      <td>cmi</td>\n",
       "      <td>NaN</td>\n",
       "      <td>The Mother Shipton Moth, (Callistege mi) is a ...</td>\n",
       "      <td>Callistege mi</td>\n",
       "    </tr>\n",
       "    <tr>\n",
       "      <th>20012</th>\n",
       "      <td>NaN</td>\n",
       "      <td>nectocarididae</td>\n",
       "      <td>vetustovermis</td>\n",
       "      <td>animalia</td>\n",
       "      <td>NaN</td>\n",
       "      <td>4173859</td>\n",
       "      <td>mollusca</td>\n",
       "      <td>vplanus</td>\n",
       "      <td>NaN</td>\n",
       "      <td>Vetustovermis (from Latin: \"very old worm\") is...</td>\n",
       "      <td>Vetustovermis</td>\n",
       "    </tr>\n",
       "    <tr>\n",
       "      <th>20013</th>\n",
       "      <td>NaN</td>\n",
       "      <td>dromaeosauridae</td>\n",
       "      <td>achillobatorperlenorellclark1999</td>\n",
       "      <td>animalia</td>\n",
       "      <td>saurischia</td>\n",
       "      <td>3030943</td>\n",
       "      <td>chordata</td>\n",
       "      <td>agiganticus</td>\n",
       "      <td>NaN</td>\n",
       "      <td>Achillobator (/əˌkɪləˈbaɪtɔːr/ a-KILL-ə-BAY-to...</td>\n",
       "      <td>Achillobator</td>\n",
       "    </tr>\n",
       "    <tr>\n",
       "      <th>20014</th>\n",
       "      <td>mammalia</td>\n",
       "      <td>cheirogaleidae</td>\n",
       "      <td>allocebuspetterrousseauxandpetter19673</td>\n",
       "      <td>animalia</td>\n",
       "      <td>primates</td>\n",
       "      <td>3124700</td>\n",
       "      <td>chordata</td>\n",
       "      <td>atrichotis</td>\n",
       "      <td>NaN</td>\n",
       "      <td>The hairy-eared dwarf lemur (Allocebus trichot...</td>\n",
       "      <td>Hairy-eared dwarf lemur</td>\n",
       "    </tr>\n",
       "    <tr>\n",
       "      <th>20015</th>\n",
       "      <td>aves</td>\n",
       "      <td>alcedinidae</td>\n",
       "      <td>halcyon</td>\n",
       "      <td>animalia</td>\n",
       "      <td>coraciiformes</td>\n",
       "      <td>568834</td>\n",
       "      <td>chordata</td>\n",
       "      <td>hpileata</td>\n",
       "      <td>NaN</td>\n",
       "      <td>The black-capped kingfisher (Halcyon pileata) ...</td>\n",
       "      <td>Black-capped kingfisher</td>\n",
       "    </tr>\n",
       "    <tr>\n",
       "      <th>20016</th>\n",
       "      <td>NaN</td>\n",
       "      <td>harpymimidaebarsboldperle1984</td>\n",
       "      <td>harpymimusbarsboldperle1984</td>\n",
       "      <td>animalia</td>\n",
       "      <td>saurischia</td>\n",
       "      <td>3539458</td>\n",
       "      <td>chordata</td>\n",
       "      <td>hokladnikovi</td>\n",
       "      <td>NaN</td>\n",
       "      <td>Harpymimus is a basal ornithomimosaurian thero...</td>\n",
       "      <td>Harpymimus</td>\n",
       "    </tr>\n",
       "    <tr>\n",
       "      <th>20017</th>\n",
       "      <td>amphibia</td>\n",
       "      <td>ranidae</td>\n",
       "      <td>lithobates</td>\n",
       "      <td>animalia</td>\n",
       "      <td>anura</td>\n",
       "      <td>2623520</td>\n",
       "      <td>chordata</td>\n",
       "      <td>lpalustris</td>\n",
       "      <td>NaN</td>\n",
       "      <td>The pickerel frog (Lithobates palustris, forme...</td>\n",
       "      <td>Pickerel frog</td>\n",
       "    </tr>\n",
       "    <tr>\n",
       "      <th>20018</th>\n",
       "      <td>actinopterygii</td>\n",
       "      <td>scombridae</td>\n",
       "      <td>scomberomorus</td>\n",
       "      <td>animalia</td>\n",
       "      <td>perciformes</td>\n",
       "      <td>1807941</td>\n",
       "      <td>chordata</td>\n",
       "      <td>smaculatus</td>\n",
       "      <td>NaN</td>\n",
       "      <td>The Atlantic Spanish mackerel (Scomberomorus m...</td>\n",
       "      <td>Atlantic Spanish mackerel</td>\n",
       "    </tr>\n",
       "    <tr>\n",
       "      <th>20019</th>\n",
       "      <td>megacheira</td>\n",
       "      <td>yohoiidae</td>\n",
       "      <td>yohoia</td>\n",
       "      <td>animalia</td>\n",
       "      <td>NaN</td>\n",
       "      <td>1114729</td>\n",
       "      <td>arthropoda</td>\n",
       "      <td>ytenuis</td>\n",
       "      <td>NaN</td>\n",
       "      <td>Yohoia is a genus of tiny, extinct animals fro...</td>\n",
       "      <td>Yohoia</td>\n",
       "    </tr>\n",
       "    <tr>\n",
       "      <th>20020</th>\n",
       "      <td>amphibia</td>\n",
       "      <td>plethodontidae</td>\n",
       "      <td>karseniaminetal20052</td>\n",
       "      <td>animalia</td>\n",
       "      <td>urodela</td>\n",
       "      <td>2195312</td>\n",
       "      <td>chordata</td>\n",
       "      <td>kkoreana</td>\n",
       "      <td>NaN</td>\n",
       "      <td>The Korean crevice salamander (Karsenia korean...</td>\n",
       "      <td>Korean crevice salamander</td>\n",
       "    </tr>\n",
       "  </tbody>\n",
       "</table>\n",
       "</div>"
      ],
      "text/plain": [
       "                class                         family  \\\n",
       "20011         insecta                       erebidae   \n",
       "20012             NaN                 nectocarididae   \n",
       "20013             NaN                dromaeosauridae   \n",
       "20014        mammalia                 cheirogaleidae   \n",
       "20015            aves                    alcedinidae   \n",
       "20016             NaN  harpymimidaebarsboldperle1984   \n",
       "20017        amphibia                        ranidae   \n",
       "20018  actinopterygii                     scombridae   \n",
       "20019      megacheira                      yohoiidae   \n",
       "20020        amphibia                 plethodontidae   \n",
       "\n",
       "                                        genus   kingdom          order  \\\n",
       "20011                              callistege  animalia    lepidoptera   \n",
       "20012                           vetustovermis  animalia            NaN   \n",
       "20013        achillobatorperlenorellclark1999  animalia     saurischia   \n",
       "20014  allocebuspetterrousseauxandpetter19673  animalia       primates   \n",
       "20015                                 halcyon  animalia  coraciiformes   \n",
       "20016             harpymimusbarsboldperle1984  animalia     saurischia   \n",
       "20017                              lithobates  animalia          anura   \n",
       "20018                           scomberomorus  animalia    perciformes   \n",
       "20019                                  yohoia  animalia            NaN   \n",
       "20020                    karseniaminetal20052  animalia        urodela   \n",
       "\n",
       "       page-id      phylum       species superorder  \\\n",
       "20011  2489494  arthropoda           cmi        NaN   \n",
       "20012  4173859    mollusca       vplanus        NaN   \n",
       "20013  3030943    chordata   agiganticus        NaN   \n",
       "20014  3124700    chordata    atrichotis        NaN   \n",
       "20015   568834    chordata      hpileata        NaN   \n",
       "20016  3539458    chordata  hokladnikovi        NaN   \n",
       "20017  2623520    chordata    lpalustris        NaN   \n",
       "20018  1807941    chordata    smaculatus        NaN   \n",
       "20019  1114729  arthropoda       ytenuis        NaN   \n",
       "20020  2195312    chordata      kkoreana        NaN   \n",
       "\n",
       "                                                    text  \\\n",
       "20011  The Mother Shipton Moth, (Callistege mi) is a ...   \n",
       "20012  Vetustovermis (from Latin: \"very old worm\") is...   \n",
       "20013  Achillobator (/əˌkɪləˈbaɪtɔːr/ a-KILL-ə-BAY-to...   \n",
       "20014  The hairy-eared dwarf lemur (Allocebus trichot...   \n",
       "20015  The black-capped kingfisher (Halcyon pileata) ...   \n",
       "20016  Harpymimus is a basal ornithomimosaurian thero...   \n",
       "20017  The pickerel frog (Lithobates palustris, forme...   \n",
       "20018  The Atlantic Spanish mackerel (Scomberomorus m...   \n",
       "20019  Yohoia is a genus of tiny, extinct animals fro...   \n",
       "20020  The Korean crevice salamander (Karsenia korean...   \n",
       "\n",
       "                           title  \n",
       "20011              Callistege mi  \n",
       "20012              Vetustovermis  \n",
       "20013               Achillobator  \n",
       "20014    Hairy-eared dwarf lemur  \n",
       "20015    Black-capped kingfisher  \n",
       "20016                 Harpymimus  \n",
       "20017              Pickerel frog  \n",
       "20018  Atlantic Spanish mackerel  \n",
       "20019                     Yohoia  \n",
       "20020  Korean crevice salamander  "
      ]
     },
     "execution_count": 11,
     "metadata": {},
     "output_type": "execute_result"
    }
   ],
   "source": [
    "df[df.duplicated()==True]"
   ]
  },
  {
   "cell_type": "markdown",
   "metadata": {},
   "source": [
    "### Create a word count dataframe"
   ]
  },
  {
   "cell_type": "code",
   "execution_count": 148,
   "metadata": {
    "collapsed": false,
    "scrolled": false
   },
   "outputs": [],
   "source": [
    "count = 0\n",
    "limit = df.shape[0]\n",
    "words = {}\n",
    "word_count_over_time = []\n",
    "for index, row in df.iterrows():\n",
    "    if count < limit and row['text'] != '':\n",
    "        count += 1\n",
    "        word_count_over_time.append(len(words))\n",
    "        # remove puncuation and extra spaces, transfrom to lower case and split on spaces\n",
    "        word_list = re.sub(r'\\W+', ' ', str(row['text']).lower()).split(' ')\n",
    "        for word in word_list:\n",
    "            if word:\n",
    "                if word in words:\n",
    "                    words[word] += 1\n",
    "                else:\n",
    "                    words[word] = 1"
   ]
  },
  {
   "cell_type": "code",
   "execution_count": 149,
   "metadata": {
    "collapsed": false
   },
   "outputs": [
    {
     "name": "stderr",
     "output_type": "stream",
     "text": [
      "/Users/jeremy/anaconda/lib/python3.4/site-packages/ipykernel/__main__.py:2: FutureWarning: sort is deprecated, use sort_values(inplace=True) for INPLACE sorting\n",
      "  from ipykernel import kernelapp as app\n"
     ]
    },
    {
     "data": {
      "text/plain": [
       "the        542740\n",
       "of         263793\n",
       "and        262019\n",
       "in         222099\n",
       "to         176540\n",
       "a          168248\n",
       "is         131599\n",
       "are         91402\n",
       "as          70653\n",
       "species     61744\n",
       "from        58147\n",
       "it          57654\n",
       "with        57498\n",
       "that        51528\n",
       "on          48439\n",
       "dtype: int64"
      ]
     },
     "execution_count": 149,
     "metadata": {},
     "output_type": "execute_result"
    }
   ],
   "source": [
    "word_counts = pd.Series(words)\n",
    "word_counts.sort(ascending=False)\n",
    "word_counts.head(15)"
   ]
  },
  {
   "cell_type": "markdown",
   "metadata": {},
   "source": [
    "### Just for fun, how does the number of words increase as we count occurences?"
   ]
  },
  {
   "cell_type": "code",
   "execution_count": 150,
   "metadata": {
    "collapsed": false
   },
   "outputs": [
    {
     "data": {
      "text/plain": [
       "[<matplotlib.lines.Line2D at 0x11e20f048>]"
      ]
     },
     "execution_count": 150,
     "metadata": {},
     "output_type": "execute_result"
    },
    {
     "data": {
      "image/png": "[encoded data removed]",
      "text/plain": [
       "<matplotlib.figure.Figure at 0x117f53cc0>"
      ]
     },
     "metadata": {},
     "output_type": "display_data"
    }
   ],
   "source": [
    "figure(figsize=(16, 9))\n",
    "plot(word_count_over_time)"
   ]
  }
 ],
 "metadata": {
  "kernelspec": {
   "display_name": "Python 3",
   "language": "python",
   "name": "python3"
  },
  "language_info": {
   "codemirror_mode": {
    "name": "ipython",
    "version": 3
   },
   "file_extension": ".py",
   "mimetype": "text/x-python",
   "name": "python",
   "nbconvert_exporter": "python",
   "pygments_lexer": "ipython3",
   "version": "3.4.4"
  },
  "widgets": {
   "state": {},
   "version": "1.1.2"
  }
 },
 "nbformat": 4,
 "nbformat_minor": 0
}
