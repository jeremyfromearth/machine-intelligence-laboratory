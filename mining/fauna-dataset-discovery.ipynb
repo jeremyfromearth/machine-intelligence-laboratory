{
 "cells": [
  {
   "cell_type": "code",
   "execution_count": 1,
   "metadata": {
    "collapsed": false
   },
   "outputs": [
    {
     "name": "stderr",
     "output_type": "stream",
     "text": [
      "/Users/jeremy/anaconda/lib/python3.4/site-packages/pandas/computation/__init__.py:19: UserWarning: The installed version of numexpr 2.4.4 is not supported in pandas and will be not be used\n",
      "\n",
      "  UserWarning)\n"
     ]
    }
   ],
   "source": [
    "import os\n",
    "import sys\n",
    "import re\n",
    "import pandas as pd\n",
    "import numpy as np\n",
    "from matplotlib.pyplot import *\n",
    "import seaborn as sns\n",
    "%matplotlib inline\n",
    "\n",
    "# Enable relative imports\n",
    "module_path = os.path.abspath(os.path.join('..'))\n",
    "if module_path not in sys.path:\n",
    "    sys.path.append(module_path)\n",
    "from text.analytics import TermFreqInverseDocFreq"
   ]
  },
  {
   "cell_type": "markdown",
   "metadata": {},
   "source": [
    "### Load Fuana Dataset\n",
    "Data has been collected in batches. We need to load each batch and merge them all into one `DataFrame`"
   ]
  },
  {
   "cell_type": "code",
   "execution_count": 2,
   "metadata": {
    "collapsed": false,
    "scrolled": true
   },
   "outputs": [],
   "source": [
    "filenames = [\n",
    "    'fauna55k.csv.gz', \n",
    "    'fauna8k.csv.gz', \n",
    "    'fauna20k.csv.gz',\n",
    "    'fauna3.1k.csv.gz',\n",
    "    'fauna5.8k.csv.gz'\n",
    "]\n",
    "\n",
    "dataframes = []\n",
    "for f in filenames:\n",
    "    df = pd.read_csv('../data/{}'.format(f), compression='gzip')\n",
    "    dataframes.append(df)"
   ]
  },
  {
   "cell_type": "markdown",
   "metadata": {},
   "source": [
    "### Clean up the data to remove duplicates, nulls and noise (wikipedia redirects)"
   ]
  },
  {
   "cell_type": "code",
   "execution_count": 59,
   "metadata": {
    "collapsed": false
   },
   "outputs": [
    {
     "name": "stdout",
     "output_type": "stream",
     "text": [
      "fauna.shape before nulls removed (92996, 11)\n",
      "fauna.shape after nulls removed (75493, 11)\n",
      "fauna.shape before duplicates removed (75493, 11)\n",
      "fauna.shape after duplicates removed (50765, 11)\n",
      "fauna.shape after redirects dropped (42451, 11)\n"
     ]
    },
    {
     "data": {
      "text/html": [
       "<div>\n",
       "<table border=\"1\" class=\"dataframe\">\n",
       "  <thead>\n",
       "    <tr style=\"text-align: right;\">\n",
       "      <th></th>\n",
       "      <th>class</th>\n",
       "      <th>family</th>\n",
       "      <th>genus</th>\n",
       "      <th>kingdom</th>\n",
       "      <th>order</th>\n",
       "      <th>phylum</th>\n",
       "      <th>species</th>\n",
       "      <th>text</th>\n",
       "      <th>title</th>\n",
       "    </tr>\n",
       "    <tr>\n",
       "      <th>page-id</th>\n",
       "      <th></th>\n",
       "      <th></th>\n",
       "      <th></th>\n",
       "      <th></th>\n",
       "      <th></th>\n",
       "      <th></th>\n",
       "      <th></th>\n",
       "      <th></th>\n",
       "      <th></th>\n",
       "    </tr>\n",
       "  </thead>\n",
       "  <tbody>\n",
       "    <tr>\n",
       "      <th>3451749</th>\n",
       "      <td>amphibia</td>\n",
       "      <td>ranidae</td>\n",
       "      <td>rana</td>\n",
       "      <td>animalia</td>\n",
       "      <td>anura</td>\n",
       "      <td>chordata</td>\n",
       "      <td>rboylii</td>\n",
       "      <td>The foothill yellow-legged frog (Rana boylii) ...</td>\n",
       "      <td>Foothill yellow-legged frog</td>\n",
       "    </tr>\n",
       "    <tr>\n",
       "      <th>1369072</th>\n",
       "      <td>mammalia</td>\n",
       "      <td>bovidae</td>\n",
       "      <td>pantholopshodgson18342</td>\n",
       "      <td>animalia</td>\n",
       "      <td>artiodactyla</td>\n",
       "      <td>chordata</td>\n",
       "      <td>phodgsonii</td>\n",
       "      <td>The Tibetan antelope or chiru (Pantholops hodg...</td>\n",
       "      <td>Tibetan antelope</td>\n",
       "    </tr>\n",
       "    <tr>\n",
       "      <th>26625724</th>\n",
       "      <td>mammalia</td>\n",
       "      <td>bovidae</td>\n",
       "      <td>damaliscus</td>\n",
       "      <td>animalia</td>\n",
       "      <td>artiodactyla</td>\n",
       "      <td>chordata</td>\n",
       "      <td>dsuperstes</td>\n",
       "      <td>The Bangweulu tsessebe (Damaliscus superstes) ...</td>\n",
       "      <td>Bangweulu tsessebe</td>\n",
       "    </tr>\n",
       "    <tr>\n",
       "      <th>1709509</th>\n",
       "      <td>mammalia</td>\n",
       "      <td>tayassuidae</td>\n",
       "      <td>catagonusameghino1904</td>\n",
       "      <td>animalia</td>\n",
       "      <td>artiodactyla</td>\n",
       "      <td>chordata</td>\n",
       "      <td>cbrachydontuscmetropolitanuscstenocephaluscwag...</td>\n",
       "      <td>The Chacoan peccary or tagua (Catagonus wagner...</td>\n",
       "      <td>Chacoan peccary</td>\n",
       "    </tr>\n",
       "    <tr>\n",
       "      <th>262734</th>\n",
       "      <td>aves</td>\n",
       "      <td>opisthocomidae</td>\n",
       "      <td>opisthocomusilliger1811</td>\n",
       "      <td>animalia</td>\n",
       "      <td>opisthocomiformes</td>\n",
       "      <td>chordata</td>\n",
       "      <td>ohoazin</td>\n",
       "      <td>The hoatzin (Opisthocomus hoazin), also known ...</td>\n",
       "      <td>Hoatzin</td>\n",
       "    </tr>\n",
       "  </tbody>\n",
       "</table>\n",
       "</div>"
      ],
      "text/plain": [
       "             class          family                    genus   kingdom  \\\n",
       "page-id                                                                 \n",
       "3451749   amphibia         ranidae                     rana  animalia   \n",
       "1369072   mammalia         bovidae   pantholopshodgson18342  animalia   \n",
       "26625724  mammalia         bovidae               damaliscus  animalia   \n",
       "1709509   mammalia     tayassuidae    catagonusameghino1904  animalia   \n",
       "262734        aves  opisthocomidae  opisthocomusilliger1811  animalia   \n",
       "\n",
       "                      order    phylum  \\\n",
       "page-id                                 \n",
       "3451749               anura  chordata   \n",
       "1369072        artiodactyla  chordata   \n",
       "26625724       artiodactyla  chordata   \n",
       "1709509        artiodactyla  chordata   \n",
       "262734    opisthocomiformes  chordata   \n",
       "\n",
       "                                                    species  \\\n",
       "page-id                                                       \n",
       "3451749                                             rboylii   \n",
       "1369072                                          phodgsonii   \n",
       "26625724                                         dsuperstes   \n",
       "1709509   cbrachydontuscmetropolitanuscstenocephaluscwag...   \n",
       "262734                                              ohoazin   \n",
       "\n",
       "                                                       text  \\\n",
       "page-id                                                       \n",
       "3451749   The foothill yellow-legged frog (Rana boylii) ...   \n",
       "1369072   The Tibetan antelope or chiru (Pantholops hodg...   \n",
       "26625724  The Bangweulu tsessebe (Damaliscus superstes) ...   \n",
       "1709509   The Chacoan peccary or tagua (Catagonus wagner...   \n",
       "262734    The hoatzin (Opisthocomus hoazin), also known ...   \n",
       "\n",
       "                                title  \n",
       "page-id                                \n",
       "3451749   Foothill yellow-legged frog  \n",
       "1369072              Tibetan antelope  \n",
       "26625724           Bangweulu tsessebe  \n",
       "1709509               Chacoan peccary  \n",
       "262734                        Hoatzin  "
      ]
     },
     "execution_count": 59,
     "metadata": {},
     "output_type": "execute_result"
    }
   ],
   "source": [
    "fauna = pd.concat(dataframes)\n",
    "print('fauna.shape before nulls removed', fauna.shape)\n",
    "fauna = fauna[fauna['class'].notnull()]\n",
    "fauna = fauna[fauna['text'].notnull()]\n",
    "fauna = fauna[fauna['order'].notnull()]\n",
    "print('fauna.shape after nulls removed', fauna.shape)\n",
    "print('fauna.shape before duplicates removed', fauna.shape)\n",
    "fauna = fauna.drop_duplicates(['page-id'], keep='first')\n",
    "print('fauna.shape after duplicates removed', fauna.shape)\n",
    "fauna = fauna.drop(fauna[fauna['text'].str.contains('This is a redirect')].index)\n",
    "print('fauna.shape after redirects dropped', fauna.shape)\n",
    "fauna = fauna.drop('superorder', axis=1)\n",
    "fauna = fauna.set_index(keys=['page-id'])\n",
    "fauna.head()"
   ]
  },
  {
   "cell_type": "markdown",
   "metadata": {},
   "source": [
    "### Visualize the number of records in each class"
   ]
  },
  {
   "cell_type": "code",
   "execution_count": 68,
   "metadata": {
    "collapsed": false
   },
   "outputs": [
    {
     "data": {
      "text/plain": [
       "<matplotlib.axes._subplots.AxesSubplot at 0x12ea6ca90>"
      ]
     },
     "execution_count": 68,
     "metadata": {},
     "output_type": "execute_result"
    },
    {
     "data": {
      "image/png": "[encoded data removed]",
      "text/plain": [
       "<matplotlib.figure.Figure at 0x12de0ceb8>"
      ]
     },
     "metadata": {},
     "output_type": "display_data"
    }
   ],
   "source": [
    "classes = fauna['class'].value_counts()\n",
    "figure(figsize=(16, 9))\n",
    "classes[0:30].plot(kind=\"bar\")"
   ]
  },
  {
   "cell_type": "markdown",
   "metadata": {},
   "source": [
    "## Basic filtering on various fields"
   ]
  },
  {
   "cell_type": "code",
   "execution_count": 67,
   "metadata": {
    "collapsed": false
   },
   "outputs": [
    {
     "data": {
      "text/html": [
       "<div>\n",
       "<table border=\"1\" class=\"dataframe\">\n",
       "  <thead>\n",
       "    <tr style=\"text-align: right;\">\n",
       "      <th></th>\n",
       "      <th>class</th>\n",
       "      <th>family</th>\n",
       "      <th>genus</th>\n",
       "      <th>kingdom</th>\n",
       "      <th>order</th>\n",
       "      <th>phylum</th>\n",
       "      <th>species</th>\n",
       "      <th>text</th>\n",
       "      <th>title</th>\n",
       "    </tr>\n",
       "    <tr>\n",
       "      <th>page-id</th>\n",
       "      <th></th>\n",
       "      <th></th>\n",
       "      <th></th>\n",
       "      <th></th>\n",
       "      <th></th>\n",
       "      <th></th>\n",
       "      <th></th>\n",
       "      <th></th>\n",
       "      <th></th>\n",
       "    </tr>\n",
       "  </thead>\n",
       "  <tbody>\n",
       "    <tr>\n",
       "      <th>400378</th>\n",
       "      <td>mammalia</td>\n",
       "      <td>canidae</td>\n",
       "      <td>otocyon</td>\n",
       "      <td>animalia</td>\n",
       "      <td>carnivora</td>\n",
       "      <td>chordata</td>\n",
       "      <td>omegalotis</td>\n",
       "      <td>The bat-eared fox (Otocyon megalotis) is a spe...</td>\n",
       "      <td>Bat-eared fox</td>\n",
       "    </tr>\n",
       "  </tbody>\n",
       "</table>\n",
       "</div>"
      ],
      "text/plain": [
       "            class   family    genus   kingdom      order    phylum  \\\n",
       "page-id                                                              \n",
       "400378   mammalia  canidae  otocyon  animalia  carnivora  chordata   \n",
       "\n",
       "            species                                               text  \\\n",
       "page-id                                                                  \n",
       "400378   omegalotis  The bat-eared fox (Otocyon megalotis) is a spe...   \n",
       "\n",
       "                 title  \n",
       "page-id                 \n",
       "400378   Bat-eared fox  "
      ]
     },
     "execution_count": 67,
     "metadata": {},
     "output_type": "execute_result"
    }
   ],
   "source": [
    "fauna[fauna['genus']=='otocyon']"
   ]
  },
  {
   "cell_type": "markdown",
   "metadata": {},
   "source": [
    "### Create a TFIDF Table"
   ]
  },
  {
   "cell_type": "code",
   "execution_count": 63,
   "metadata": {
    "collapsed": false,
    "scrolled": true
   },
   "outputs": [],
   "source": [
    "tfidf = TermFreqInverseDocFreq()\n",
    "tfidf.create(fauna, 'text', True)"
   ]
  },
  {
   "cell_type": "markdown",
   "metadata": {},
   "source": [
    "### Plot the term count over iterations"
   ]
  },
  {
   "cell_type": "code",
   "execution_count": 64,
   "metadata": {
    "collapsed": false
   },
   "outputs": [
    {
     "data": {
      "text/plain": [
       "<matplotlib.axes._subplots.AxesSubplot at 0x12ddcc7f0>"
      ]
     },
     "execution_count": 64,
     "metadata": {},
     "output_type": "execute_result"
    },
    {
     "data": {
      "image/png": "[encoded data removed]",
      "text/plain": [
       "<matplotlib.figure.Figure at 0x12ddee208>"
      ]
     },
     "metadata": {},
     "output_type": "display_data"
    }
   ],
   "source": [
    "term_count_series = pd.Series(tfidf.term_count_over_iterations)\n",
    "figure(figsize=(16, 9))\n",
    "term_count_series.plot()"
   ]
  }
 ],
 "metadata": {
  "kernelspec": {
   "display_name": "Python 3",
   "language": "python",
   "name": "python3"
  },
  "language_info": {
   "codemirror_mode": {
    "name": "ipython",
    "version": 3
   },
   "file_extension": ".py",
   "mimetype": "text/x-python",
   "name": "python",
   "nbconvert_exporter": "python",
   "pygments_lexer": "ipython3",
   "version": "3.4.4"
  },
  "widgets": {
   "state": {},
   "version": "1.1.2"
  }
 },
 "nbformat": 4,
 "nbformat_minor": 0
}
