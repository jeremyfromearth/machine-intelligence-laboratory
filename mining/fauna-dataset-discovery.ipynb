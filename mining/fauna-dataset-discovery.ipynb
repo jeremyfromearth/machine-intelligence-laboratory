{
 "cells": [
  {
   "cell_type": "code",
   "execution_count": 1,
   "metadata": {
    "collapsed": false
   },
   "outputs": [
    {
     "name": "stderr",
     "output_type": "stream",
     "text": [
      "/Users/jeremy/anaconda/lib/python3.4/site-packages/pandas/computation/__init__.py:19: UserWarning: The installed version of numexpr 2.4.4 is not supported in pandas and will be not be used\n",
      "\n",
      "  UserWarning)\n"
     ]
    }
   ],
   "source": [
    "import os\n",
    "import sys\n",
    "import re\n",
    "import pandas as pd\n",
    "import numpy as np\n",
    "from matplotlib.pyplot import *\n",
    "import seaborn as sns\n",
    "%matplotlib inline\n",
    "\n",
    "# Enable relative imports\n",
    "module_path = os.path.abspath(os.path.join('..'))\n",
    "if module_path not in sys.path:\n",
    "    sys.path.append(module_path)\n",
    "from text.analytics import TermFreqInverseDocFreq"
   ]
  },
  {
   "cell_type": "markdown",
   "metadata": {},
   "source": [
    "## Load Fuana Dataset"
   ]
  },
  {
   "cell_type": "code",
   "execution_count": 2,
   "metadata": {
    "collapsed": false,
    "scrolled": true
   },
   "outputs": [
    {
     "data": {
      "text/html": [
       "<div>\n",
       "<table border=\"1\" class=\"dataframe\">\n",
       "  <thead>\n",
       "    <tr style=\"text-align: right;\">\n",
       "      <th></th>\n",
       "      <th>class</th>\n",
       "      <th>family</th>\n",
       "      <th>genus</th>\n",
       "      <th>kingdom</th>\n",
       "      <th>order</th>\n",
       "      <th>phylum</th>\n",
       "      <th>species</th>\n",
       "      <th>text</th>\n",
       "      <th>title</th>\n",
       "    </tr>\n",
       "    <tr>\n",
       "      <th>page-id</th>\n",
       "      <th></th>\n",
       "      <th></th>\n",
       "      <th></th>\n",
       "      <th></th>\n",
       "      <th></th>\n",
       "      <th></th>\n",
       "      <th></th>\n",
       "      <th></th>\n",
       "      <th></th>\n",
       "    </tr>\n",
       "  </thead>\n",
       "  <tbody>\n",
       "    <tr>\n",
       "      <th>3451749</th>\n",
       "      <td>amphibia</td>\n",
       "      <td>ranidae</td>\n",
       "      <td>rana</td>\n",
       "      <td>animalia</td>\n",
       "      <td>anura</td>\n",
       "      <td>chordata</td>\n",
       "      <td>rboylii</td>\n",
       "      <td>The foothill yellow-legged frog (Rana boylii) ...</td>\n",
       "      <td>Foothill yellow-legged frog</td>\n",
       "    </tr>\n",
       "    <tr>\n",
       "      <th>38082824</th>\n",
       "      <td>amphibia</td>\n",
       "      <td>ranidae</td>\n",
       "      <td>lithobates</td>\n",
       "      <td>animalia</td>\n",
       "      <td>anura</td>\n",
       "      <td>chordata</td>\n",
       "      <td>lsylvaticus</td>\n",
       "      <td>This is a redirect from a title with another m...</td>\n",
       "      <td>Wood Frog</td>\n",
       "    </tr>\n",
       "    <tr>\n",
       "      <th>1369072</th>\n",
       "      <td>mammalia</td>\n",
       "      <td>bovidae</td>\n",
       "      <td>pantholopshodgson18342</td>\n",
       "      <td>animalia</td>\n",
       "      <td>artiodactyla</td>\n",
       "      <td>chordata</td>\n",
       "      <td>phodgsonii</td>\n",
       "      <td>The Tibetan antelope or chiru (Pantholops hodg...</td>\n",
       "      <td>Tibetan antelope</td>\n",
       "    </tr>\n",
       "    <tr>\n",
       "      <th>26625724</th>\n",
       "      <td>mammalia</td>\n",
       "      <td>bovidae</td>\n",
       "      <td>damaliscus</td>\n",
       "      <td>animalia</td>\n",
       "      <td>artiodactyla</td>\n",
       "      <td>chordata</td>\n",
       "      <td>dsuperstes</td>\n",
       "      <td>The Bangweulu tsessebe (Damaliscus superstes) ...</td>\n",
       "      <td>Bangweulu tsessebe</td>\n",
       "    </tr>\n",
       "    <tr>\n",
       "      <th>1709509</th>\n",
       "      <td>mammalia</td>\n",
       "      <td>tayassuidae</td>\n",
       "      <td>catagonusameghino1904</td>\n",
       "      <td>animalia</td>\n",
       "      <td>artiodactyla</td>\n",
       "      <td>chordata</td>\n",
       "      <td>cbrachydontuscmetropolitanuscstenocephaluscwag...</td>\n",
       "      <td>The Chacoan peccary or tagua (Catagonus wagner...</td>\n",
       "      <td>Chacoan peccary</td>\n",
       "    </tr>\n",
       "  </tbody>\n",
       "</table>\n",
       "</div>"
      ],
      "text/plain": [
       "             class       family                   genus   kingdom  \\\n",
       "page-id                                                             \n",
       "3451749   amphibia      ranidae                    rana  animalia   \n",
       "38082824  amphibia      ranidae              lithobates  animalia   \n",
       "1369072   mammalia      bovidae  pantholopshodgson18342  animalia   \n",
       "26625724  mammalia      bovidae              damaliscus  animalia   \n",
       "1709509   mammalia  tayassuidae   catagonusameghino1904  animalia   \n",
       "\n",
       "                 order    phylum  \\\n",
       "page-id                            \n",
       "3451749          anura  chordata   \n",
       "38082824         anura  chordata   \n",
       "1369072   artiodactyla  chordata   \n",
       "26625724  artiodactyla  chordata   \n",
       "1709509   artiodactyla  chordata   \n",
       "\n",
       "                                                    species  \\\n",
       "page-id                                                       \n",
       "3451749                                             rboylii   \n",
       "38082824                                        lsylvaticus   \n",
       "1369072                                          phodgsonii   \n",
       "26625724                                         dsuperstes   \n",
       "1709509   cbrachydontuscmetropolitanuscstenocephaluscwag...   \n",
       "\n",
       "                                                       text  \\\n",
       "page-id                                                       \n",
       "3451749   The foothill yellow-legged frog (Rana boylii) ...   \n",
       "38082824  This is a redirect from a title with another m...   \n",
       "1369072   The Tibetan antelope or chiru (Pantholops hodg...   \n",
       "26625724  The Bangweulu tsessebe (Damaliscus superstes) ...   \n",
       "1709509   The Chacoan peccary or tagua (Catagonus wagner...   \n",
       "\n",
       "                                title  \n",
       "page-id                                \n",
       "3451749   Foothill yellow-legged frog  \n",
       "38082824                    Wood Frog  \n",
       "1369072              Tibetan antelope  \n",
       "26625724           Bangweulu tsessebe  \n",
       "1709509               Chacoan peccary  "
      ]
     },
     "execution_count": 2,
     "metadata": {},
     "output_type": "execute_result"
    }
   ],
   "source": [
    "df = pd.read_csv('../data/fauna.csv.gz', compression='gzip')\n",
    "df = df.set_index(keys=['page-id'])\n",
    "df.head()"
   ]
  },
  {
   "cell_type": "markdown",
   "metadata": {},
   "source": [
    "## Visualize the number of records in each class"
   ]
  },
  {
   "cell_type": "code",
   "execution_count": 3,
   "metadata": {
    "collapsed": false
   },
   "outputs": [
    {
     "data": {
      "text/plain": [
       "<matplotlib.axes._subplots.AxesSubplot at 0x10ef37320>"
      ]
     },
     "execution_count": 3,
     "metadata": {},
     "output_type": "execute_result"
    },
    {
     "data": {
      "image/png": "[encoded data removed]",
      "text/plain": [
       "<matplotlib.figure.Figure at 0x120d724a8>"
      ]
     },
     "metadata": {},
     "output_type": "display_data"
    }
   ],
   "source": [
    "classes = df['class'].value_counts()\n",
    "figure(figsize=(16, 9))\n",
    "classes[0:20].plot(kind=\"bar\")"
   ]
  },
  {
   "cell_type": "markdown",
   "metadata": {},
   "source": [
    "### Create a TFIDF Table"
   ]
  },
  {
   "cell_type": "code",
   "execution_count": 4,
   "metadata": {
    "collapsed": false,
    "scrolled": true
   },
   "outputs": [
    {
     "name": "stdout",
     "output_type": "stream",
     "text": [
      "create()\n",
      "Term frequency created\n",
      "Term frequency normalized\n",
      "Document frequency created\n",
      "TFIDF created\n",
      "Page Index 2 Word Index 145\n",
      "Page: 1369072 Term: at\n",
      "Number of Pages containing term: 11047\n",
      "Global Rarity: 1.61776663682\n",
      "Local frequency 0.0426358368384\n",
      "Gloabl frequency: 11047.0\n",
      "TFIDF 0.0689748343703\n"
     ]
    }
   ],
   "source": [
    "tfidf = TermFreqInverseDocFreq()\n",
    "tfidf.create(df, 'text', True)"
   ]
  },
  {
   "cell_type": "code",
   "execution_count": 5,
   "metadata": {
    "collapsed": false
   },
   "outputs": [],
   "source": [
    "tfid_df = pd.SparseSeries.from_coo(tfidf.tfidf.tocoo(), dense_index=False)"
   ]
  },
  {
   "cell_type": "code",
   "execution_count": 15,
   "metadata": {
    "collapsed": false
   },
   "outputs": [
    {
     "data": {
      "text/plain": [
       "(1, 255681)"
      ]
     },
     "execution_count": 15,
     "metadata": {},
     "output_type": "execute_result"
    }
   ],
   "source": [
    "tfidf.tfidf[0].shape"
   ]
  },
  {
   "cell_type": "code",
   "execution_count": null,
   "metadata": {
    "collapsed": true
   },
   "outputs": [],
   "source": []
  }
 ],
 "metadata": {
  "kernelspec": {
   "display_name": "Python 3",
   "language": "python",
   "name": "python3"
  },
  "language_info": {
   "codemirror_mode": {
    "name": "ipython",
    "version": 3
   },
   "file_extension": ".py",
   "mimetype": "text/x-python",
   "name": "python",
   "nbconvert_exporter": "python",
   "pygments_lexer": "ipython3",
   "version": "3.4.4"
  },
  "widgets": {
   "state": {},
   "version": "1.1.2"
  }
 },
 "nbformat": 4,
 "nbformat_minor": 0
}
