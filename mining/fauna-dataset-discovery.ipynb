{
 "cells": [
  {
   "cell_type": "code",
   "execution_count": 1,
   "metadata": {
    "collapsed": false
   },
   "outputs": [
    {
     "name": "stderr",
     "output_type": "stream",
     "text": [
      "/Users/jeremy/anaconda/lib/python3.4/site-packages/pandas/computation/__init__.py:19: UserWarning: The installed version of numexpr 2.4.4 is not supported in pandas and will be not be used\n",
      "\n",
      "  UserWarning)\n"
     ]
    }
   ],
   "source": [
    "import re\n",
    "import pandas as pd\n",
    "import numpy as np\n",
    "from matplotlib.pyplot import *\n",
    "%matplotlib inline"
   ]
  },
  {
   "cell_type": "markdown",
   "metadata": {},
   "source": [
    "## Load Fuana Dataset"
   ]
  },
  {
   "cell_type": "code",
   "execution_count": 2,
   "metadata": {
    "collapsed": false,
    "scrolled": true
   },
   "outputs": [
    {
     "data": {
      "text/html": [
       "<div>\n",
       "<table border=\"1\" class=\"dataframe\">\n",
       "  <thead>\n",
       "    <tr style=\"text-align: right;\">\n",
       "      <th></th>\n",
       "      <th>class</th>\n",
       "      <th>family</th>\n",
       "      <th>genus</th>\n",
       "      <th>kingdom</th>\n",
       "      <th>order</th>\n",
       "      <th>phylum</th>\n",
       "      <th>species</th>\n",
       "      <th>text</th>\n",
       "      <th>title</th>\n",
       "    </tr>\n",
       "    <tr>\n",
       "      <th>page-id</th>\n",
       "      <th></th>\n",
       "      <th></th>\n",
       "      <th></th>\n",
       "      <th></th>\n",
       "      <th></th>\n",
       "      <th></th>\n",
       "      <th></th>\n",
       "      <th></th>\n",
       "      <th></th>\n",
       "    </tr>\n",
       "  </thead>\n",
       "  <tbody>\n",
       "    <tr>\n",
       "      <th>3451749</th>\n",
       "      <td>amphibia</td>\n",
       "      <td>ranidae</td>\n",
       "      <td>rana</td>\n",
       "      <td>animalia</td>\n",
       "      <td>anura</td>\n",
       "      <td>chordata</td>\n",
       "      <td>rboylii</td>\n",
       "      <td>The foothill yellow-legged frog (Rana boylii) ...</td>\n",
       "      <td>Foothill yellow-legged frog</td>\n",
       "    </tr>\n",
       "    <tr>\n",
       "      <th>38082824</th>\n",
       "      <td>amphibia</td>\n",
       "      <td>ranidae</td>\n",
       "      <td>lithobates</td>\n",
       "      <td>animalia</td>\n",
       "      <td>anura</td>\n",
       "      <td>chordata</td>\n",
       "      <td>lsylvaticus</td>\n",
       "      <td>This is a redirect from a title with another m...</td>\n",
       "      <td>Wood Frog</td>\n",
       "    </tr>\n",
       "    <tr>\n",
       "      <th>1369072</th>\n",
       "      <td>mammalia</td>\n",
       "      <td>bovidae</td>\n",
       "      <td>pantholopshodgson18342</td>\n",
       "      <td>animalia</td>\n",
       "      <td>artiodactyla</td>\n",
       "      <td>chordata</td>\n",
       "      <td>phodgsonii</td>\n",
       "      <td>The Tibetan antelope or chiru (Pantholops hodg...</td>\n",
       "      <td>Tibetan antelope</td>\n",
       "    </tr>\n",
       "    <tr>\n",
       "      <th>26625724</th>\n",
       "      <td>mammalia</td>\n",
       "      <td>bovidae</td>\n",
       "      <td>damaliscus</td>\n",
       "      <td>animalia</td>\n",
       "      <td>artiodactyla</td>\n",
       "      <td>chordata</td>\n",
       "      <td>dsuperstes</td>\n",
       "      <td>The Bangweulu tsessebe (Damaliscus superstes) ...</td>\n",
       "      <td>Bangweulu tsessebe</td>\n",
       "    </tr>\n",
       "    <tr>\n",
       "      <th>1709509</th>\n",
       "      <td>mammalia</td>\n",
       "      <td>tayassuidae</td>\n",
       "      <td>catagonusameghino1904</td>\n",
       "      <td>animalia</td>\n",
       "      <td>artiodactyla</td>\n",
       "      <td>chordata</td>\n",
       "      <td>cbrachydontuscmetropolitanuscstenocephaluscwag...</td>\n",
       "      <td>The Chacoan peccary or tagua (Catagonus wagner...</td>\n",
       "      <td>Chacoan peccary</td>\n",
       "    </tr>\n",
       "  </tbody>\n",
       "</table>\n",
       "</div>"
      ],
      "text/plain": [
       "             class       family                   genus   kingdom  \\\n",
       "page-id                                                             \n",
       "3451749   amphibia      ranidae                    rana  animalia   \n",
       "38082824  amphibia      ranidae              lithobates  animalia   \n",
       "1369072   mammalia      bovidae  pantholopshodgson18342  animalia   \n",
       "26625724  mammalia      bovidae              damaliscus  animalia   \n",
       "1709509   mammalia  tayassuidae   catagonusameghino1904  animalia   \n",
       "\n",
       "                 order    phylum  \\\n",
       "page-id                            \n",
       "3451749          anura  chordata   \n",
       "38082824         anura  chordata   \n",
       "1369072   artiodactyla  chordata   \n",
       "26625724  artiodactyla  chordata   \n",
       "1709509   artiodactyla  chordata   \n",
       "\n",
       "                                                    species  \\\n",
       "page-id                                                       \n",
       "3451749                                             rboylii   \n",
       "38082824                                        lsylvaticus   \n",
       "1369072                                          phodgsonii   \n",
       "26625724                                         dsuperstes   \n",
       "1709509   cbrachydontuscmetropolitanuscstenocephaluscwag...   \n",
       "\n",
       "                                                       text  \\\n",
       "page-id                                                       \n",
       "3451749   The foothill yellow-legged frog (Rana boylii) ...   \n",
       "38082824  This is a redirect from a title with another m...   \n",
       "1369072   The Tibetan antelope or chiru (Pantholops hodg...   \n",
       "26625724  The Bangweulu tsessebe (Damaliscus superstes) ...   \n",
       "1709509   The Chacoan peccary or tagua (Catagonus wagner...   \n",
       "\n",
       "                                title  \n",
       "page-id                                \n",
       "3451749   Foothill yellow-legged frog  \n",
       "38082824                    Wood Frog  \n",
       "1369072              Tibetan antelope  \n",
       "26625724           Bangweulu tsessebe  \n",
       "1709509               Chacoan peccary  "
      ]
     },
     "execution_count": 2,
     "metadata": {},
     "output_type": "execute_result"
    }
   ],
   "source": [
    "df = pd.read_csv('../data/fauna.csv.gz', compression='gzip')\n",
    "df = df.set_index(keys=['page-id'])\n",
    "df.head()"
   ]
  },
  {
   "cell_type": "markdown",
   "metadata": {},
   "source": [
    "## Visualize the number of records in each class"
   ]
  },
  {
   "cell_type": "code",
   "execution_count": 3,
   "metadata": {
    "collapsed": false
   },
   "outputs": [
    {
     "data": {
      "text/plain": [
       "<matplotlib.axes._subplots.AxesSubplot at 0x109b8c160>"
      ]
     },
     "execution_count": 3,
     "metadata": {},
     "output_type": "execute_result"
    },
    {
     "data": {
      "image/png": "[encoded data removed]",
      "text/plain": [
       "<matplotlib.figure.Figure at 0x11c1e5828>"
      ]
     },
     "metadata": {},
     "output_type": "display_data"
    }
   ],
   "source": [
    "classes = df['class'].value_counts()\n",
    "figure(figsize=(16, 9))\n",
    "classes[0:20].plot(kind=\"bar\")"
   ]
  },
  {
   "cell_type": "markdown",
   "metadata": {},
   "source": [
    "### Create a TFIDF Table"
   ]
  },
  {
   "cell_type": "code",
   "execution_count": 31,
   "metadata": {
    "collapsed": false,
    "scrolled": false
   },
   "outputs": [],
   "source": [
    "from math import log\n",
    "\n",
    "count = 0\n",
    "limit = 3            # limit the number of documents we scan\n",
    "doc_freq = {}           # doc_freq['word'].add(index)\n",
    "term_freq = {}          # term_freq[234234] = {'word' : count}\n",
    "#word_count_history = [] # record the number of unique words in the corpus as we scan through it\n",
    "for index, row in df[:limit].iterrows():\n",
    "    if count < limit and row['text'] != '':\n",
    "        count += 1\n",
    "        if index in term_freq:\n",
    "            terms = term_freq[index]\n",
    "        else:\n",
    "            terms = term_freq[index] = {}\n",
    "        \n",
    "        # find all words, ignore numbers, special characters and new lines/spaces/etc...\n",
    "        s = str(row['text']).lower()\n",
    "        word_list = re.findall(r'\\b[^\\W\\d_]+\\b', s)\n",
    "        \n",
    "        for word in word_list:\n",
    "            if word in terms:\n",
    "                terms[word] += 1\n",
    "            else:\n",
    "                terms[word] = 1\n",
    "            '''\n",
    "            if word in doc_freq:\n",
    "                doc_freq[word].add(index)\n",
    "            else:\n",
    "                doc_freq[word] = set()\n",
    "                doc_freq[word].add(index)\n",
    "            '''\n",
    "        #word_count_history.append(len(doc_freq))\n",
    "\n",
    "# convert the term frequencies to a DataFrame\n",
    "tf = pd.DataFrame(term_freq)\n",
    "tf = tf.fillna(0)\n",
    "tf = tf.apply(lambda x : x / np.sqrt(np.sum(np.power(x.values, 2)))) # normalize term frequency so that magnitude of vector is 1\n",
    "\n",
    "# doc_freq is map of words to sets of doc ids, \n",
    "# we want to know how many documents each word is present in\n",
    "# create a map of words to the actual number of documents the word is present in\n",
    "'''\n",
    "doc_freq_counts = {}\n",
    "for word in doc_freq:\n",
    "    if word not in doc_freq_counts:\n",
    "        doc_freq_counts[word] = len(doc_freq[word])\n",
    "'''\n",
    "#idf = pd.Series(doc_freq_counts)\n",
    "#idf = idf.apply(lambda x : log(len(doc_freq) / (x)))\n",
    "idf = tf.astype(bool).sum(axis=1).apply(lambda x : np.log(tf.shape[1] / (1 + x)))\n",
    "tfidf = pd.DataFrame(tf.values.T * idf.values, index=tf.columns, columns=idf.index)"
   ]
  },
  {
   "cell_type": "code",
   "execution_count": 32,
   "metadata": {
    "collapsed": false,
    "scrolled": true
   },
   "outputs": [
    {
     "data": {
      "text/html": [
       "<div>\n",
       "<table border=\"1\" class=\"dataframe\">\n",
       "  <thead>\n",
       "    <tr style=\"text-align: right;\">\n",
       "      <th></th>\n",
       "      <th>a</th>\n",
       "      <th>abdomens</th>\n",
       "      <th>abilities</th>\n",
       "      <th>ability</th>\n",
       "      <th>able</th>\n",
       "      <th>about</th>\n",
       "      <th>above</th>\n",
       "      <th>absent</th>\n",
       "      <th>academy</th>\n",
       "      <th>access</th>\n",
       "      <th>...</th>\n",
       "      <th>xinjiang</th>\n",
       "      <th>year</th>\n",
       "      <th>yearly</th>\n",
       "      <th>years</th>\n",
       "      <th>yellow</th>\n",
       "      <th>young</th>\n",
       "      <th>zàng</th>\n",
       "      <th>གཙ</th>\n",
       "      <th>ད</th>\n",
       "      <th>藏羚羊</th>\n",
       "    </tr>\n",
       "  </thead>\n",
       "  <tbody>\n",
       "    <tr>\n",
       "      <th>1369072</th>\n",
       "      <td>-0.057239</td>\n",
       "      <td>0.000000</td>\n",
       "      <td>0.000000</td>\n",
       "      <td>0.00000</td>\n",
       "      <td>0.002881</td>\n",
       "      <td>0.0</td>\n",
       "      <td>0.000000</td>\n",
       "      <td>0.000000</td>\n",
       "      <td>0.002881</td>\n",
       "      <td>0.000000</td>\n",
       "      <td>...</td>\n",
       "      <td>0.002881</td>\n",
       "      <td>0.005762</td>\n",
       "      <td>0.005762</td>\n",
       "      <td>0.008644</td>\n",
       "      <td>0.000000</td>\n",
       "      <td>0.0</td>\n",
       "      <td>0.002881</td>\n",
       "      <td>0.002881</td>\n",
       "      <td>0.002881</td>\n",
       "      <td>0.002881</td>\n",
       "    </tr>\n",
       "    <tr>\n",
       "      <th>3451749</th>\n",
       "      <td>-0.029534</td>\n",
       "      <td>0.002775</td>\n",
       "      <td>0.002775</td>\n",
       "      <td>0.00555</td>\n",
       "      <td>0.000000</td>\n",
       "      <td>0.0</td>\n",
       "      <td>0.002775</td>\n",
       "      <td>0.002775</td>\n",
       "      <td>0.000000</td>\n",
       "      <td>0.002775</td>\n",
       "      <td>...</td>\n",
       "      <td>0.000000</td>\n",
       "      <td>0.000000</td>\n",
       "      <td>0.000000</td>\n",
       "      <td>0.000000</td>\n",
       "      <td>0.024976</td>\n",
       "      <td>0.0</td>\n",
       "      <td>0.000000</td>\n",
       "      <td>0.000000</td>\n",
       "      <td>0.000000</td>\n",
       "      <td>0.000000</td>\n",
       "    </tr>\n",
       "    <tr>\n",
       "      <th>38082824</th>\n",
       "      <td>-0.051855</td>\n",
       "      <td>0.000000</td>\n",
       "      <td>0.000000</td>\n",
       "      <td>0.00000</td>\n",
       "      <td>0.000000</td>\n",
       "      <td>0.0</td>\n",
       "      <td>0.000000</td>\n",
       "      <td>0.000000</td>\n",
       "      <td>0.000000</td>\n",
       "      <td>0.000000</td>\n",
       "      <td>...</td>\n",
       "      <td>0.000000</td>\n",
       "      <td>0.000000</td>\n",
       "      <td>0.000000</td>\n",
       "      <td>0.000000</td>\n",
       "      <td>0.000000</td>\n",
       "      <td>0.0</td>\n",
       "      <td>0.000000</td>\n",
       "      <td>0.000000</td>\n",
       "      <td>0.000000</td>\n",
       "      <td>0.000000</td>\n",
       "    </tr>\n",
       "  </tbody>\n",
       "</table>\n",
       "<p>3 rows × 1002 columns</p>\n",
       "</div>"
      ],
      "text/plain": [
       "                 a  abdomens  abilities  ability      able  about     above  \\\n",
       "1369072  -0.057239  0.000000   0.000000  0.00000  0.002881    0.0  0.000000   \n",
       "3451749  -0.029534  0.002775   0.002775  0.00555  0.000000    0.0  0.002775   \n",
       "38082824 -0.051855  0.000000   0.000000  0.00000  0.000000    0.0  0.000000   \n",
       "\n",
       "            absent   academy    access    ...     xinjiang      year  \\\n",
       "1369072   0.000000  0.002881  0.000000    ...     0.002881  0.005762   \n",
       "3451749   0.002775  0.000000  0.002775    ...     0.000000  0.000000   \n",
       "38082824  0.000000  0.000000  0.000000    ...     0.000000  0.000000   \n",
       "\n",
       "            yearly     years    yellow  young      zàng        གཙ         ད  \\\n",
       "1369072   0.005762  0.008644  0.000000    0.0  0.002881  0.002881  0.002881   \n",
       "3451749   0.000000  0.000000  0.024976    0.0  0.000000  0.000000  0.000000   \n",
       "38082824  0.000000  0.000000  0.000000    0.0  0.000000  0.000000  0.000000   \n",
       "\n",
       "               藏羚羊  \n",
       "1369072   0.002881  \n",
       "3451749   0.000000  \n",
       "38082824  0.000000  \n",
       "\n",
       "[3 rows x 1002 columns]"
      ]
     },
     "execution_count": 32,
     "metadata": {},
     "output_type": "execute_result"
    }
   ],
   "source": [
    "#tf.astype(bool).sum(axis=1)\n",
    "#log(10 / 11)\n",
    "#tf.astype(bool).sum(axis=1)\n",
    "#tfidf.T.sort_values(by=50625189, ascending=False)\n",
    "tfidf"
   ]
  },
  {
   "cell_type": "code",
   "execution_count": 25,
   "metadata": {
    "collapsed": false
   },
   "outputs": [
    {
     "data": {
      "text/html": [
       "<div>\n",
       "<table border=\"1\" class=\"dataframe\">\n",
       "  <thead>\n",
       "    <tr style=\"text-align: right;\">\n",
       "      <th></th>\n",
       "      <th>a</th>\n",
       "      <th>abdomens</th>\n",
       "      <th>abilities</th>\n",
       "      <th>ability</th>\n",
       "      <th>about</th>\n",
       "      <th>above</th>\n",
       "      <th>absent</th>\n",
       "      <th>access</th>\n",
       "      <th>adult</th>\n",
       "      <th>adults</th>\n",
       "      <th>...</th>\n",
       "      <th>western</th>\n",
       "      <th>when</th>\n",
       "      <th>where</th>\n",
       "      <th>which</th>\n",
       "      <th>while</th>\n",
       "      <th>whole</th>\n",
       "      <th>why</th>\n",
       "      <th>with</th>\n",
       "      <th>yellow</th>\n",
       "      <th>young</th>\n",
       "    </tr>\n",
       "  </thead>\n",
       "  <tbody>\n",
       "    <tr>\n",
       "      <th>3451749</th>\n",
       "      <td>-0.07116</td>\n",
       "      <td>-0.004744</td>\n",
       "      <td>-0.004744</td>\n",
       "      <td>-0.009488</td>\n",
       "      <td>-0.028464</td>\n",
       "      <td>-0.004744</td>\n",
       "      <td>-0.004744</td>\n",
       "      <td>-0.004744</td>\n",
       "      <td>-0.009488</td>\n",
       "      <td>-0.009488</td>\n",
       "      <td>...</td>\n",
       "      <td>-0.009488</td>\n",
       "      <td>-0.004744</td>\n",
       "      <td>-0.009488</td>\n",
       "      <td>-0.033208</td>\n",
       "      <td>-0.004744</td>\n",
       "      <td>-0.004744</td>\n",
       "      <td>-0.004744</td>\n",
       "      <td>-0.042696</td>\n",
       "      <td>-0.042696</td>\n",
       "      <td>-0.018976</td>\n",
       "    </tr>\n",
       "  </tbody>\n",
       "</table>\n",
       "<p>1 rows × 530 columns</p>\n",
       "</div>"
      ],
      "text/plain": [
       "               a  abdomens  abilities   ability     about     above    absent  \\\n",
       "3451749 -0.07116 -0.004744  -0.004744 -0.009488 -0.028464 -0.004744 -0.004744   \n",
       "\n",
       "           access     adult    adults    ...      western      when     where  \\\n",
       "3451749 -0.004744 -0.009488 -0.009488    ...    -0.009488 -0.004744 -0.009488   \n",
       "\n",
       "            which     while     whole       why      with    yellow     young  \n",
       "3451749 -0.033208 -0.004744 -0.004744 -0.004744 -0.042696 -0.042696 -0.018976  \n",
       "\n",
       "[1 rows x 530 columns]"
      ]
     },
     "execution_count": 25,
     "metadata": {},
     "output_type": "execute_result"
    }
   ],
   "source": [
    "tfidf.head()"
   ]
  },
  {
   "cell_type": "markdown",
   "metadata": {},
   "source": [
    "### Just for fun, how does the number of words increase as we count occurences?"
   ]
  },
  {
   "cell_type": "code",
   "execution_count": 28,
   "metadata": {
    "collapsed": false
   },
   "outputs": [
    {
     "data": {
      "text/plain": [
       "[0]"
      ]
     },
     "execution_count": 28,
     "metadata": {},
     "output_type": "execute_result"
    }
   ],
   "source": [
    "#figure(figsize=(16, 9))\n",
    "word_count_history"
   ]
  },
  {
   "cell_type": "code",
   "execution_count": null,
   "metadata": {
    "collapsed": true
   },
   "outputs": [],
   "source": []
  }
 ],
 "metadata": {
  "kernelspec": {
   "display_name": "Python 3",
   "language": "python",
   "name": "python3"
  },
  "language_info": {
   "codemirror_mode": {
    "name": "ipython",
    "version": 3
   },
   "file_extension": ".py",
   "mimetype": "text/x-python",
   "name": "python",
   "nbconvert_exporter": "python",
   "pygments_lexer": "ipython3",
   "version": "3.4.4"
  },
  "widgets": {
   "state": {},
   "version": "1.1.2"
  }
 },
 "nbformat": 4,
 "nbformat_minor": 0
}
