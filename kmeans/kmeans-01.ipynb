{
 "cells": [
  {
   "cell_type": "markdown",
   "metadata": {},
   "source": [
    "# KMeans Clustering\n",
    "\n",
    "This notebook demonstrates a KMeans algorithm tested on the SPAETH Clustering Dataset."
   ]
  },
  {
   "cell_type": "code",
   "execution_count": 38,
   "metadata": {
    "collapsed": false
   },
   "outputs": [],
   "source": [
    "import sys\n",
    "from kmeans import KMeansModel\n",
    "from matplotlib import pyplot as plt\n",
    "%matplotlib inline"
   ]
  },
  {
   "cell_type": "markdown",
   "metadata": {},
   "source": [
    "Load the data and store each pair of x, y in a `np.array`"
   ]
  },
  {
   "cell_type": "code",
   "execution_count": 61,
   "metadata": {
    "collapsed": false
   },
   "outputs": [],
   "source": [
    "with open('../data/spaeth_08.txt') as f:\n",
    "    for l in f:\n",
    "        if '#' not in l:\n",
    "            lines.append(l.strip('\\n'))\n",
    "        line = f.readline()\n",
    "\n",
    "data = []\n",
    "for line in lines:\n",
    "    parts = line.split()\n",
    "    if len(parts) == 2:\n",
    "        x = float(parts[0])\n",
    "        y = float(parts[1])\n",
    "        data.append(np.array([x, y]))"
   ]
  },
  {
   "cell_type": "markdown",
   "metadata": {},
   "source": [
    "Create a KMeans model. The parameter `k` indicates how many clusters to group the data into"
   ]
  },
  {
   "cell_type": "code",
   "execution_count": 62,
   "metadata": {
    "collapsed": false
   },
   "outputs": [],
   "source": [
    "k = 3\n",
    "model = KMeansModel(data)\n",
    "model.run(k)"
   ]
  },
  {
   "cell_type": "markdown",
   "metadata": {},
   "source": [
    "## Visualize the results. \n",
    "Each cluster is represented in a unique color with a red circle representing the __centroid__."
   ]
  },
  {
   "cell_type": "code",
   "execution_count": 60,
   "metadata": {
    "collapsed": false
   },
   "outputs": [
    {
     "data": {
      "text/plain": [
       "[]"
      ]
     },
     "execution_count": 60,
     "metadata": {},
     "output_type": "execute_result"
    },
    {
     "name": "stderr",
     "output_type": "stream",
     "text": [
      "/Users/jeremy/anaconda/lib/python3.4/site-packages/matplotlib/collections.py:590: FutureWarning: elementwise comparison failed; returning scalar instead, but in the future will perform elementwise comparison\n",
      "  if self._edgecolors == str('face'):\n"
     ]
    },
    {
     "data": {
      "image/png": "[encoded data removed]",
      "text/plain": [
       "<matplotlib.figure.Figure at 0x10d8039b0>"
      ]
     },
     "metadata": {},
     "output_type": "display_data"
    }
   ],
   "source": [
    "x = [data[0] for v in data]\n",
    "y = [data[1] for v in data]\n",
    "colors = deque(['b', 'r', 'w', 'k', 'c', 'm', 'y', 'g', 'orange', 'brown'])\n",
    "\n",
    "fig = plt.figure(figsize=(16, 9))\n",
    "ax = fig.add_subplot(1, 1, 1)\n",
    "\n",
    "for k in model.clusters:\n",
    "    x = [v[0] for v in model.clusters[k]]\n",
    "    y = [v[1] for v in model.clusters[k]]\n",
    "    ax.scatter(x, y, color=colors[0], s=32)\n",
    "    colors.rotate()\n",
    "\n",
    "for mean in model.means:\n",
    "    x = [v[0] for v in model.means]\n",
    "    y = [v[1] for v in model.means]\n",
    "    ax.scatter(x, y, color='r', s=64, alpha=0.3)\n",
    "\n",
    "#ax.title('K-means Clustering : %d Iterations' % (model.iterations))\n",
    "ax.set_ylabel('Y')\n",
    "ax.set_xlabel('X')\n",
    "ax.plot()"
   ]
  },
  {
   "cell_type": "code",
   "execution_count": null,
   "metadata": {
    "collapsed": true
   },
   "outputs": [],
   "source": []
  }
 ],
 "metadata": {
  "kernelspec": {
   "display_name": "Python 3",
   "language": "python",
   "name": "python3"
  },
  "language_info": {
   "codemirror_mode": {
    "name": "ipython",
    "version": 3
   },
   "file_extension": ".py",
   "mimetype": "text/x-python",
   "name": "python",
   "nbconvert_exporter": "python",
   "pygments_lexer": "ipython3",
   "version": "3.4.4"
  }
 },
 "nbformat": 4,
 "nbformat_minor": 0
}
