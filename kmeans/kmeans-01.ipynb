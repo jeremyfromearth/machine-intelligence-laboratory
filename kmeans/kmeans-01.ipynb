{
 "cells": [
  {
   "cell_type": "markdown",
   "metadata": {},
   "source": [
    "# KMeans Clustering\n",
    "\n",
    "This notebook demonstrates a KMeans algorithm tested on the SPAETH Clustering Dataset."
   ]
  },
  {
   "cell_type": "code",
   "execution_count": 1,
   "metadata": {
    "collapsed": false
   },
   "outputs": [
    {
     "name": "stderr",
     "output_type": "stream",
     "text": [
      "/Users/jeremy/anaconda/lib/python3.4/site-packages/pandas/computation/__init__.py:19: UserWarning: The installed version of numexpr 2.4.4 is not supported in pandas and will be not be used\n",
      "\n",
      "  UserWarning)\n"
     ]
    }
   ],
   "source": [
    "import sys\n",
    "import numpy as np\n",
    "import pandas as pd\n",
    "from kmeans import KMeansModel, KMeansPlusPlusInitializer\n",
    "from matplotlib import pyplot as plt\n",
    "%matplotlib inline"
   ]
  },
  {
   "cell_type": "markdown",
   "metadata": {},
   "source": [
    "## Load and transform data\n",
    "Load the data into a Pandas DataFrame. The SPAETH files contain headers. Each line of which is preceeded with a `#`, so we'll filter out those lines."
   ]
  },
  {
   "cell_type": "code",
   "execution_count": 2,
   "metadata": {
    "collapsed": false
   },
   "outputs": [
    {
     "data": {
      "text/html": [
       "<div>\n",
       "<table border=\"1\" class=\"dataframe\">\n",
       "  <thead>\n",
       "    <tr style=\"text-align: right;\">\n",
       "      <th></th>\n",
       "      <th>x</th>\n",
       "      <th>y</th>\n",
       "    </tr>\n",
       "  </thead>\n",
       "  <tbody>\n",
       "    <tr>\n",
       "      <th>0</th>\n",
       "      <td>25.0</td>\n",
       "      <td>42.0</td>\n",
       "    </tr>\n",
       "    <tr>\n",
       "      <th>1</th>\n",
       "      <td>23.0</td>\n",
       "      <td>40.0</td>\n",
       "    </tr>\n",
       "    <tr>\n",
       "      <th>2</th>\n",
       "      <td>25.0</td>\n",
       "      <td>40.0</td>\n",
       "    </tr>\n",
       "    <tr>\n",
       "      <th>3</th>\n",
       "      <td>21.0</td>\n",
       "      <td>39.0</td>\n",
       "    </tr>\n",
       "    <tr>\n",
       "      <th>4</th>\n",
       "      <td>22.0</td>\n",
       "      <td>37.0</td>\n",
       "    </tr>\n",
       "  </tbody>\n",
       "</table>\n",
       "</div>"
      ],
      "text/plain": [
       "      x     y\n",
       "0  25.0  42.0\n",
       "1  23.0  40.0\n",
       "2  25.0  40.0\n",
       "3  21.0  39.0\n",
       "4  22.0  37.0"
      ]
     },
     "execution_count": 2,
     "metadata": {},
     "output_type": "execute_result"
    }
   ],
   "source": [
    "def load_spaeth_data(filepath):\n",
    "    lines = []\n",
    "    with open(filepath) as f:\n",
    "        for line in f:\n",
    "            if '#' not in line:\n",
    "                lines.append(line.split())\n",
    "    return lines\n",
    "\n",
    "lines = load_spaeth_data('../data/spaeth_06.txt')\n",
    "df = pd.DataFrame(lines, columns=['x', 'y'], dtype=float)\n",
    "df.head()"
   ]
  },
  {
   "cell_type": "markdown",
   "metadata": {},
   "source": [
    "## Build the model\n",
    "The parameter `k` indicates how many clusters to group the data into"
   ]
  },
  {
   "cell_type": "code",
   "execution_count": 9,
   "metadata": {
    "collapsed": false
   },
   "outputs": [
    {
     "name": "stdout",
     "output_type": "stream",
     "text": [
      "[array([ 11.,  25.]), array([ 41.,   3.]), array([ 25.,  42.]), array([ 25.,  42.])]\n"
     ]
    }
   ],
   "source": [
    "model = KMeansModel()\n",
    "model.initializer = KMeansPlusPlusInitializer()\n",
    "model.learn(df, ['x', 'y'], k=4)"
   ]
  },
  {
   "cell_type": "markdown",
   "metadata": {},
   "source": [
    "## Visualize the results\n",
    "Each cluster is represented in a unique color with a red circle representing the __centroid__."
   ]
  },
  {
   "cell_type": "code",
   "execution_count": 10,
   "metadata": {
    "collapsed": false
   },
   "outputs": [
    {
     "data": {
      "text/plain": [
       "[]"
      ]
     },
     "execution_count": 10,
     "metadata": {},
     "output_type": "execute_result"
    },
    {
     "name": "stderr",
     "output_type": "stream",
     "text": [
      "/Users/jeremy/anaconda/lib/python3.4/site-packages/matplotlib/collections.py:590: FutureWarning: elementwise comparison failed; returning scalar instead, but in the future will perform elementwise comparison\n",
      "  if self._edgecolors == str('face'):\n"
     ]
    },
    {
     "data": {
      "image/png": "[encoded data removed]",
      "text/plain": [
       "<matplotlib.figure.Figure at 0x10a45e6a0>"
      ]
     },
     "metadata": {},
     "output_type": "display_data"
    }
   ],
   "source": [
    "from collections import deque\n",
    "from scipy.spatial import ConvexHull\n",
    "\n",
    "colors = deque(['b', 'r', 'w', 'k', 'c', 'm', 'y', 'g', 'orange', 'brown'])\n",
    "fig = plt.figure(figsize=(16, 9))\n",
    "ax = fig.add_subplot(1, 1, 1)\n",
    "for k, cluster in model.clusters.items():\n",
    "    # plot each point in each cluster in the scatter plot \n",
    "    x = [v[0] for v in cluster]\n",
    "    y = [v[1] for v in cluster]\n",
    "    ax.scatter(x, y, color=colors[0], s=16)\n",
    "    \n",
    "    # can only draw a hull if there are three or more points\n",
    "    if len(cluster) >= 3:\n",
    "        # draw the convex hull of each cluster\n",
    "        hull = ConvexHull(cluster)\n",
    "        for simplex in hull.simplices:\n",
    "            plt.plot(np.array(cluster)[simplex, 0], np.array(cluster)[simplex, 1], 'k-', c=colors[0])\n",
    "    \n",
    "    # plot the means\n",
    "    x = model.means[k][0]\n",
    "    y = model.means[k][1]\n",
    "    ax.scatter(x, y, color=colors[0], s=64)\n",
    "    ax.text(x, y + 1, str(k), fontsize=15, color='r')\n",
    "    colors.rotate()\n",
    "\n",
    "#for i in range(len(model.means)):\n",
    "    #\n",
    "\n",
    "ax.set_ylabel('Y')\n",
    "ax.set_xlabel('X')\n",
    "ax.plot()"
   ]
  },
  {
   "cell_type": "code",
   "execution_count": 11,
   "metadata": {
    "collapsed": false
   },
   "outputs": [
    {
     "name": "stdout",
     "output_type": "stream",
     "text": [
      "Predictions:  [3, 3, 3, 3, 3, 3]\n",
      "[array([ 14.1,  17.4]), array([ 28.44444444,   4.88888889]), array([ 36.4,  29.4]), array([ 19.54545455,  35.63636364])]\n",
      "[[ 25.  42.]]\n",
      "delta for first point:  44.7772263545\n"
     ]
    }
   ],
   "source": [
    "predictions = model.predict(df[:6], ['x', 'y'])\n",
    "print('Predictions: ', predictions)\n",
    "print(model.means)\n",
    "print(df[:1].as_matrix())\n",
    "print('delta for first point: ', np.linalg.norm(df[:1].as_matrix() - predictions[0]))"
   ]
  },
  {
   "cell_type": "code",
   "execution_count": 12,
   "metadata": {
    "collapsed": false
   },
   "outputs": [
    {
     "name": "stdout",
     "output_type": "stream",
     "text": [
      "[array([ 14.1,  17.4]), array([ 28.44444444,   4.88888889]), array([ 36.4,  29.4]), array([ 19.54545455,  35.63636364])]\n"
     ]
    }
   ],
   "source": [
    "print(model.means)"
   ]
  },
  {
   "cell_type": "code",
   "execution_count": null,
   "metadata": {
    "collapsed": true
   },
   "outputs": [],
   "source": []
  }
 ],
 "metadata": {
  "kernelspec": {
   "display_name": "Python 3",
   "language": "python",
   "name": "python3"
  },
  "language_info": {
   "codemirror_mode": {
    "name": "ipython",
    "version": 3
   },
   "file_extension": ".py",
   "mimetype": "text/x-python",
   "name": "python",
   "nbconvert_exporter": "python",
   "pygments_lexer": "ipython3",
   "version": "3.4.4"
  },
  "widgets": {
   "state": {},
   "version": "1.1.2"
  }
 },
 "nbformat": 4,
 "nbformat_minor": 0
}
